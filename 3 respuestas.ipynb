{
 "metadata": {
  "language": "Julia",
  "name": "",
  "signature": "sha256:7c93c70c1d5dc626eba931079ac56d66d49beb05c03f56b73c4b542c0d66e9b7"
 },
 "nbformat": 3,
 "nbformat_minor": 0,
 "worksheets": [
  {
   "cells": [
    {
     "cell_type": "code",
     "collapsed": false,
     "input": [
      " n=3*10^5+1*10^4+4*10^3+1*10^2+5*10+9 #[1]"
     ],
     "language": "python",
     "metadata": {},
     "outputs": [
      {
       "metadata": {},
       "output_type": "pyout",
       "prompt_number": 1,
       "text": [
        "314159"
       ]
      }
     ],
     "prompt_number": 1
    },
    {
     "cell_type": "code",
     "collapsed": false,
     "input": [
      "n=\"314159\""
     ],
     "language": "python",
     "metadata": {},
     "outputs": [
      {
       "metadata": {},
       "output_type": "pyout",
       "prompt_number": 2,
       "text": [
        "\"314159\""
       ]
      }
     ],
     "prompt_number": 2
    },
    {
     "cell_type": "code",
     "collapsed": false,
     "input": [
      "length(ans)"
     ],
     "language": "python",
     "metadata": {},
     "outputs": [
      {
       "metadata": {},
       "output_type": "pyout",
       "prompt_number": 3,
       "text": [
        "6"
       ]
      }
     ],
     "prompt_number": 3
    },
    {
     "cell_type": "code",
     "collapsed": false,
     "input": [
      "function  cad(x::ASCIIString)\n",
      "        for i in 1:length(x)\n",
      "        println(int(x[i])-48)\n",
      "        end\n",
      "end"
     ],
     "language": "python",
     "metadata": {},
     "outputs": [
      {
       "metadata": {},
       "output_type": "pyout",
       "prompt_number": 9,
       "text": [
        "cad (generic function with 1 method)"
       ]
      }
     ],
     "prompt_number": 9
    },
    {
     "cell_type": "code",
     "collapsed": false,
     "input": [
      "typeof(cad(\"10\"))"
     ],
     "language": "python",
     "metadata": {},
     "outputs": [
      {
       "output_type": "stream",
       "stream": "stdout",
       "text": [
        "1\n"
       ]
      },
      {
       "output_type": "stream",
       "stream": "stdout",
       "text": [
        "0\n"
       ]
      },
      {
       "metadata": {},
       "output_type": "pyout",
       "prompt_number": 10,
       "text": [
        "Nothing (constructor with 1 method)"
       ]
      }
     ],
     "prompt_number": 10
    },
    {
     "cell_type": "code",
     "collapsed": false,
     "input": [
      "#=function binarioadecimal(x::ASCIIString)\n",
      "    suma=0\n",
      "        for i  in 1:length(x)\n",
      "        suma+= (2^(length(x)-i))*(int(x[i])-48)\n",
      "        end\n",
      "    suma\n",
      "end=#"
     ],
     "language": "python",
     "metadata": {},
     "outputs": [],
     "prompt_number": 19
    },
    {
     "cell_type": "code",
     "collapsed": false,
     "input": [],
     "language": "python",
     "metadata": {},
     "outputs": [
      {
       "metadata": {},
       "output_type": "pyout",
       "prompt_number": 6,
       "text": [
        "50"
       ]
      }
     ],
     "prompt_number": 6
    },
    {
     "cell_type": "code",
     "collapsed": false,
     "input": [
      "function binarioadecimal(x::ASCIIString)\n",
      "    suma=0\n",
      "        for i  in 1:length(x)\n",
      "        suma+= (2^(length(x)-i))*(int(x[i])-48)\n",
      "        end\n",
      "suma=\"$suma\"\n",
      "    end"
     ],
     "language": "python",
     "metadata": {},
     "outputs": [
      {
       "metadata": {},
       "output_type": "pyout",
       "prompt_number": 141,
       "text": [
        "binarioadecimal (generic function with 3 methods)"
       ]
      }
     ],
     "prompt_number": 141
    },
    {
     "cell_type": "code",
     "collapsed": false,
     "input": [
      "  b=Int64[]\n"
     ],
     "language": "python",
     "metadata": {},
     "outputs": [
      {
       "metadata": {},
       "output_type": "pyout",
       "prompt_number": 33,
       "text": [
        "1-element Array{Int64,1}:\n",
        " 0"
       ]
      }
     ],
     "prompt_number": 33
    },
    {
     "cell_type": "code",
     "collapsed": false,
     "input": [
      "  b=Int64[];  \n",
      "\n",
      "for i in 1:5\n",
      "push!(b,0)\n",
      "end\n",
      "b"
     ],
     "language": "python",
     "metadata": {},
     "outputs": [
      {
       "metadata": {},
       "output_type": "pyout",
       "prompt_number": 92,
       "text": [
        "5-element Array{Int64,1}:\n",
        " 0\n",
        " 0\n",
        " 0\n",
        " 0\n",
        " 0"
       ]
      }
     ],
     "prompt_number": 92
    },
    {
     "cell_type": "code",
     "collapsed": true,
     "input": [
      "function decimalabinario(n)\n",
      "  a=Int64[];\n",
      "  b=Int64[];  \n",
      "  c=Int64[]; \n",
      "\n",
      "\n",
      "            if n >= 0\n",
      "                    println(\"el primer elemento es el bit de n\u00famero , 0 es +\")\n",
      "                    push!(c,0) \n",
      "                            for i in 1:5\n",
      "                            push!(c,0)\n",
      "                            end\n",
      "\n",
      "            else n < 0   \n",
      "                    println(\"el primer elemento es el bit de n\u00famero 1 es -\")\n",
      "                    n=-n\n",
      "                    push!(c,1) \n",
      "                            for i in 1:5\n",
      "                            push!(c,0)\n",
      "                            end\n",
      "\n",
      "            end\n",
      "\n",
      "\n",
      "\n",
      "\n",
      "    \n",
      "\n",
      "while(floor(n/2)>=1)\n",
      "    #=println(n%2)=#\n",
      "    push!(a,n%2)\n",
      "    n=div(n,2)\n",
      "end\n",
      "\n",
      "#=println(floor(n))=#\n",
      "push!(a,floor(n));\n",
      "\n",
      "#=Hasta aqu\u00ed te deja el n\u00famero binario pero al rev\u00e9s, el siguiente for es para voltearlo=#\n",
      "\n",
      "for i in 0:length(a)-1\n",
      "    push!(b,a[length(a)-i])\n",
      "  end\n",
      "\n",
      "b=hcat(transpose(c),transpose(b))\n",
      "b=join(transpose(b)) #=para ponerlo en forma de string rengl\u00f3n=#\n",
      "\n",
      "end"
     ],
     "language": "python",
     "metadata": {},
     "outputs": [
      {
       "metadata": {},
       "output_type": "pyout",
       "prompt_number": 111,
       "text": [
        "decimalabinario (generic function with 1 method)"
       ]
      }
     ],
     "prompt_number": 111
    },
    {
     "cell_type": "code",
     "collapsed": false,
     "input": [
      "bits(-20)"
     ],
     "language": "python",
     "metadata": {},
     "outputs": [
      {
       "metadata": {},
       "output_type": "pyout",
       "prompt_number": 116,
       "text": [
        "\"1111111111111111111111111111111111111111111111111111111111101100\""
       ]
      }
     ],
     "prompt_number": 116
    },
    {
     "cell_type": "code",
     "collapsed": false,
     "input": [
      "decimalabinario(-20)"
     ],
     "language": "python",
     "metadata": {},
     "outputs": [
      {
       "output_type": "stream",
       "stream": "stdout",
       "text": [
        "el primer elemento es el bit de n\u00famero 1 es -\n"
       ]
      },
      {
       "metadata": {},
       "output_type": "pyout",
       "prompt_number": 126,
       "text": [
        "\"10000010100\""
       ]
      }
     ],
     "prompt_number": 126
    },
    {
     "cell_type": "heading",
     "level": 1,
     "metadata": {},
     "source": [
      "Reales"
     ]
    },
    {
     "cell_type": "code",
     "collapsed": false,
     "input": [
      "3.0*10^1.0 + 1*10^0.0 + 4*10.0^-1 + 1*10.0^-2 + 5*10.0^-3 + 9*10.0^-4    #=[4]=#   #= p=31.4159=#  "
     ],
     "language": "python",
     "metadata": {},
     "outputs": [
      {
       "metadata": {},
       "output_type": "pyout",
       "prompt_number": 121,
       "text": [
        "31.4159"
       ]
      }
     ],
     "prompt_number": 121
    },
    {
     "cell_type": "code",
     "collapsed": false,
     "input": [
      "function binarioconpuntosadecimal(x::ASCIIString)\n",
      "        pospun=search(x,'.')\n",
      "\n",
      "suma=0.0;\n",
      "y=A[1:pospun-1];\n",
      "z=A[pospun+1:end];\n",
      "\n",
      "\n",
      "#Ajustar el ciclo para totas las posiciones\n",
      "\n",
      "        for i  in 1:length(x)  \n",
      "        suma+= (2.0^(pospun-i-1))*(int(x[i])-48)\n",
      "        end\n",
      "\n",
      "#suma=\"$suma\" \n",
      "suma\n",
      "end"
     ],
     "language": "python",
     "metadata": {},
     "outputs": [
      {
       "metadata": {},
       "output_type": "pyout",
       "prompt_number": 225,
       "text": [
        "binarioconpuntosadecimal (generic function with 1 method)"
       ]
      }
     ],
     "prompt_number": 225
    },
    {
     "cell_type": "code",
     "collapsed": false,
     "input": [
      "integer(1.01)"
     ],
     "language": "python",
     "metadata": {},
     "outputs": [
      {
       "metadata": {},
       "output_type": "pyout",
       "prompt_number": 232,
       "text": [
        "1"
       ]
      }
     ],
     "prompt_number": 232
    },
    {
     "cell_type": "code",
     "collapsed": false,
     "input": [
      "string(ans)"
     ],
     "language": "python",
     "metadata": {},
     "outputs": [
      {
       "metadata": {},
       "output_type": "pyout",
       "prompt_number": 218,
       "text": [
        "\"0.125\""
       ]
      }
     ],
     "prompt_number": 218
    },
    {
     "cell_type": "code",
     "collapsed": false,
     "input": [
      "typeof(ans)"
     ],
     "language": "python",
     "metadata": {},
     "outputs": [
      {
       "metadata": {},
       "output_type": "pyout",
       "prompt_number": 219,
       "text": [
        "ASCIIString (constructor with 2 methods)"
       ]
      }
     ],
     "prompt_number": 219
    },
    {
     "cell_type": "code",
     "collapsed": false,
     "input": [
      "\"$15+1$\""
     ],
     "language": "python",
     "metadata": {},
     "outputs": [
      {
       "ename": "LoadError",
       "evalue": "syntax: invalid interpolation syntax: \"1\"\nwhile loading In[212], in expression starting on line 1",
       "output_type": "pyerr",
       "traceback": [
        "syntax: invalid interpolation syntax: \"1\"\nwhile loading In[212], in expression starting on line 1",
        ""
       ]
      }
     ],
     "prompt_number": 212
    },
    {
     "cell_type": "code",
     "collapsed": false,
     "input": [
      "z"
     ],
     "language": "python",
     "metadata": {},
     "outputs": [
      {
       "metadata": {},
       "output_type": "pyout",
       "prompt_number": 188,
       "text": [
        "\"001\""
       ]
      }
     ],
     "prompt_number": 188
    },
    {
     "cell_type": "code",
     "collapsed": false,
     "input": [
      "  pospun=search(A,'.')\n",
      "\n",
      "y=A[1:pospun-1]"
     ],
     "language": "python",
     "metadata": {},
     "outputs": [
      {
       "metadata": {},
       "output_type": "pyout",
       "prompt_number": 164,
       "text": [
        "\"101\""
       ]
      }
     ],
     "prompt_number": 164
    },
    {
     "cell_type": "code",
     "collapsed": false,
     "input": [],
     "language": "python",
     "metadata": {},
     "outputs": []
    }
   ],
   "metadata": {}
  }
 ]
}
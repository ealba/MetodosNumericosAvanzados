{
 "metadata": {
  "language": "Julia",
  "name": "",
  "signature": "sha256:4ac385af69b06a659e27274cd4d6fe26e29ee0cc076d9038179fb201a422cf16"
 },
 "nbformat": 3,
 "nbformat_minor": 0,
 "worksheets": [
  {
   "cells": [
    {
     "cell_type": "heading",
     "level": 1,
     "metadata": {},
     "source": [
      "Enteros SIEMPRE ES MEJOR EMPEZAR POR EL PEQUE\u00d1O"
     ]
    },
    {
     "cell_type": "markdown",
     "metadata": {},
     "source": [
      "1] Pensemos en el entero $n = 314159$. Sus d\u00edgitos son $a_5 = 3$, $a_4 = 1$, ..., $a_0 = 9$. \n",
      "Escribe $n$ en t\u00e9rminos de potencias de $10$.  Podemos escribir $314159_{10}$ para enfatizar la base."
     ]
    },
    {
     "cell_type": "code",
     "collapsed": false,
     "input": [
      " n=3*10^5+1*10^4+4*10^3+1*10^2+5*10+9"
     ],
     "language": "python",
     "metadata": {},
     "outputs": [
      {
       "metadata": {},
       "output_type": "pyout",
       "prompt_number": 78,
       "text": [
        "314159"
       ]
      }
     ],
     "prompt_number": 78
    },
    {
     "cell_type": "code",
     "collapsed": false,
     "input": [
      "n=\"314159\""
     ],
     "language": "python",
     "metadata": {},
     "outputs": [
      {
       "metadata": {},
       "output_type": "pyout",
       "prompt_number": 79,
       "text": [
        "\"314159\""
       ]
      }
     ],
     "prompt_number": 79
    },
    {
     "cell_type": "markdown",
     "metadata": {},
     "source": [
      "[2] La computadora trabaja en t\u00e9rminos de *d\u00edgitos binarios*, o bits, que pueden tomar s\u00f3lo el valor 0 o 1, y por lo tanto representa los n\u00fameros en base 2. Cu\u00e1l es la representaci\u00f3n en base 2 (*binario*) del n\u00famero $n = 50_{10}$?"
     ]
    },
    {
     "cell_type": "markdown",
     "metadata": {},
     "source": [
      " n= 50 (en base 10) es equivalente a n= 110010 (en base 2)"
     ]
    },
    {
     "cell_type": "code",
     "collapsed": false,
     "input": [
      "function  cad(x::ASCIIString)\n",
      "        for i in 1:length(x)\n",
      "        println(int(x[i])-48)\n",
      "        end\n",
      "end"
     ],
     "language": "python",
     "metadata": {},
     "outputs": [
      {
       "metadata": {},
       "output_type": "pyout",
       "prompt_number": 80,
       "text": [
        "cad (generic function with 1 method)"
       ]
      }
     ],
     "prompt_number": 80
    },
    {
     "cell_type": "markdown",
     "metadata": {},
     "source": [
      "[3] (i) Escribe una funci\u00f3n que acepta una cadena en binario y regresa el entero correspondiente:"
     ]
    },
    {
     "cell_type": "code",
     "collapsed": false,
     "input": [
      "function binarioadecimal(x::ASCIIString)\n",
      "    suma=0\n",
      "        for i  in 1:length(x)\n",
      "        suma+= (2^(length(x)-i))*(int(x[i])-48)\n",
      "        end\n",
      "    suma\n",
      "end"
     ],
     "language": "python",
     "metadata": {},
     "outputs": [
      {
       "metadata": {},
       "output_type": "pyout",
       "prompt_number": 81,
       "text": [
        "binarioadecimal (generic function with 1 method)"
       ]
      }
     ],
     "prompt_number": 81
    },
    {
     "cell_type": "code",
     "collapsed": false,
     "input": [
      "            #Si se nos hubiera pedido una funci\u00f3n que acepte una cadena en binario y regrese una cadena en decimal:\n",
      "\n",
      "                #=    function binarioadecimal(x::ASCIIString)\n",
      "                    suma=0\n",
      "                        for i  in 1:length(x)\n",
      "                        suma+= (2^(length(x)-i))*(int(x[i])-48)\n",
      "                        end\n",
      "                suma=\"$suma\"\n",
      "                    end                 =#"
     ],
     "language": "python",
     "metadata": {},
     "outputs": [],
     "prompt_number": 82
    },
    {
     "cell_type": "markdown",
     "metadata": {},
     "source": [
      "[3] (ii) Escribe una funci\u00f3n que acepta un entero y regresa su representaci\u00f3n en binario como una cadena. Comprueba tu respuesta usando la funci\u00f3n `bits` de Julia."
     ]
    },
    {
     "cell_type": "markdown",
     "metadata": {},
     "source": [
      "El siguiente programa toma numeros enteros positivos o negativos y regresa un binario. El signo lo asign\u00e9 con los primeros sinco bits (de izquierda a derecha). Donde si el primer bit es 0, el n\u00famero es positivo, si es 1 entonces el bit es negativo. No entiendo a\u00fan por qu\u00e9 la computadora asigna un chorro de  bits de signo, ni cu\u00e1l es la regla que sigue para asignarlos."
     ]
    },
    {
     "cell_type": "code",
     "collapsed": false,
     "input": [
      "function decimalabinario(n)\n",
      "  a=Int64[];\n",
      "  b=Int64[];  \n",
      "  c=Int64[]; \n",
      "\n",
      "\n",
      "\n",
      "            #=if n >= 0\n",
      "                    #=println(\"el primer elemento es el bit de n\u00famero , 0 equivale a +\")=#\n",
      "                    push!(c,0) \n",
      "                            for i in 1\n",
      "                            push!(c,0)\n",
      "                            end\n",
      "\n",
      "            else n < 0   \n",
      "                    #=println(\"el primer elemento es el bit de n\u00famero 1 equivale a -\")=#\n",
      "                    n=-n\n",
      "                    push!(c,1) \n",
      "                            for i in 1:5\n",
      "                            push!(c,0)\n",
      "                            end\n",
      "\n",
      "            end\n",
      "=#\n",
      "\n",
      "\n",
      "\n",
      "    \n",
      "\n",
      "while(floor(n/2)>=1)\n",
      "    #=println(n%2)=#\n",
      "    push!(a,n%2)\n",
      "    n=div(n,2)\n",
      "end\n",
      "\n",
      "#=println(floor(n))=#\n",
      "push!(a,floor(n));\n",
      "\n",
      "#=Hasta aqu\u00ed te deja el n\u00famero binario pero al rev\u00e9s, el siguiente for es para voltearlo=#\n",
      "\n",
      "for i in 0:length(a)-1\n",
      "    push!(b,a[length(a)-i])\n",
      "  end\n",
      "\n",
      "b=hcat(transpose(c),transpose(b))\n",
      "b=join(transpose(b)) #=para ponerlo en forma de string rengl\u00f3n=#\n",
      "\n",
      "end"
     ],
     "language": "python",
     "metadata": {},
     "outputs": [
      {
       "metadata": {},
       "output_type": "pyout",
       "prompt_number": 83,
       "text": [
        "decimalabinario (generic function with 1 method)"
       ]
      }
     ],
     "prompt_number": 83
    },
    {
     "cell_type": "code",
     "collapsed": false,
     "input": [
      "decimalabinario(-1)"
     ],
     "language": "python",
     "metadata": {},
     "outputs": [
      {
       "metadata": {},
       "output_type": "pyout",
       "prompt_number": 84,
       "text": [
        "\"-1\""
       ]
      }
     ],
     "prompt_number": 84
    },
    {
     "cell_type": "code",
     "collapsed": false,
     "input": [
      "length(bits(-1))"
     ],
     "language": "python",
     "metadata": {},
     "outputs": [
      {
       "metadata": {},
       "output_type": "pyout",
       "prompt_number": 85,
       "text": [
        "64"
       ]
      }
     ],
     "prompt_number": 85
    },
    {
     "cell_type": "markdown",
     "metadata": {},
     "source": [
      "No logro entender por qu\u00e9 arroja estos 63 unos, antes del valor num\u00e9rico del n\u00famero binario, pero debe de ser para representar el signo"
     ]
    },
    {
     "cell_type": "code",
     "collapsed": false,
     "input": [],
     "language": "python",
     "metadata": {},
     "outputs": [],
     "prompt_number": 86
    },
    {
     "cell_type": "code",
     "collapsed": false,
     "input": [],
     "language": "python",
     "metadata": {},
     "outputs": [],
     "prompt_number": 87
    },
    {
     "cell_type": "heading",
     "level": 1,
     "metadata": {},
     "source": [
      "N\u00fameros Reales"
     ]
    },
    {
     "cell_type": "code",
     "collapsed": false,
     "input": [
      "[4] Escribe el n\u00famero $p = 31.4159$ en t\u00e9rminos de potencias de $10$. \u00bfC\u00f3mo podemos llamar a los d\u00edgitos para que la expresi\u00f3n quede bonita?"
     ],
     "language": "python",
     "metadata": {},
     "outputs": [
      {
       "ename": "LoadError",
       "evalue": "syntax: extra token \"Escribe\" after end of expression\nwhile loading In[88], in expression starting on line 1",
       "output_type": "pyerr",
       "traceback": [
        "syntax: extra token \"Escribe\" after end of expression\nwhile loading In[88], in expression starting on line 1",
        ""
       ]
      }
     ],
     "prompt_number": 88
    },
    {
     "cell_type": "markdown",
     "metadata": {},
     "source": [
      "Podr\u00edamos llamar a cada elemento como bi, as\u00ed un n\u00famero EN BASE DIEZ se puede expresar como: n= \u03a3 bi*10^i"
     ]
    },
    {
     "cell_type": "code",
     "collapsed": false,
     "input": [
      "3.0*10^1.0 + 1*10^0.0 + 4*10.0^-1 + 1*10.0^-2 + 5*10.0^-3 + 9*10.0^-4    #=[4]=#   #= p=31.4159=#  "
     ],
     "language": "python",
     "metadata": {},
     "outputs": [
      {
       "metadata": {},
       "output_type": "pyout",
       "prompt_number": 89,
       "text": [
        "31.4159"
       ]
      }
     ],
     "prompt_number": 89
    },
    {
     "cell_type": "markdown",
     "metadata": {},
     "source": [
      "[5] (i)  \u00bfCu\u00e1l es el valor del n\u00famero $101.0101_{2}$? Aqu\u00ed hemos utilizado un \"punto binario\".\n",
      "\n",
      "$101.0101_{2}$ es equivalente a  $5.3125_{10}$"
     ]
    },
    {
     "cell_type": "markdown",
     "metadata": {},
     "source": [
      "[5] (ii) (ii) Escribe una funci\u00f3n que toma una cadena en binario que incluya un punto y regresa el n\u00famero correspondiente:"
     ]
    },
    {
     "cell_type": "code",
     "collapsed": false,
     "input": [
      "function binarioconpuntosadecimal(x::ASCIIString)\n",
      "        pospun=search(x,'.') \n",
      "\n",
      "suma=0.0;\n",
      "y=x[1:pospun-1];\n",
      "z=x[pospun+1:end];\n",
      "w=Int64[]\n",
      "\n",
      "                #=Dos ciclos for para poner hacer el mismo binario pero en un arreglo sin el punto decimal=#\n",
      "                for i=1:pospun-1\n",
      "                    push!(w,int(y[i])-48)\n",
      "                end\n",
      "\n",
      "                for i=1:length(x)-pospun\n",
      "                    push!(w,int(z[i])-48)\n",
      "                end\n",
      "\n",
      "\n",
      "\n",
      "        for i  in 1: length(w)\n",
      "        suma+= (2.0^(pospun-i-1))*(int(w[i]))\n",
      "        end\n",
      "\n",
      "        #=for i  in 1:length(z)  \n",
      "        suma+= (2.0^(-i))*(int(z[i]))\n",
      "        end=#\n",
      "\n",
      "#suma=\"$suma\" #=DESCOMENTAR ESTE RENG\u00d3N Y COMENTAR EL QUE SIGUE SI LO QUE SE QUIERE DE SALIDA ES UNA CADENA Y NO UN N\u00daMERO=# \n",
      "suma\n",
      "end\n",
      "\n"
     ],
     "language": "python",
     "metadata": {},
     "outputs": [
      {
       "metadata": {},
       "output_type": "pyout",
       "prompt_number": 93,
       "text": [
        "binarioconpuntosadecimal (generic function with 1 method)"
       ]
      }
     ],
     "prompt_number": 93
    },
    {
     "cell_type": "code",
     "collapsed": false,
     "input": [
      "binarioconpuntosadecimal(\"0.0000000000000000000000000000000000000000000000000000001\")"
     ],
     "language": "python",
     "metadata": {},
     "outputs": [
      {
       "metadata": {},
       "output_type": "pyout",
       "prompt_number": 100,
       "text": [
        "2.7755575615628914e-17"
       ]
      }
     ],
     "prompt_number": 100
    },
    {
     "cell_type": "code",
     "collapsed": false,
     "input": [
      "binarioconpuntosadecimal(\"0.0000000000000000000000000000000000000000000000000001\")"
     ],
     "language": "python",
     "metadata": {},
     "outputs": [
      {
       "metadata": {},
       "output_type": "pyout",
       "prompt_number": 108,
       "text": [
        "2.220446049250313e-16"
       ]
      }
     ],
     "prompt_number": 108
    },
    {
     "cell_type": "markdown",
     "metadata": {},
     "source": [
      "[5] (iii) La funci\u00f3n que toma  un decimal con punto y regresa (la cadena de) binario correspondiente es:"
     ]
    },
    {
     "cell_type": "markdown",
     "metadata": {},
     "source": [
      "Aqu\u00ed me top\u00e9 con el problema de que n\u00famero-floor(n\u00famero) no siempre es lo que est\u00e1 a la izquerda del punto decimal (su parte decimal)\n",
      "Por lo que se me ocurrieron dos cosas:\n",
      "a) Hacer un programa que trabaje como si n\u00famero-floor(n\u00famero) fuera la parte decimal del n\u00famero\n",
      "b) Hacer un programa que ingrese por separado lo la parte entera y la parte decimal del n\u00famero"
     ]
    },
    {
     "cell_type": "markdown",
     "metadata": {},
     "source": [
      "PROGRAMA a)"
     ]
    },
    {
     "cell_type": "code",
     "collapsed": false,
     "input": [
      "function decimal_con_punto_a_binario(x::Float64)\n",
      "\n",
      "a=Int64[]\n",
      "parte_entera=floor(x);\n",
      "z=x-int(floor(x)); #=la parte decimal=#\n",
      "\n",
      "\n",
      "\n",
      "                                                                if z==0\n",
      "                                                                #=println(\"mejor usa el programa decimalabinario, porfa\")=#\n",
      "                                                                decimalabinario(x)\n",
      "                                                                \n",
      "\n",
      "\n",
      "                                                                else\n",
      "y=2.0*z\n",
      "    while(y != 1)\n",
      "                    if y< 1\n",
      "                    y=2.0*y\n",
      "                    push!(a,0)\n",
      "\n",
      "\n",
      "                    else y>1\n",
      "                    y=2.0*(y-1)\n",
      "                    push!(a,1)\n",
      "                    end\n",
      "    end\n",
      "                    push!(a,1)\n",
      "\n",
      "string(decimalabinario(parte_entera),\".\",join(transpose(a)))\n",
      "\n",
      "end\n",
      "\n",
      "end\n"
     ],
     "language": "python",
     "metadata": {},
     "outputs": [
      {
       "metadata": {},
       "output_type": "pyout",
       "prompt_number": 58,
       "text": [
        "decimal_con_punto_a_binario (generic function with 1 method)"
       ]
      }
     ],
     "prompt_number": 58
    },
    {
     "cell_type": "code",
     "collapsed": false,
     "input": [
      "decimal_con_punto_a_binario(1.2501)"
     ],
     "language": "python",
     "metadata": {},
     "outputs": [
      {
       "metadata": {},
       "output_type": "pyout",
       "prompt_number": 59,
       "text": [
        "\"1.0100000000000110100011011011100010111010110001110001\""
       ]
      }
     ],
     "prompt_number": 59
    },
    {
     "cell_type": "markdown",
     "metadata": {},
     "source": [
      "PROGRAMA b)"
     ]
    },
    {
     "cell_type": "code",
     "collapsed": false,
     "input": [
      "function decimal_con_punto_a_binario_2(x::Int64,z::Float64)\n",
      "\n",
      "#=En este se deben especificar por separado lo que va a la derecha y a la izquierda del punto decimal=#\n",
      "\n",
      "\n",
      "a=Int64[]\n",
      "\n",
      "\n",
      "                                                                if z==0\n",
      "                                                                #=println(\"mejor usa el programa decimalabinario, porfa\")=#\n",
      "                                                                decimalabinario(x)\n",
      "                                                                \n",
      "\n",
      "\n",
      "                                                                else\n",
      "y=2.0*z\n",
      "    while(y != 1)\n",
      "                    if y< 1\n",
      "                    y=2.0*y\n",
      "                    push!(a,0)\n",
      "\n",
      "\n",
      "                    else y>1\n",
      "                    y=2.0*(y-1)\n",
      "                    push!(a,1)\n",
      "                    end\n",
      "    end\n",
      "                    push!(a,1)\n",
      "\n",
      "string(decimalabinario(x),\".\",join(transpose(a)))\n",
      "\n",
      "                        end\n",
      "            \n",
      "                                                                                        end"
     ],
     "language": "python",
     "metadata": {},
     "outputs": [
      {
       "metadata": {},
       "output_type": "pyout",
       "prompt_number": 17,
       "text": [
        "decimal_con_punto_a_binario_2 (generic function with 1 method)"
       ]
      }
     ],
     "prompt_number": 17
    },
    {
     "cell_type": "code",
     "collapsed": false,
     "input": [
      "decimal_con_punto_a_binario(10.087)"
     ],
     "language": "python",
     "metadata": {},
     "outputs": [
      {
       "metadata": {},
       "output_type": "pyout",
       "prompt_number": 18,
       "text": [
        "\"1010.000101100100010110100001110010101100000010000011\""
       ]
      }
     ],
     "prompt_number": 18
    },
    {
     "cell_type": "code",
     "collapsed": false,
     "input": [
      "decimal_con_punto_a_binario_2(10,.087)"
     ],
     "language": "python",
     "metadata": {},
     "outputs": [
      {
       "metadata": {},
       "output_type": "pyout",
       "prompt_number": 19,
       "text": [
        "\"1010.0001011001000101101000011100101011000000100000110001001\""
       ]
      }
     ],
     "prompt_number": 19
    },
    {
     "cell_type": "code",
     "collapsed": false,
     "input": [
      "bits(10.087)  #No tengo idea de por qu\u00e9 sea diferente. Pero debe de ser por c\u00f3mo representa el n\u00famero la computadora"
     ],
     "language": "python",
     "metadata": {},
     "outputs": [
      {
       "metadata": {},
       "output_type": "pyout",
       "prompt_number": 20,
       "text": [
        "\"0100000000100100001011001000101101000011100101011000000100000110\""
       ]
      }
     ],
     "prompt_number": 20
    },
    {
     "cell_type": "markdown",
     "metadata": {},
     "source": [
      "[6]"
     ]
    },
    {
     "cell_type": "markdown",
     "metadata": {},
     "source": [
      "    El n\u00famero 0.1(base 10) se representa como 0.000110[00110 peri\u00f3dico]. Me parece que es algo t\u00edpico de una base, que se puedan dar n\u00fameros peri\u00f3dicos en su expansi\u00f3n al lado del punto. \u00a1Lo que me molesta es que intent\u00e9 sacarlo con mi programa decimal_con_punto_a_binario y tron\u00f3 la computadora!"
     ]
    },
    {
     "cell_type": "code",
     "collapsed": false,
     "input": [
      "decimal_con_punto_a_binario(1.1) #NOINTENTARLO CON EL OTRO"
     ],
     "language": "python",
     "metadata": {},
     "outputs": [
      {
       "metadata": {},
       "output_type": "pyout",
       "prompt_number": 21,
       "text": [
        "\"1.000110011001100110011001100110011001100110011001101\""
       ]
      }
     ],
     "prompt_number": 21
    },
    {
     "cell_type": "heading",
     "level": 1,
     "metadata": {},
     "source": [
      "La representaci\u00f3n \"punto flotante\""
     ]
    },
    {
     "cell_type": "markdown",
     "metadata": {},
     "source": [
      "[7] Utiliza la funci\u00f3n `bits` para investigar c\u00f3mo se representan los siguientes n\u00fameros *flotantes*. [Para comprobar si el n\u00famero es flotante, se utiliza la funci\u00f3n `typeof`.]\n",
      "\n",
      "$1$, $\\frac{1}{2}$, $\\frac{1}{4}$, $2$, $-2$, $0.1$, $0.2$, $0.4$, $3.14159$, $31.4159$,  etc.\n",
      "\n",
      "Ser\u00e1 \u00fatil escribir una funci\u00f3n que compara dos cadenas y te indica en d\u00f3nde difieren. \n",
      "\n",
      "[Una manera interesante de hacerlo es utilizar la funci\u00f3n `html` del paquete `Interact`, que regresa una versi\u00f3n renderizada en HTML de una cadena, o `Base.Markdown` en la versi\u00f3n 0.4 de Julia, que permite escribir `md\"...\"` para renderizar la cadena en Markdown.]\n",
      "\n"
     ]
    },
    {
     "cell_type": "code",
     "collapsed": false,
     "input": [
      "decimal_con_punto_a_binario(0.1)"
     ],
     "language": "python",
     "metadata": {},
     "outputs": [
      {
       "metadata": {},
       "output_type": "pyout",
       "prompt_number": 42,
       "text": [
        "\"0.0001100110011001100110011001100110011001100110011001101\""
       ]
      }
     ],
     "prompt_number": 42
    },
    {
     "cell_type": "code",
     "collapsed": false,
     "input": [
      "bits(int(2^63-1))"
     ],
     "language": "python",
     "metadata": {},
     "outputs": [
      {
       "metadata": {},
       "output_type": "pyout",
       "prompt_number": 23,
       "text": [
        "\"0111111111111111111111111111111111111111111111111111111111111111\""
       ]
      }
     ],
     "prompt_number": 23
    },
    {
     "cell_type": "code",
     "collapsed": false,
     "input": [
      "typeof(1//2)"
     ],
     "language": "python",
     "metadata": {},
     "outputs": [
      {
       "metadata": {},
       "output_type": "pyout",
       "prompt_number": 24,
       "text": [
        "Rational{Int64} (constructor with 1 method)"
       ]
      }
     ],
     "prompt_number": 24
    },
    {
     "cell_type": "code",
     "collapsed": false,
     "input": [
      "typeof(1/2)"
     ],
     "language": "python",
     "metadata": {},
     "outputs": [
      {
       "metadata": {},
       "output_type": "pyout",
       "prompt_number": 25,
       "text": [
        "Float64"
       ]
      }
     ],
     "prompt_number": 25
    },
    {
     "cell_type": "code",
     "collapsed": false,
     "input": [
      "bits(1//2)"
     ],
     "language": "python",
     "metadata": {},
     "outputs": [
      {
       "ename": "LoadError",
       "evalue": "`bits` has no method matching bits(::Rational{Int64})\nwhile loading In[26], in expression starting on line 1",
       "output_type": "pyerr",
       "traceback": [
        "`bits` has no method matching bits(::Rational{Int64})\nwhile loading In[26], in expression starting on line 1",
        ""
       ]
      }
     ],
     "prompt_number": 26
    },
    {
     "cell_type": "code",
     "collapsed": false,
     "input": [
      "bits(1/2)"
     ],
     "language": "python",
     "metadata": {},
     "outputs": [
      {
       "metadata": {},
       "output_type": "pyout",
       "prompt_number": 27,
       "text": [
        "\"0011111111100000000000000000000000000000000000000000000000000000\""
       ]
      }
     ],
     "prompt_number": 27
    },
    {
     "cell_type": "code",
     "collapsed": false,
     "input": [
      "bits(1/4)"
     ],
     "language": "python",
     "metadata": {},
     "outputs": [
      {
       "metadata": {},
       "output_type": "pyout",
       "prompt_number": 28,
       "text": [
        "\"0011111111010000000000000000000000000000000000000000000000000000\""
       ]
      }
     ],
     "prompt_number": 28
    },
    {
     "cell_type": "code",
     "collapsed": false,
     "input": [
      "typeof(\u03c0)"
     ],
     "language": "python",
     "metadata": {},
     "outputs": [
      {
       "metadata": {},
       "output_type": "pyout",
       "prompt_number": 29,
       "text": [
        "MathConst{:\u03c0} (constructor with 1 method)"
       ]
      }
     ],
     "prompt_number": 29
    },
    {
     "cell_type": "code",
     "collapsed": false,
     "input": [
      "bits(\u03c0)"
     ],
     "language": "python",
     "metadata": {},
     "outputs": [
      {
       "ename": "LoadError",
       "evalue": "`bits` has no method matching bits(::MathConst{:\u03c0})\nwhile loading In[30], in expression starting on line 1",
       "output_type": "pyerr",
       "traceback": [
        "`bits` has no method matching bits(::MathConst{:\u03c0})\nwhile loading In[30], in expression starting on line 1",
        ""
       ]
      }
     ],
     "prompt_number": 30
    },
    {
     "cell_type": "code",
     "collapsed": false,
     "input": [
      "bits(-2)"
     ],
     "language": "python",
     "metadata": {},
     "outputs": [
      {
       "metadata": {},
       "output_type": "pyout",
       "prompt_number": 31,
       "text": [
        "\"1111111111111111111111111111111111111111111111111111111111111110\""
       ]
      }
     ],
     "prompt_number": 31
    },
    {
     "cell_type": "code",
     "collapsed": false,
     "input": [
      "bits(2)"
     ],
     "language": "python",
     "metadata": {},
     "outputs": [
      {
       "metadata": {},
       "output_type": "pyout",
       "prompt_number": 32,
       "text": [
        "\"0000000000000000000000000000000000000000000000000000000000000010\""
       ]
      }
     ],
     "prompt_number": 32
    },
    {
     "cell_type": "code",
     "collapsed": false,
     "input": [
      "bits(0.1)"
     ],
     "language": "python",
     "metadata": {},
     "outputs": [
      {
       "metadata": {},
       "output_type": "pyout",
       "prompt_number": 33,
       "text": [
        "\"0011111110111001100110011001100110011001100110011001100110011010\""
       ]
      }
     ],
     "prompt_number": 33
    },
    {
     "cell_type": "code",
     "collapsed": false,
     "input": [
      "bits(0.2)"
     ],
     "language": "python",
     "metadata": {},
     "outputs": [
      {
       "metadata": {},
       "output_type": "pyout",
       "prompt_number": 34,
       "text": [
        "\"0011111111001001100110011001100110011001100110011001100110011010\""
       ]
      }
     ],
     "prompt_number": 34
    },
    {
     "cell_type": "code",
     "collapsed": false,
     "input": [
      "bits(0.4)"
     ],
     "language": "python",
     "metadata": {},
     "outputs": [
      {
       "metadata": {},
       "output_type": "pyout",
       "prompt_number": 35,
       "text": [
        "\"0011111111011001100110011001100110011001100110011001100110011010\""
       ]
      }
     ],
     "prompt_number": 35
    },
    {
     "cell_type": "code",
     "collapsed": false,
     "input": [
      "bits(3.14159)"
     ],
     "language": "python",
     "metadata": {},
     "outputs": [
      {
       "metadata": {},
       "output_type": "pyout",
       "prompt_number": 36,
       "text": [
        "\"0100000000001001001000011111100111110000000110111000011001101110\""
       ]
      }
     ],
     "prompt_number": 36
    },
    {
     "cell_type": "code",
     "collapsed": false,
     "input": [
      "bits(31.4159)"
     ],
     "language": "python",
     "metadata": {},
     "outputs": [
      {
       "metadata": {},
       "output_type": "pyout",
       "prompt_number": 37,
       "text": [
        "\"0100000000111111011010100111100001101100001000100110100000001010\""
       ]
      }
     ],
     "prompt_number": 37
    },
    {
     "cell_type": "markdown",
     "metadata": {},
     "source": [
      "Ya no pude hacer bien esto de comprar cadenas por falta de tiempo y por investigar c\u00f3mo se le a\u00f1aden paquetes raros a Julia"
     ]
    },
    {
     "cell_type": "code",
     "collapsed": false,
     "input": [
      "function comparacadenas(x,y) #=tomada de rosal\u00edo=#\n",
      "    n=length(x)  \n",
      "    m=length(y)\n",
      "    l=0\n",
      "    if (n>m) \n",
      "        println(\"la cadena1 es mas larga que la cadena2\")\n",
      "    else\n",
      "        if(n==m)  \n",
      "            println(\"las cadenas tienen la misma longitud\")\n",
      "        else\n",
      "            println(\"la cadena2 es mas larga que la cadena1\")\n",
      "        end\n",
      "    end\n",
      "   # println(\"t\u00e9rmino       (cadena1,cadena2)\")\n",
      "    for i in 1:min(n,m)\n",
      "        if (x[i]==y[i]) \n",
      "            l+=1\n",
      "            #println(\"las cadenas son iguales\")\n",
      "            continue\n",
      "        else\n",
      "            println (\"t=$i  ($(x[i]),$(y[i]))\")\n",
      "        end\n",
      "    end\n",
      "    if(l==max(n,m)) println(\"las cadenas son iguales\") end\n",
      "    end"
     ],
     "language": "python",
     "metadata": {},
     "outputs": [
      {
       "metadata": {},
       "output_type": "pyout",
       "prompt_number": 38,
       "text": [
        "comparacadenas (generic function with 1 method)"
       ]
      }
     ],
     "prompt_number": 38
    },
    {
     "cell_type": "code",
     "collapsed": false,
     "input": [
      "#= m=0\n",
      "while(m<64)\n",
      "    m+=1 =#"
     ],
     "language": "python",
     "metadata": {},
     "outputs": [],
     "prompt_number": 39
    },
    {
     "cell_type": "code",
     "collapsed": false,
     "input": [
      "binarioconpuntosadecimal(\"0.001\")"
     ],
     "language": "python",
     "metadata": {},
     "outputs": [
      {
       "ename": "LoadError",
       "evalue": "binarioconpuntosadecimal not defined\nwhile loading In[40], in expression starting on line 1",
       "output_type": "pyerr",
       "traceback": [
        "binarioconpuntosadecimal not defined\nwhile loading In[40], in expression starting on line 1",
        ""
       ]
      }
     ],
     "prompt_number": 40
    },
    {
     "cell_type": "code",
     "collapsed": false,
     "input": [
      "binarioconpuntosadecimal(\"0.010\")"
     ],
     "language": "python",
     "metadata": {},
     "outputs": [
      {
       "metadata": {},
       "output_type": "pyout",
       "prompt_number": 44,
       "text": [
        "0.25"
       ]
      }
     ],
     "prompt_number": 44
    },
    {
     "cell_type": "code",
     "collapsed": false,
     "input": [
      "0.125-0.25"
     ],
     "language": "python",
     "metadata": {},
     "outputs": [
      {
       "metadata": {},
       "output_type": "pyout",
       "prompt_number": 45,
       "text": [
        "-0.125"
       ]
      }
     ],
     "prompt_number": 45
    },
    {
     "cell_type": "code",
     "collapsed": false,
     "input": [
      "binarioadecimal(\"111111111111000000000000000000000000000000000000000000000000000\")"
     ],
     "language": "python",
     "metadata": {},
     "outputs": [
      {
       "metadata": {},
       "output_type": "pyout",
       "prompt_number": 46,
       "text": [
        "9221120237041090560"
       ]
      }
     ],
     "prompt_number": 46
    },
    {
     "cell_type": "code",
     "collapsed": false,
     "input": [
      "join(zerosones(Int64,64))"
     ],
     "language": "python",
     "metadata": {},
     "outputs": [
      {
       "ename": "LoadError",
       "evalue": "zerosones not defined\nwhile loading In[47], in expression starting on line 1",
       "output_type": "pyerr",
       "traceback": [
        "zerosones not defined\nwhile loading In[47], in expression starting on line 1",
        ""
       ]
      }
     ],
     "prompt_number": 47
    },
    {
     "cell_type": "code",
     "collapsed": false,
     "input": [
      "zeros(Int64,0)"
     ],
     "language": "python",
     "metadata": {},
     "outputs": [
      {
       "metadata": {},
       "output_type": "pyout",
       "prompt_number": 48,
       "text": [
        "0-element Array{Int64,1}"
       ]
      }
     ],
     "prompt_number": 48
    },
    {
     "cell_type": "code",
     "collapsed": false,
     "input": [
      "binarioadecimal(join(ones(Int64,64)))"
     ],
     "language": "python",
     "metadata": {},
     "outputs": [
      {
       "metadata": {},
       "output_type": "pyout",
       "prompt_number": 49,
       "text": [
        "-1"
       ]
      }
     ],
     "prompt_number": 49
    },
    {
     "cell_type": "code",
     "collapsed": false,
     "input": [
      "decimalabinario(100)"
     ],
     "language": "python",
     "metadata": {},
     "outputs": [
      {
       "metadata": {},
       "output_type": "pyout",
       "prompt_number": 50,
       "text": [
        "\"1100100\""
       ]
      }
     ],
     "prompt_number": 50
    },
    {
     "cell_type": "code",
     "collapsed": false,
     "input": [
      "bits(100.00)"
     ],
     "language": "python",
     "metadata": {},
     "outputs": [
      {
       "metadata": {},
       "output_type": "pyout",
       "prompt_number": 51,
       "text": [
        "\"0100000001011001000000000000000000000000000000000000000000000000\""
       ]
      }
     ],
     "prompt_number": 51
    },
    {
     "cell_type": "code",
     "collapsed": false,
     "input": [
      "decimalabinario(100)"
     ],
     "language": "python",
     "metadata": {},
     "outputs": [
      {
       "metadata": {},
       "output_type": "pyout",
       "prompt_number": 52,
       "text": [
        "\"1100100\""
       ]
      }
     ],
     "prompt_number": 52
    },
    {
     "cell_type": "code",
     "collapsed": false,
     "input": [
      "decimalabinario(1029)"
     ],
     "language": "python",
     "metadata": {},
     "outputs": [
      {
       "metadata": {},
       "output_type": "pyout",
       "prompt_number": 53,
       "text": [
        "\"10000000101\""
       ]
      }
     ],
     "prompt_number": 53
    },
    {
     "cell_type": "code",
     "collapsed": false,
     "input": [
      "binarioadecimal(\"1\")"
     ],
     "language": "python",
     "metadata": {},
     "outputs": [
      {
       "metadata": {},
       "output_type": "pyout",
       "prompt_number": 90,
       "text": [
        "1"
       ]
      }
     ],
     "prompt_number": 90
    },
    {
     "cell_type": "code",
     "collapsed": false,
     "input": [
      "decimalabinario(100)"
     ],
     "language": "python",
     "metadata": {},
     "outputs": [
      {
       "metadata": {},
       "output_type": "pyout",
       "prompt_number": 55,
       "text": [
        "\"1100100\""
       ]
      }
     ],
     "prompt_number": 55
    },
    {
     "cell_type": "code",
     "collapsed": false,
     "input": [
      "bits(100.0)"
     ],
     "language": "python",
     "metadata": {},
     "outputs": [
      {
       "metadata": {},
       "output_type": "pyout",
       "prompt_number": 56,
       "text": [
        "\"0100000001011001000000000000000000000000000000000000000000000000\""
       ]
      }
     ],
     "prompt_number": 56
    },
    {
     "cell_type": "code",
     "collapsed": false,
     "input": [
      "bits(-0.0)"
     ],
     "language": "python",
     "metadata": {},
     "outputs": [
      {
       "metadata": {},
       "output_type": "pyout",
       "prompt_number": 57,
       "text": [
        "\"1000000000000000000000000000000000000000000000000000000000000000\""
       ]
      }
     ],
     "prompt_number": 57
    },
    {
     "cell_type": "code",
     "collapsed": false,
     "input": [
      "-0.0==0.0"
     ],
     "language": "python",
     "metadata": {},
     "outputs": [
      {
       "metadata": {},
       "output_type": "pyout",
       "prompt_number": 58,
       "text": [
        "true"
       ]
      }
     ],
     "prompt_number": 58
    },
    {
     "cell_type": "code",
     "collapsed": false,
     "input": [
      "binarioconpuntosadecimal(\"1.00001\")"
     ],
     "language": "python",
     "metadata": {},
     "outputs": [
      {
       "ename": "LoadError",
       "evalue": "binarioconpuntosadecimal not defined\nwhile loading In[43], in expression starting on line 1",
       "output_type": "pyerr",
       "traceback": [
        "binarioconpuntosadecimal not defined\nwhile loading In[43], in expression starting on line 1",
        ""
       ]
      }
     ],
     "prompt_number": 43
    },
    {
     "cell_type": "code",
     "collapsed": false,
     "input": [
      "decimal_con_punto_a_binario(\"1.1\")"
     ],
     "language": "python",
     "metadata": {},
     "outputs": [
      {
       "metadata": {},
       "output_type": "pyout",
       "prompt_number": 91,
       "text": [
        "1.5"
       ]
      }
     ],
     "prompt_number": 91
    },
    {
     "cell_type": "code",
     "collapsed": false,
     "input": [
      "binarioconpuntosadecimal(\"0.010\")-binarioconpuntosadecimal(\"0.001\")"
     ],
     "language": "python",
     "metadata": {},
     "outputs": [
      {
       "metadata": {},
       "output_type": "pyout",
       "prompt_number": 61,
       "text": [
        "0.125"
       ]
      }
     ],
     "prompt_number": 61
    },
    {
     "cell_type": "code",
     "collapsed": false,
     "input": [
      "binarioconpuntosadecimal(\"111.0\")"
     ],
     "language": "python",
     "metadata": {},
     "outputs": [
      {
       "metadata": {},
       "output_type": "pyout",
       "prompt_number": 62,
       "text": [
        "7.0"
       ]
      }
     ],
     "prompt_number": 62
    },
    {
     "cell_type": "code",
     "collapsed": false,
     "input": [
      "binarioconpuntosadecimal(\"100.0\")"
     ],
     "language": "python",
     "metadata": {},
     "outputs": [
      {
       "metadata": {},
       "output_type": "pyout",
       "prompt_number": 63,
       "text": [
        "4.0"
       ]
      }
     ],
     "prompt_number": 63
    },
    {
     "cell_type": "code",
     "collapsed": false,
     "input": [
      "binarioconpuntosadecimal(\"0.0000000000000000000000000000000000000000000000001\")"
     ],
     "language": "python",
     "metadata": {},
     "outputs": [
      {
       "metadata": {},
       "output_type": "pyout",
       "prompt_number": 64,
       "text": [
        "1.7763568394002505e-15"
       ]
      }
     ],
     "prompt_number": 64
    },
    {
     "cell_type": "code",
     "collapsed": false,
     "input": [
      "decimal_con_punto_a_binario(333.75)"
     ],
     "language": "python",
     "metadata": {},
     "outputs": [
      {
       "metadata": {},
       "output_type": "pyout",
       "prompt_number": 65,
       "text": [
        "\"101001101.11\""
       ]
      }
     ],
     "prompt_number": 65
    },
    {
     "cell_type": "code",
     "collapsed": false,
     "input": [
      "decimal_con_punto_a_binario(33096.0)"
     ],
     "language": "python",
     "metadata": {},
     "outputs": [
      {
       "metadata": {},
       "output_type": "pyout",
       "prompt_number": 66,
       "text": [
        "\"1000000101001000\""
       ]
      }
     ],
     "prompt_number": 66
    },
    {
     "cell_type": "code",
     "collapsed": false,
     "input": [
      "binarioadecimal(\"1000000101001000\")"
     ],
     "language": "python",
     "metadata": {},
     "outputs": [
      {
       "metadata": {},
       "output_type": "pyout",
       "prompt_number": 67,
       "text": [
        "33096"
       ]
      }
     ],
     "prompt_number": 67
    },
    {
     "cell_type": "code",
     "collapsed": false,
     "input": [
      "333.75*(33096)^(6)"
     ],
     "language": "python",
     "metadata": {},
     "outputs": [
      {
       "metadata": {},
       "output_type": "pyout",
       "prompt_number": 68,
       "text": [
        "1.597760441096579e21"
       ]
      }
     ],
     "prompt_number": 68
    },
    {
     "cell_type": "markdown",
     "metadata": {},
     "source": []
    },
    {
     "cell_type": "code",
     "collapsed": false,
     "input": [
      "+(10,10)"
     ],
     "language": "python",
     "metadata": {},
     "outputs": [
      {
       "metadata": {},
       "output_type": "pyout",
       "prompt_number": 69,
       "text": [
        "20"
       ]
      }
     ],
     "prompt_number": 69
    },
    {
     "cell_type": "code",
     "collapsed": false,
     "input": [
      "significand(15.2)/15.2"
     ],
     "language": "python",
     "metadata": {},
     "outputs": [
      {
       "metadata": {},
       "output_type": "pyout",
       "prompt_number": 70,
       "text": [
        "0.125"
       ]
      }
     ],
     "prompt_number": 70
    },
    {
     "cell_type": "code",
     "collapsed": false,
     "input": [
      "15.2*8.0"
     ],
     "language": "python",
     "metadata": {},
     "outputs": [
      {
       "metadata": {},
       "output_type": "pyout",
       "prompt_number": 71,
       "text": [
        "121.6"
       ]
      }
     ],
     "prompt_number": 71
    },
    {
     "cell_type": "code",
     "collapsed": false,
     "input": [
      "nextfloat(100.50000000000003)"
     ],
     "language": "python",
     "metadata": {},
     "outputs": [
      {
       "metadata": {},
       "output_type": "pyout",
       "prompt_number": 72,
       "text": [
        "100.50000000000004"
       ]
      }
     ],
     "prompt_number": 72
    },
    {
     "cell_type": "code",
     "collapsed": false,
     "input": [
      "nextfloat(ans)"
     ],
     "language": "python",
     "metadata": {},
     "outputs": [
      {
       "metadata": {},
       "output_type": "pyout",
       "prompt_number": 73,
       "text": [
        "100.50000000000006"
       ]
      }
     ],
     "prompt_number": 73
    },
    {
     "cell_type": "markdown",
     "metadata": {},
     "source": [
      "1.10 \\ 0 001100 \\ ... \\ (8\\ veces) [00110] \\ \\ 00101"
     ]
    },
    {
     "cell_type": "code",
     "collapsed": false,
     "input": [
      "a=binarioconpuntosadecimal(\"0.00011000011000110001100011000110001100011000110001100011\")"
     ],
     "language": "python",
     "metadata": {},
     "outputs": [
      {
       "metadata": {},
       "output_type": "pyout",
       "prompt_number": 87,
       "text": [
        "0.09526209677419355"
       ]
      }
     ],
     "prompt_number": 87
    },
    {
     "cell_type": "code",
     "collapsed": false,
     "input": [
      "b=binarioconpuntosadecimal(\"0.00011000011000110001100011000110001100011000110001100100\")"
     ],
     "language": "python",
     "metadata": {},
     "outputs": [
      {
       "metadata": {},
       "output_type": "pyout",
       "prompt_number": 89,
       "text": [
        "0.09526209677419356"
       ]
      }
     ],
     "prompt_number": 89
    },
    {
     "cell_type": "code",
     "collapsed": false,
     "input": [
      "b-a"
     ],
     "language": "python",
     "metadata": {},
     "outputs": [
      {
       "metadata": {},
       "output_type": "pyout",
       "prompt_number": 86,
       "text": [
        "1.3877787807814457e-17"
       ]
      }
     ],
     "prompt_number": 86
    },
    {
     "cell_type": "code",
     "collapsed": false,
     "input": [
      "decimal_con_punto_a_binario(1.1)"
     ],
     "language": "python",
     "metadata": {},
     "outputs": [
      {
       "metadata": {},
       "output_type": "pyout",
       "prompt_number": 93,
       "text": [
        "\"1.000110011001100110011001100110011001100110011001101\""
       ]
      }
     ],
     "prompt_number": 93
    },
    {
     "cell_type": "code",
     "collapsed": false,
     "input": [
      "binarioconpuntosadecimal(\"1.000110011001100110011001100110011001100110011001101\")"
     ],
     "language": "python",
     "metadata": {},
     "outputs": [
      {
       "metadata": {},
       "output_type": "pyout",
       "prompt_number": 94,
       "text": [
        "1.1"
       ]
      }
     ],
     "prompt_number": 94
    },
    {
     "cell_type": "code",
     "collapsed": false,
     "input": [
      "decimal_con_punto_a_binario(10.0)"
     ],
     "language": "python",
     "metadata": {},
     "outputs": [
      {
       "metadata": {},
       "output_type": "pyout",
       "prompt_number": 95,
       "text": [
        "\"1010\""
       ]
      }
     ],
     "prompt_number": 95
    },
    {
     "cell_type": "code",
     "collapsed": false,
     "input": [],
     "language": "python",
     "metadata": {},
     "outputs": [
      {
       "metadata": {},
       "output_type": "pyout",
       "prompt_number": 96,
       "text": [
        "\"1010\""
       ]
      }
     ],
     "prompt_number": 96
    }
   ],
   "metadata": {}
  }
 ]
}
{
 "metadata": {
  "language": "Julia",
  "name": "",
  "signature": "sha256:2b027c5029f30669f44ba0f458c9f7302fc478e080d720f1695f62325a884e02"
 },
 "nbformat": 3,
 "nbformat_minor": 0,
 "worksheets": [
  {
   "cells": [
    {
     "cell_type": "heading",
     "level": 1,
     "metadata": {},
     "source": [
      "Enteros"
     ]
    },
    {
     "cell_type": "markdown",
     "metadata": {},
     "source": [
      "[1]"
     ]
    },
    {
     "cell_type": "code",
     "collapsed": false,
     "input": [
      " n=3*10^5+1*10^4+4*10^3+1*10^2+5*10+9"
     ],
     "language": "python",
     "metadata": {},
     "outputs": [
      {
       "metadata": {},
       "output_type": "pyout",
       "prompt_number": 2,
       "text": [
        "314159"
       ]
      }
     ],
     "prompt_number": 2
    },
    {
     "cell_type": "code",
     "collapsed": false,
     "input": [
      "n=\"314159\""
     ],
     "language": "python",
     "metadata": {},
     "outputs": [
      {
       "metadata": {},
       "output_type": "pyout",
       "prompt_number": 3,
       "text": [
        "\"314159\""
       ]
      }
     ],
     "prompt_number": 3
    },
    {
     "cell_type": "markdown",
     "metadata": {},
     "source": [
      "[2]"
     ]
    },
    {
     "cell_type": "markdown",
     "metadata": {},
     "source": [
      " n= 50 (en base 10) es equivalente a n= 110010 (en base 2)"
     ]
    },
    {
     "cell_type": "code",
     "collapsed": false,
     "input": [
      "function  cad(x::ASCIIString)\n",
      "        for i in 1:length(x)\n",
      "        println(int(x[i])-48)\n",
      "        end\n",
      "end"
     ],
     "language": "python",
     "metadata": {},
     "outputs": [
      {
       "metadata": {},
       "output_type": "pyout",
       "prompt_number": 4,
       "text": [
        "cad (generic function with 1 method)"
       ]
      }
     ],
     "prompt_number": 4
    },
    {
     "cell_type": "markdown",
     "metadata": {},
     "source": [
      "[3] (i) Escribe una funci\u00f3n que acepta una cadena en binario y regresa el entero correspondiente:"
     ]
    },
    {
     "cell_type": "code",
     "collapsed": false,
     "input": [
      "function binarioadecimal(x::ASCIIString)\n",
      "    suma=0\n",
      "        for i  in 1:length(x)\n",
      "        suma+= (2^(length(x)-i))*(int(x[i])-48)\n",
      "        end\n",
      "    suma\n",
      "end"
     ],
     "language": "python",
     "metadata": {},
     "outputs": [
      {
       "metadata": {},
       "output_type": "pyout",
       "prompt_number": 5,
       "text": [
        "binarioadecimal (generic function with 1 method)"
       ]
      }
     ],
     "prompt_number": 5
    },
    {
     "cell_type": "code",
     "collapsed": false,
     "input": [
      "            #Si se nos hubiera pedido una funci\u00f3n que acepte una cadena en binario y regrese una cadena en decimal:\n",
      "\n",
      "                #=    function binarioadecimal(x::ASCIIString)\n",
      "                    suma=0\n",
      "                        for i  in 1:length(x)\n",
      "                        suma+= (2^(length(x)-i))*(int(x[i])-48)\n",
      "                        end\n",
      "                suma=\"$suma\"\n",
      "                    end                 =#"
     ],
     "language": "python",
     "metadata": {},
     "outputs": [],
     "prompt_number": 6
    },
    {
     "cell_type": "markdown",
     "metadata": {},
     "source": [
      "(ii) Escribe una funci\u00f3n que acepta un entero y regresa su representaci\u00f3n en binario como una cadena. Comprueba tu respuesta usando la funci\u00f3n bits de Julia."
     ]
    },
    {
     "cell_type": "markdown",
     "metadata": {},
     "source": [
      "El siguiente programa toma numeros enteros positivos o negativos y regresa un binario. El signo lo asign\u00e9 con los primeros sinco bits (de izquierda a derecha). Donde si el primer bit es 0, el n\u00famero es positivo, si es 1 entonces el bit es negativo. No entiendo a\u00fan por qu\u00e9 la computadora asigna un chorro de  bits de signo, ni cu\u00e1l es la regla que sigue para asignarlos."
     ]
    },
    {
     "cell_type": "code",
     "collapsed": false,
     "input": [
      "function decimalabinario(n)\n",
      "  a=Int64[];\n",
      "  b=Int64[];  \n",
      "  c=Int64[]; \n",
      "\n",
      "\n",
      "\n",
      "            if n >= 0\n",
      "                    #=println(\"el primer elemento es el bit de n\u00famero , 0 equivale a +\")=#\n",
      "                    push!(c,0) \n",
      "                            for i in 1:5\n",
      "                            push!(c,0)\n",
      "                            end\n",
      "\n",
      "            else n < 0   \n",
      "                    #=println(\"el primer elemento es el bit de n\u00famero 1 equivale a -\")=#\n",
      "                    n=-n\n",
      "                    push!(c,1) \n",
      "                            for i in 1:5\n",
      "                            push!(c,0)\n",
      "                            end\n",
      "\n",
      "            end\n",
      "\n",
      "\n",
      "\n",
      "\n",
      "    \n",
      "\n",
      "while(floor(n/2)>=1)\n",
      "    #=println(n%2)=#\n",
      "    push!(a,n%2)\n",
      "    n=div(n,2)\n",
      "end\n",
      "\n",
      "#=println(floor(n))=#\n",
      "push!(a,floor(n));\n",
      "\n",
      "#=Hasta aqu\u00ed te deja el n\u00famero binario pero al rev\u00e9s, el siguiente for es para voltearlo=#\n",
      "\n",
      "for i in 0:length(a)-1\n",
      "    push!(b,a[length(a)-i])\n",
      "  end\n",
      "\n",
      "b=hcat(transpose(c),transpose(b))\n",
      "b=join(transpose(b)) #=para ponerlo en forma de string rengl\u00f3n=#\n",
      "\n",
      "end"
     ],
     "language": "python",
     "metadata": {},
     "outputs": [
      {
       "metadata": {},
       "output_type": "pyout",
       "prompt_number": 7,
       "text": [
        "decimalabinario (generic function with 1 method)"
       ]
      }
     ],
     "prompt_number": 7
    },
    {
     "cell_type": "code",
     "collapsed": false,
     "input": [
      "decimalabinario(-1)"
     ],
     "language": "python",
     "metadata": {},
     "outputs": [
      {
       "metadata": {},
       "output_type": "pyout",
       "prompt_number": 8,
       "text": [
        "\"1000001\""
       ]
      }
     ],
     "prompt_number": 8
    },
    {
     "cell_type": "code",
     "collapsed": false,
     "input": [],
     "language": "python",
     "metadata": {},
     "outputs": [],
     "prompt_number": 10
    },
    {
     "cell_type": "code",
     "collapsed": true,
     "input": [],
     "language": "python",
     "metadata": {},
     "outputs": [],
     "prompt_number": 24
    },
    {
     "cell_type": "code",
     "collapsed": false,
     "input": [],
     "language": "python",
     "metadata": {},
     "outputs": [],
     "prompt_number": 23
    },
    {
     "cell_type": "code",
     "collapsed": false,
     "input": [],
     "language": "python",
     "metadata": {},
     "outputs": [],
     "prompt_number": 21
    },
    {
     "cell_type": "heading",
     "level": 1,
     "metadata": {},
     "source": [
      "N\u00fameros Reales"
     ]
    },
    {
     "cell_type": "markdown",
     "metadata": {},
     "source": [
      "[4] Podr\u00edamos llamar a cada elemento como bi, as\u00ed un n\u00famero EN BASE DIEZ se puede expresar como: n= \u03a3 bi*10^i"
     ]
    },
    {
     "cell_type": "code",
     "collapsed": false,
     "input": [
      "3.0*10^1.0 + 1*10^0.0 + 4*10.0^-1 + 1*10.0^-2 + 5*10.0^-3 + 9*10.0^-4    #=[4]=#   #= p=31.4159=#  "
     ],
     "language": "python",
     "metadata": {},
     "outputs": [
      {
       "metadata": {},
       "output_type": "pyout",
       "prompt_number": 11,
       "text": [
        "31.4159"
       ]
      }
     ],
     "prompt_number": 11
    },
    {
     "cell_type": "markdown",
     "metadata": {},
     "source": [
      "[5] (i) 101.0101 (en base 2) es equivalente a  5.3125 (en base 10)"
     ]
    },
    {
     "cell_type": "markdown",
     "metadata": {},
     "source": [
      "[5] (ii) La funci\u00f3n que toma (una cadena de) un binario con punto y regrese el correspondiente decimal es:"
     ]
    },
    {
     "cell_type": "code",
     "collapsed": false,
     "input": [
      "function binarioconpuntosadecimal(x::ASCIIString)\n",
      "        pospun=search(x,'.') \n",
      "\n",
      "suma=0.0;\n",
      "y=x[1:pospun-1];\n",
      "z=x[pospun+1:end];\n",
      "w=Int64[]\n",
      "\n",
      "                #=Dos ciclos for para poner hacer el mismo binario pero en un arreglo sin el punto decimal=#\n",
      "                for i=1:pospun-1\n",
      "                    push!(w,int(y[i])-48)\n",
      "                end\n",
      "\n",
      "                for i=1:length(x)-pospun\n",
      "                    push!(w,int(z[i])-48)\n",
      "                end\n",
      "\n",
      "\n",
      "\n",
      "        for i  in 1: length(w)\n",
      "        suma+= (2.0^(pospun-i-1))*(int(w[i]))\n",
      "        end\n",
      "\n",
      "        #=for i  in 1:length(z)  \n",
      "        suma+= (2.0^(-i))*(int(z[i]))\n",
      "        end=#\n",
      "\n",
      "#suma=\"$suma\" #=DESCOMENTAR ESTE RENG\u00d3N Y COMENTAR EL QUE SIGUE SI LO QUE SE QUIERE DE SALIDA ES UNA CADENA Y NO UN N\u00daMERO=# \n",
      "suma\n",
      "end"
     ],
     "language": "python",
     "metadata": {},
     "outputs": [
      {
       "metadata": {},
       "output_type": "pyout",
       "prompt_number": 12,
       "text": [
        "binarioconpuntosadecimal (generic function with 1 method)"
       ]
      }
     ],
     "prompt_number": 12
    },
    {
     "cell_type": "code",
     "collapsed": false,
     "input": [
      "binarioconpuntosadecimal(\"101.0101\")"
     ],
     "language": "python",
     "metadata": {},
     "outputs": [
      {
       "metadata": {},
       "output_type": "pyout",
       "prompt_number": 13,
       "text": [
        "5.3125"
       ]
      }
     ],
     "prompt_number": 13
    },
    {
     "cell_type": "markdown",
     "metadata": {},
     "source": [
      "[5] (iii) La funci\u00f3n que toma  un decimal con punto y regresa (la cadena de) binario correspondiente es:"
     ]
    },
    {
     "cell_type": "markdown",
     "metadata": {},
     "source": [
      "Aqu\u00ed me top\u00e9 con el problema de que n\u00famero-floor(n\u00famero) no siempre es lo que est\u00e1 a la izquerda del punto decimal (su parte decimal)\n",
      "Por lo que se me ocurrieron dos cosas:\n",
      "a) Hacer un programa que trabaje como si n\u00famero-floor(n\u00famero) fuera la parte decimal del n\u00famero\n",
      "b) Hacer un programa que ingrese por separado lo la parte entera y la parte decimal del n\u00famero"
     ]
    },
    {
     "cell_type": "markdown",
     "metadata": {},
     "source": [
      "PROGRAMA a)"
     ]
    },
    {
     "cell_type": "code",
     "collapsed": false,
     "input": [
      "function decimal_con_punto_a_binario(x::Float64)\n",
      "\n",
      "a=Int64[]\n",
      "parte_entera=floor(x);\n",
      "z=x-int(floor(x)); #=la parte decimal=#\n",
      "\n",
      "\n",
      "\n",
      "                                                                if z==0\n",
      "                                                                #=println(\"mejor usa el programa decimalabinario, porfa\")=#\n",
      "                                                                decimalabinario(x)\n",
      "                                                                \n",
      "\n",
      "\n",
      "                                                                else\n",
      "y=2.0*z\n",
      "    while(y != 1)\n",
      "                    if y< 1\n",
      "                    y=2.0*y\n",
      "                    push!(a,0)\n",
      "\n",
      "\n",
      "                    else y>1\n",
      "                    y=2.0*(y-1)\n",
      "                    push!(a,1)\n",
      "                    end\n",
      "    end\n",
      "                    push!(a,1)\n",
      "\n",
      "string(decimalabinario(parte_entera),\".\",join(transpose(a)))\n",
      "\n",
      "end\n",
      "\n",
      "end\n"
     ],
     "language": "python",
     "metadata": {},
     "outputs": [
      {
       "metadata": {},
       "output_type": "pyout",
       "prompt_number": 37,
       "text": [
        "decimal_con_punto_a_binario (generic function with 2 methods)"
       ]
      }
     ],
     "prompt_number": 37
    },
    {
     "cell_type": "code",
     "collapsed": false,
     "input": [
      "decimal_con_punto_a_binario(1.2501)"
     ],
     "language": "python",
     "metadata": {},
     "outputs": [
      {
       "metadata": {},
       "output_type": "pyout",
       "prompt_number": 39,
       "text": [
        "\"0000001.0100000000000110100011011011100010111010110001110001\""
       ]
      }
     ],
     "prompt_number": 39
    },
    {
     "cell_type": "markdown",
     "metadata": {},
     "source": [
      "PROGRAMA b)"
     ]
    },
    {
     "cell_type": "code",
     "collapsed": false,
     "input": [
      "function decimal_con_punto_a_binario_2(x::Int64,z::Float64)\n",
      "\n",
      "#=En este se deben especificar por separado lo que va a la derecha y a la izquierda del punto decimal=#\n",
      "\n",
      "\n",
      "a=Int64[]\n",
      "\n",
      "\n",
      "                                                                if z==0\n",
      "                                                                #=println(\"mejor usa el programa decimalabinario, porfa\")=#\n",
      "                                                                decimalabinario(x)\n",
      "                                                                \n",
      "\n",
      "\n",
      "                                                                else\n",
      "y=2.0*z\n",
      "    while(y != 1)\n",
      "                    if y< 1\n",
      "                    y=2.0*y\n",
      "                    push!(a,0)\n",
      "\n",
      "\n",
      "                    else y>1\n",
      "                    y=2.0*(y-1)\n",
      "                    push!(a,1)\n",
      "                    end\n",
      "    end\n",
      "                    push!(a,1)\n",
      "\n",
      "string(decimalabinario(x),\".\",join(transpose(a)))\n",
      "\n",
      "                        end\n",
      "            \n",
      "                                                                                        end"
     ],
     "language": "python",
     "metadata": {},
     "outputs": [
      {
       "metadata": {},
       "output_type": "pyout",
       "prompt_number": 16,
       "text": [
        "decimal_con_punto_a_binario_2 (generic function with 1 method)"
       ]
      }
     ],
     "prompt_number": 16
    },
    {
     "cell_type": "code",
     "collapsed": false,
     "input": [
      "decimal_con_punto_a_binario(10.087)"
     ],
     "language": "python",
     "metadata": {},
     "outputs": [
      {
       "metadata": {},
       "output_type": "pyout",
       "prompt_number": 17,
       "text": [
        "\"0000001010.000101100100010110100001110010101100000010000011\""
       ]
      }
     ],
     "prompt_number": 17
    },
    {
     "cell_type": "code",
     "collapsed": false,
     "input": [
      "decimal_con_punto_a_binario_2(10,.087)"
     ],
     "language": "python",
     "metadata": {},
     "outputs": [
      {
       "metadata": {},
       "output_type": "pyout",
       "prompt_number": 40,
       "text": [
        "\"0000001010.0001011001000101101000011100101011000000100000110001001\""
       ]
      }
     ],
     "prompt_number": 40
    },
    {
     "cell_type": "code",
     "collapsed": false,
     "input": [
      "bits(10.087)  #No tengo idea de por qu\u00e9 sea diferente. Pero debe de ser por c\u00f3mo representa el n\u00famero la computadora"
     ],
     "language": "python",
     "metadata": {},
     "outputs": [
      {
       "metadata": {},
       "output_type": "pyout",
       "prompt_number": 41,
       "text": [
        "\"0100000000100100001011001000101101000011100101011000000100000110\""
       ]
      }
     ],
     "prompt_number": 41
    },
    {
     "cell_type": "markdown",
     "metadata": {},
     "source": [
      "    El n\u00famero 0.1(base 10) se reporesenta como 0.000110[00110 peri\u00f3dico]. Me parece que es algo t\u00edpico de una base, que se puedan dar n\u00fameros peri\u00f3dicos en su expansi\u00f3n al lado del punto. \u00a1Lo que me molesta es que intent\u00e9 sacarlo con mi programa decimal_con_punto_a_binario y tron\u00f3 la computadora!"
     ]
    },
    {
     "cell_type": "code",
     "collapsed": false,
     "input": [
      "decimal_con_punto_a_binario(0.1) #NOINTENTARLO CON EL OTRO"
     ],
     "language": "python",
     "metadata": {},
     "outputs": [
      {
       "metadata": {},
       "output_type": "pyout",
       "prompt_number": 35,
       "text": [
        "\"0000000.0001100110011001100110011001100110011001100110011001101\""
       ]
      }
     ],
     "prompt_number": 35
    },
    {
     "cell_type": "heading",
     "level": 1,
     "metadata": {},
     "source": [
      "La representaci\u00f3n \"punto flotante\""
     ]
    },
    {
     "cell_type": "code",
     "collapsed": false,
     "input": [],
     "language": "python",
     "metadata": {},
     "outputs": []
    }
   ],
   "metadata": {}
  }
 ]
}
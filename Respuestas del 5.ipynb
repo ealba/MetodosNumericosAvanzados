{
 "metadata": {
  "language": "Julia",
  "name": "",
  "signature": "sha256:7954504d1e3c3cf9828da78d1fa200a8513a4a07879e9f12e7eea479f6ca23d3"
 },
 "nbformat": 3,
 "nbformat_minor": 0,
 "worksheets": [
  {
   "cells": [
    {
     "cell_type": "heading",
     "level": 1,
     "metadata": {},
     "source": [
      "Redondeo"
     ]
    },
    {
     "cell_type": "heading",
     "level": 6,
     "metadata": {},
     "source": [
      "[1] (i) Si tuvi\u00e9ramos un n\u00famero real positivo x (es decir, con precisi\u00f3n infinita), \u00bfc\u00f3mo podr\u00edamos encontrar \u25b3(x) y \u25bd(x)?"
     ]
    },
    {
     "cell_type": "markdown",
     "metadata": {},
     "source": [
      "(\u00bfsabemos que?) Para cualquier n\u00famero real x (tiene precisi\u00f3n infinita), existe un \u00edndice i para el que existen dos n\u00fameros flotantes consecutivos que cumplen:"
     ]
    },
    {
     "cell_type": "markdown",
     "metadata": {},
     "source": [
      " $[1.b_{1} \\ \\ b_{2} \\ ... \\ b_{i}=1 \\ b_{i+1}=0 ... b_{N=52}=0]*2^{e}_{[2]} \u2264 x \u2264 [1.b_{1} \\ \\ b_{2} \\ ... \\ b_{i}=1 \\ b_{i+1}=0 ... b_{N=52}=0]*2^{e}_{[2]} + 2^{-1074}_{[2]}$"
     ]
    },
    {
     "cell_type": "markdown",
     "metadata": {},
     "source": [
      "Recordando que $2^{-1074}_{[2]}$ es el n\u00famero m\u00e1s peque\u00f1o en el IEEE."
     ]
    },
    {
     "cell_type": "markdown",
     "metadata": {},
     "source": [
      "Por lo que podr\u00edamos decir que $\u25b3(x)= [1.b_{1} \\ \\ b_{2} \\ ... \\ b_{i}=1 \\ b_{i+1}=0 ... b_{N=52}=0]*2^{e}_{[2]} + 2^{-1074}_{[2]}$"
     ]
    },
    {
     "cell_type": "markdown",
     "metadata": {},
     "source": [
      "Y $\u25bd(x)= [1.b_{1} \\ \\ b_{2} \\ ... \\ b_{i}=1 \\ b_{i+1}=0 ... b_{N=52}=0]*2^{e}_{[2]} $"
     ]
    },
    {
     "cell_type": "markdown",
     "metadata": {},
     "source": [
      "M\u00e1s en concreto, otra manera de encontrar el redondeo hacia abajo es cortar la representaci\u00f3n decimal de el n\u00famero real a un n\u00famero flotante de 52 bits de mantisa. Despu\u00e9s de esto ver si su \u00faltimo d\u00edgito de mantisa es cero o uno y en base a eso tomar el pr\u00f3ximo flotante con el mismo exponente."
     ]
    },
    {
     "cell_type": "heading",
     "level": 6,
     "metadata": {},
     "source": [
      "(ii) Encuentra \u25b3(0.1) y \u25bd(0.1) para aritm\u00e9tica flotante de IEEE. \u00bfEn cu\u00e1nto difieren? \u00bfQu\u00e9 podemos decir sobre el error de redondeo?"
     ]
    },
    {
     "cell_type": "markdown",
     "metadata": {},
     "source": [
      "$0.1_{2}= 0.0001100[1100 peri\u00f3dico] =1.100  \\ [1100 \\ peri\u00f3dico]*2^{-4}_{[2]}$ "
     ]
    },
    {
     "cell_type": "markdown",
     "metadata": {},
     "source": [
      "donde, si cortamos a 52 bits de mantisa:"
     ]
    },
    {
     "cell_type": "markdown",
     "metadata": {},
     "source": [
      "$  1.100 \\ 1100 \\ 1100 \\ 1100 \\ 1100 \\ 1100 \\ 1100 \\ 1100 \\ 1100 \\ 1100 \\ 1100 \\ 1100 \\ 1100 \\ 1*2^{-4}_{[2]}   \\\\ < 0.1_{[2]}=  \\\\ 1.100 \\ 1100 \\ 1100 \\ 1100 \\ 1100 \\ 1100 \\ 1100 \\ 1100 \\ 1100 \\ 1100 \\ 1100 \\ 1100 \\ 1100 \\ 1 \\ [1100 \\ peri\u00f3dico]*2^{-4}_{[2]} \\\\ < \\\\  1.100 \\ 1100 \\ 1100 \\ 1100 \\ 1100 \\ 1100 \\ 1100 \\ 1100 \\ 1100 \\ 1100 \\ 1100 \\ 1100 \\ \\ 1101 \\ 0*2^{-4}_{[2]} $ "
     ]
    },
    {
     "cell_type": "markdown",
     "metadata": {},
     "source": [
      "donde queda claro que $\u25bd(0.1)= 1.100 (9\\ veces [00110]) \\ \\ 0011*2^{-4}$;  $\u25b3(0.1)= 1.100 (9\\ veces [00110]) \\ \\ 0100*2^{-4}$"
     ]
    },
    {
     "cell_type": "markdown",
     "metadata": {},
     "source": [
      "Por lo que su diferencia es de es de $0. 000 \\ 0000 \\ 0000  \\ 0000  \\ 0000  \\ 0000 \\ 0000 \\ 0000 \\ 0000 \\ 0000 \\ 0000 \\ 0000 \\ 0000 \\  1  \\ *2^{-4}_{[2]} \\ = \\ 1.3877787807814457*10^{-17}$ (seg\u00fan mi programa del notebook 3), que es bastante peque\u00f1o en este caso. "
     ]
    },
    {
     "cell_type": "heading",
     "level": 6,
     "metadata": {},
     "source": [
      "[2] Haz de nuevo el ejercicio anterior para x=1.1 y para x=10.1"
     ]
    },
    {
     "cell_type": "markdown",
     "metadata": {},
     "source": [
      "Ahora con $(1.1)_{10},  (10.1)_{10}$:"
     ]
    },
    {
     "cell_type": "markdown",
     "metadata": {},
     "source": [
      "$\\bullet$ La representaci\u00f3n binaria de $(1.1)_{[10]}$ es:"
     ]
    },
    {
     "cell_type": "markdown",
     "metadata": {},
     "source": [
      "$1.000[1100 \\  peri\u00f3dico]*2^{0}_{[2]}$ por lo que, cortando a 52 bits de mantisa:"
     ]
    },
    {
     "cell_type": "markdown",
     "metadata": {},
     "source": [
      "$ 1.000 \\ 1100 \\ 1100 \\ 1100 \\ 1100 \\ 1100 \\ 1100 \\ 1100 \\ 1100 \\ 1100 \\ 1100 \\  1100 \\  1100 \\ 1 < \\\\ 1.000 \\ 1100 \\ 1100 \\ 1100 \\ 1100 \\ 1100 \\ 1100 \\ 1100 \\ 1100 \\ 1100 \\ 1100 \\  1100 \\  1100 \\ 1 \\ 1100  \\ [1100 \\ peri\u00f3dico]_{[2]}= (1.1)_{[10]} < \\\\ 1.000 \\ 1100 \\ 1100 \\ 1100 \\ 1100 \\ 1100 \\ 1100 \\ 1100 \\ 1100 \\ 1100 \\ 1100 \\  1100 \\  1101 \\ 0 $"
     ]
    },
    {
     "cell_type": "markdown",
     "metadata": {},
     "source": [
      "Donde queda claro que:"
     ]
    },
    {
     "cell_type": "markdown",
     "metadata": {},
     "source": [
      "$\u25bd(1.1_{[10]})=   1.000 \\ 1100 \\ 1100 \\ 1100 \\ 1100 \\ 1100 \\ 1100 \\ 1100 \\ 1100 \\ 1100 \\ 1100 \\  1100 \\  1100 \\ 1 _{[2]}\\\\ \n",
      "\u25b3(0.1_{[10]})=1.000 \\ 1100 \\ 1100 \\ 1100 \\ 1100 \\ 1100 \\ 1100 \\ 1100 \\ 1100 \\ 1100 \\ 1100 \\  1100 \\  1101 \\ 0 _{[2]}$"
     ]
    },
    {
     "cell_type": "markdown",
     "metadata": {},
     "source": [
      "Su diferencia es: $0.000 \\ 0000 \\ 0000 \\ 0000 \\ 0000 \\ 0000 \\ 0000 \\ 0000 \\ 0000 \\ 0000 \\ 0000 \\  0000 \\  0000 \\ 1_{[2]}=2.220446049250313* 10^{-16}_{[10]}$ , que es mayor a la de antes."
     ]
    },
    {
     "cell_type": "markdown",
     "metadata": {},
     "source": [
      "$\\bullet$ La representaci\u00f3n binaria de $(10.1)_{[10]}$ es:"
     ]
    },
    {
     "cell_type": "markdown",
     "metadata": {},
     "source": [
      "$1010.000[1100 \\  peri\u00f3dico]*2^{0}_{[2]}= 1.010000[1100 \\  peri\u00f3dico]*2^{-3}_{[2]}$ por lo que, cortando a 52 bits de mantisa:"
     ]
    },
    {
     "cell_type": "markdown",
     "metadata": {},
     "source": [
      "$ 1. 010000 \\ 1100 \\ 1100 \\ 1100 \\ 1100 \\ 1100 \\ 1100 \\ 1100 \\ 1100 \\ 1100 \\ 1100 \\ 1100 \\ 11 *2^{-3}_{[2]} < \\\\ 1. 010000 \\ 1100 \\ 1100 \\ 1100 \\ 1100 \\ 1100 \\ 1100 \\ 1100 \\ 1100 \\ 1100 \\ 1100 \\ 1100 \\ 11 [1100 \\ peri\u00f3dico]_{[2]}*2^{-3}_{[2]} = (10.1)_{[10]} < \\\\ 1. 010000 \\ 1100 \\ 1100 \\ 1100 \\ 1100 \\ 1100 \\ 1100 \\ 1100 \\ 1100 \\ 1100 \\ 1100 \\ 1101 \\ 00 *2^{-3}_{[2]}$"
     ]
    },
    {
     "cell_type": "markdown",
     "metadata": {},
     "source": [
      "$\u25bd(10.1_{[10]})=1. 010000 \\ 1100 \\ 1100 \\ 1100 \\ 1100 \\ 1100 \\ 1100 \\ 1100 \\ 1100 \\ 1100 \\ 1100 \\ 1100 \\ 11 *2^{-3}_{[2]} \\\\ \n",
      "\u25b3(10.1_{[10]})=1. 010000 \\ 1100 \\ 1100 \\ 1100 \\ 1100 \\ 1100 \\ 1100 \\ 1100 \\ 1100 \\ 1100 \\ 1100 \\ 1101 \\ 00 *2^{-3}_{[2]}$"
     ]
    },
    {
     "cell_type": "markdown",
     "metadata": {},
     "source": [
      "Su diferencia es $0. 000000 \\ 0000 \\ 0000  \\ 0000  \\ 0000  \\ 0000 \\ 0000 \\ 0000 \\ 0000 \\ 0000 \\ 0000 \\ 0000  \\ 01*2^{-3}_{[2]} $  que es 2.7755575615628914e-17."
     ]
    },
    {
     "cell_type": "heading",
     "level": 6,
     "metadata": {},
     "source": [
      "[3] \u00bfQu\u00e9 pasa con \u25b3(x) y \u25bd(x) si x\u2208F\u2217?"
     ]
    },
    {
     "cell_type": "markdown",
     "metadata": {},
     "source": [
      "Si tienes un n\u00famero que ya es flotante (lo cual no es lo m\u00e1s com\u00fan), los redondeos hacia arriba y hacia abajo dan el n\u00famero ex\u00e1ctamente."
     ]
    },
    {
     "cell_type": "heading",
     "level": 6,
     "metadata": {},
     "source": [
      "[4] \u00bfCu\u00e1l es la relaci\u00f3n entre \u25b3(\u2212x) y \u25bd(x)?"
     ]
    },
    {
     "cell_type": "markdown",
     "metadata": {},
     "source": [
      "$\u25bd(-x)=-\u25b3(x)$"
     ]
    },
    {
     "cell_type": "heading",
     "level": 6,
     "metadata": {},
     "source": [
      "[5] Encuentra unos ejemplos de pares de n\u00fameros x,y\u2208F tal que x\u2295y\u2209F. (Aqu\u00ed, F denota a los flotantes de doble precisi\u00f3n de IEEE, y \u2295 es alguna operaci\u00f3n aritm\u00e9tica entre x y y.)"
     ]
    },
    {
     "cell_type": "markdown",
     "metadata": {},
     "source": [
      "1) Cuando \u2295 es el punto medio entre flotante y su consecutivo."
     ]
    },
    {
     "cell_type": "markdown",
     "metadata": {},
     "source": [
      "2) Tomando el flotante m\u00e1ximo *2, o el m\u00ednimo /2"
     ]
    },
    {
     "cell_type": "markdown",
     "metadata": {},
     "source": [
      "3)  Cualquier n\u00famero de la forma 10001 y dividirlo entre 10 (dejando un n\u00famero que se tenga que representar peri\u00f3dicame. nte en sistema binario), etc."
     ]
    },
    {
     "cell_type": "heading",
     "level": 6,
     "metadata": {},
     "source": [
      "[6] \u00bfQu\u00e9 podemos hacer al respecto?"
     ]
    },
    {
     "cell_type": "markdown",
     "metadata": {},
     "source": [
      "Debemos hacer redondeos para que el resultado caiga dentro de los n\u00fameros flotantes"
     ]
    },
    {
     "cell_type": "heading",
     "level": 6,
     "metadata": {},
     "source": [
      "[7] En los reales tenemos que, si se cumple x+y=x+y\u2032, entonces y=y\u2032. \u00bfSe cumple esto entre los n\u00fameros de punto flotante? Si tu respuesta es no, da un ejemplo."
     ]
    },
    {
     "cell_type": "markdown",
     "metadata": {},
     "source": [
      "No. Ejemplos triviales son si x es infinito o NaN."
     ]
    },
    {
     "cell_type": "markdown",
     "metadata": {},
     "source": [
      "Un ejemplo donde el error de redondeo se ve grave es tomando un n\u00famero y su negativo como $x$, $y'$ respectivamente y a $y$ como un punto muy cercano a x de manera que el redondeo haga que la suma (resta) de cero:"
     ]
    },
    {
     "cell_type": "markdown",
     "metadata": {},
     "source": [
      "Por ejemplo x= 1.1, y=-1.1, y'=-1.1+ xmin. Donde xmin representa el n\u00famero m\u00ednimo en el conjunto de puntos flotantes."
     ]
    },
    {
     "cell_type": "heading",
     "level": 6,
     "metadata": {},
     "source": [
      "[8] Analiza el caso de iterar el mapeo f:[0,1]\u2192[0,1] dado por f(x)=3x mod 1, con la condici\u00f3n inicial x0=110:"
     ]
    },
    {
     "cell_type": "heading",
     "level": 6,
     "metadata": {},
     "source": [
      "\u00bfQu\u00e9 pasa anal\u00edticamente?"
     ]
    },
    {
     "cell_type": "markdown",
     "metadata": {},
     "source": [
      "Se tendr\u00eda un ciclo (de periodo 4) entre los n\u00fameros $1/10,3/10,9/10,7/10$"
     ]
    },
    {
     "cell_type": "heading",
     "level": 6,
     "metadata": {},
     "source": [
      "\u00bfQu\u00e9 pasa num\u00e9ricamente?"
     ]
    },
    {
     "cell_type": "markdown",
     "metadata": {},
     "source": [
      "Revisando este problema por medio de arreglos:"
     ]
    },
    {
     "cell_type": "code",
     "collapsed": false,
     "input": [
      "largo=50;\n",
      "y=zeros(largo)\n",
      "y[1]=1/10;\n",
      "#y[1]=big(1/10);\n",
      "\n",
      "for i in 2:largo\n",
      "    \n",
      "    y[i]=mod(3*y[i-1],1)\n",
      "end"
     ],
     "language": "python",
     "metadata": {},
     "outputs": [],
     "prompt_number": 31
    },
    {
     "cell_type": "code",
     "collapsed": false,
     "input": [
      "y"
     ],
     "language": "python",
     "metadata": {},
     "outputs": [
      {
       "metadata": {},
       "output_type": "pyout",
       "prompt_number": 32,
       "text": [
        "50-element Array{Float64,1}:\n",
        " 0.1       \n",
        " 0.3       \n",
        " 0.9       \n",
        " 0.7       \n",
        " 0.1       \n",
        " 0.3       \n",
        " 0.9       \n",
        " 0.7       \n",
        " 0.1       \n",
        " 0.3       \n",
        " 0.9       \n",
        " 0.7       \n",
        " 0.1       \n",
        " \u22ee         \n",
        " 0.00585706\n",
        " 0.0175712 \n",
        " 0.0527136 \n",
        " 0.158141  \n",
        " 0.474422  \n",
        " 0.423266  \n",
        " 0.269799  \n",
        " 0.809396  \n",
        " 0.428189  \n",
        " 0.284568  \n",
        " 0.853703  \n",
        " 0.561109  "
       ]
      }
     ],
     "prompt_number": 32
    },
    {
     "cell_type": "markdown",
     "metadata": {},
     "source": [
      "Donde se ve que los \u00faltimos elementos pierden la periodicidad por los errores de redondeo. Esto tambi\u00e9n se puede hacer sin arreglos:"
     ]
    },
    {
     "cell_type": "code",
     "collapsed": false,
     "input": [
      "largo=50;\n",
      "y=1/10;\n",
      "\n",
      "for i in 2:largo\n",
      "    y=mod(3*y,1)\n",
      "end\n"
     ],
     "language": "python",
     "metadata": {},
     "outputs": [],
     "prompt_number": 33
    },
    {
     "cell_type": "code",
     "collapsed": false,
     "input": [
      "y"
     ],
     "language": "python",
     "metadata": {},
     "outputs": [
      {
       "metadata": {},
       "output_type": "pyout",
       "prompt_number": 34,
       "text": [
        "0.5611090705041035"
       ]
      }
     ],
     "prompt_number": 34
    },
    {
     "cell_type": "heading",
     "level": 6,
     "metadata": {},
     "source": [
      "\u00bfQu\u00e9 pasa si consideras una condici\u00f3n inicial x0 arbitraria?"
     ]
    },
    {
     "cell_type": "markdown",
     "metadata": {},
     "source": [
      "Si x0 fuera un n\u00famero de punto flotante (con representaci\u00f3n exacta de punto flotante) se tenddr\u00eda un ciclo con periodo definido. Si no, se tendr\u00e1 lo mismo: una serie que no converge a ning\u00fan lado:"
     ]
    },
    {
     "cell_type": "markdown",
     "metadata": {},
     "source": [
      "por ejemplo, copiando lo mismo de arriba y usando x0=2.0^-5:"
     ]
    },
    {
     "cell_type": "code",
     "collapsed": false,
     "input": [
      "largo=50;\n",
      "y=zeros(largo)\n",
      "y[1]=2.0^-5;\n",
      "#y[1]=big(1/10);\n",
      "\n",
      "for i in 2:largo\n",
      "    \n",
      "    y[i]=mod(3*y[i-1],1)\n",
      "end"
     ],
     "language": "python",
     "metadata": {},
     "outputs": [],
     "prompt_number": 6
    },
    {
     "cell_type": "code",
     "collapsed": false,
     "input": [
      "y"
     ],
     "language": "python",
     "metadata": {},
     "outputs": [
      {
       "metadata": {},
       "output_type": "pyout",
       "prompt_number": 7,
       "text": [
        "50-element Array{Float64,1}:\n",
        " 0.03125\n",
        " 0.09375\n",
        " 0.28125\n",
        " 0.84375\n",
        " 0.53125\n",
        " 0.59375\n",
        " 0.78125\n",
        " 0.34375\n",
        " 0.03125\n",
        " 0.09375\n",
        " 0.28125\n",
        " 0.84375\n",
        " 0.53125\n",
        " \u22ee      \n",
        " 0.78125\n",
        " 0.34375\n",
        " 0.03125\n",
        " 0.09375\n",
        " 0.28125\n",
        " 0.84375\n",
        " 0.53125\n",
        " 0.59375\n",
        " 0.78125\n",
        " 0.34375\n",
        " 0.03125\n",
        " 0.09375"
       ]
      }
     ],
     "prompt_number": 7
    },
    {
     "cell_type": "markdown",
     "metadata": {},
     "source": [
      "donde se tiene un ciclo de periodo 8"
     ]
    },
    {
     "cell_type": "heading",
     "level": 2,
     "metadata": {},
     "source": [
      "Aplicando redondeo para obtener resultados garantizados"
     ]
    },
    {
     "cell_type": "markdown",
     "metadata": {},
     "source": [
      "$S= \\sum_{n=1}^\\infty 1/n^2$."
     ]
    },
    {
     "cell_type": "markdown",
     "metadata": {},
     "source": [
      "Se sabe que $S=\u03c0^{2}/6$"
     ]
    },
    {
     "cell_type": "heading",
     "level": 6,
     "metadata": {},
     "source": [
      "[9] Calcula S num\u00e9ricamente de manera ingenua"
     ]
    },
    {
     "cell_type": "markdown",
     "metadata": {},
     "source": [
      "Haciendo la suma hasta n=2^20"
     ]
    },
    {
     "cell_type": "code",
     "collapsed": false,
     "input": [
      "suma=0.0;\n",
      "\n",
      "for i in 1:2^20\n",
      "    sumando=i\n",
      "    suma+= 1/(sumando^2)\n",
      "\n",
      "end\n",
      "\n",
      "#INTENT\u00c9 HACER LOS DEM\u00c1S INCISOS \"A LA MATLAB\" PERO LOS\n",
      "#CAMBIOS DE REDONDEO AFECTAN DIFERENTE A LOS VECTORES"
     ],
     "language": "python",
     "metadata": {},
     "outputs": [],
     "prompt_number": 8
    },
    {
     "cell_type": "code",
     "collapsed": false,
     "input": [
      "@time suma"
     ],
     "language": "python",
     "metadata": {},
     "outputs": [
      {
       "output_type": "stream",
       "stream": "stdout",
       "text": [
        "elapsed time: 0."
       ]
      },
      {
       "output_type": "stream",
       "stream": "stdout",
       "text": [
        "001316042 seconds (13880 bytes allocated)\n"
       ]
      },
      {
       "metadata": {},
       "output_type": "pyout",
       "prompt_number": 9,
       "text": [
        "1.6449331131744056"
       ]
      }
     ],
     "prompt_number": 9
    },
    {
     "cell_type": "code",
     "collapsed": false,
     "input": [
      "\u03c0^2/6"
     ],
     "language": "python",
     "metadata": {},
     "outputs": [
      {
       "metadata": {},
       "output_type": "pyout",
       "prompt_number": 10,
       "text": [
        "1.6449340668482264"
       ]
      }
     ],
     "prompt_number": 10
    },
    {
     "cell_type": "heading",
     "level": 6,
     "metadata": {},
     "source": [
      "Para calcular S de forma num\u00e9rica pero garantizada, tenemos dos tareas: debemos lidiar con la suma infinita, y luego garantizar que el resultado realmente contenga el valor verdadero."
     ]
    },
    {
     "cell_type": "heading",
     "level": 6,
     "metadata": {},
     "source": [
      "[10] Sea la cola de la suma $T_{n} := \\sum_{N+1}^\\infty 1/n^2$. Utiliza un argumento geom\u00e9trico para mostrar que:"
     ]
    },
    {
     "cell_type": "heading",
     "level": 6,
     "metadata": {},
     "source": [
      " $\\int_{N+1}^\\infty \\frac{1}{x^2} dx< T_{n} < \\int_{N+1}^\\infty \\frac{1}{(x-1)^2} dx$"
     ]
    },
    {
     "cell_type": "heading",
     "level": 6,
     "metadata": {},
     "source": [
      "y as\u00ed encuentra cotas para $T_{N}$."
     ]
    },
    {
     "cell_type": "heading",
     "level": 6,
     "metadata": {},
     "source": [
      "Sea $f:= 1/x$. Como es una funci\u00f3n mon\u00f3tona decreciente: $f_{x}< f_{n}$ si $x<n$  y  $f_{x} > f_{n}$ si $x>n$ . "
     ]
    },
    {
     "cell_type": "heading",
     "level": 6,
     "metadata": {},
     "source": [
      "Por lo que para cada n>N:"
     ]
    },
    {
     "cell_type": "heading",
     "level": 6,
     "metadata": {},
     "source": [
      " $\\int_{N+1}^\\infty \\frac{1}{x^2} dx< T_{n} < \\int_{N+1}^\\infty \\frac{1}{(x-1)^2} dx$"
     ]
    },
    {
     "cell_type": "markdown",
     "metadata": {},
     "source": [
      "El criterio integral de convergencia para series dice que para $f(x)$ positiva, continua y mon\u00f3tona decreciente:"
     ]
    },
    {
     "cell_type": "markdown",
     "metadata": {},
     "source": [
      " $\\int_{N}^{M+1} f(x) dx \\leq \\sum_{n=N}^{M} f(n) \\leq f(N)+\\int_{N}^M f(x) dx$"
     ]
    },
    {
     "cell_type": "markdown",
     "metadata": {},
     "source": [
      "Cambiando N por M y haciendo las integrales hasta infinito:"
     ]
    },
    {
     "cell_type": "markdown",
     "metadata": {},
     "source": [
      " $\\int_{M}^\\infty f(x) dx \\leq \\sum_{n=M}^\\infty f(n) \\leq f(M)+\\int_{M}^\\infty f(x) dx$"
     ]
    },
    {
     "cell_type": "markdown",
     "metadata": {},
     "source": [
      "Por lo que si $f(x)=1/x$, $M=N+1$:"
     ]
    },
    {
     "cell_type": "markdown",
     "metadata": {},
     "source": [
      " $\\int_{N+1}^\\infty \\frac{1}{x^2} dx \\leq \\sum_{N+1}^\\infty 1/n^2 \\leq \\int_{N+1}^\\infty \\frac{1}{(x)^2}dx+  \\frac{1}{(N+1)^2} < \\int_{N+1}^\\infty \\frac{1}{(x)^2}dx+  \\frac{1}{(N+1)(N)} = \\int_{N}^\\infty \\frac{1}{(x)^2}dx = \\int_{N+1}^\\infty \\frac{1}{(x-1)^2}dx $"
     ]
    },
    {
     "cell_type": "markdown",
     "metadata": {},
     "source": [
      "En este caso, las desigualdades son estrictas."
     ]
    },
    {
     "cell_type": "heading",
     "level": 6,
     "metadata": {},
     "source": [
      "[11] Usa redondeo para abajo y arriba para calcular cotas para la parte inicial $S_{N}=\\sum_{n=1}^N 1/n^2$."
     ]
    },
    {
     "cell_type": "code",
     "collapsed": false,
     "input": [
      "largo=10000;"
     ],
     "language": "python",
     "metadata": {},
     "outputs": [],
     "prompt_number": 11
    },
    {
     "cell_type": "code",
     "collapsed": false,
     "input": [
      "suma2=0.0\n",
      "for i in 1:largo\n",
      "    set_rounding(Float64, RoundDown)\n",
      "    suma2+= 1/(i^2)\n",
      "end\n",
      "suma2"
     ],
     "language": "python",
     "metadata": {},
     "outputs": [
      {
       "metadata": {},
       "output_type": "pyout",
       "prompt_number": 12,
       "text": [
        "1.6448340718469505"
       ]
      }
     ],
     "prompt_number": 12
    },
    {
     "cell_type": "markdown",
     "metadata": {},
     "source": [
      "El resultado de la suma \"infinita\", con redondeo hacia abajo es: 1.6448340718469505"
     ]
    },
    {
     "cell_type": "code",
     "collapsed": true,
     "input": [
      "suma3=0.0\n",
      "for i in 1:largo\n",
      "    set_rounding(Float64, RoundUp)\n",
      "    suma3+= 1/(i^2)\n",
      "end\n",
      "suma3"
     ],
     "language": "python",
     "metadata": {},
     "outputs": [
      {
       "metadata": {},
       "output_type": "pyout",
       "prompt_number": 13,
       "text": [
        "1.6448340718491679"
       ]
      }
     ],
     "prompt_number": 13
    },
    {
     "cell_type": "markdown",
     "metadata": {},
     "source": [
      "El resultado de la suma \"infinita\", con redondeo hacia arriba es: 1.6448340718491679"
     ]
    },
    {
     "cell_type": "code",
     "collapsed": false,
     "input": [
      "big((\u03c0^2) /6)"
     ],
     "language": "python",
     "metadata": {},
     "outputs": [
      {
       "metadata": {},
       "output_type": "pyout",
       "prompt_number": 14,
       "text": [
        "1.6449340668482264060656916626612655818462371826171875e+00 with 256 bits of precision"
       ]
      }
     ],
     "prompt_number": 14
    },
    {
     "cell_type": "markdown",
     "metadata": {},
     "source": [
      "sabajo=1.6448340718469505"
     ]
    },
    {
     "cell_type": "markdown",
     "metadata": {},
     "source": [
      "sarriba=1.6448340718491679"
     ]
    },
    {
     "cell_type": "markdown",
     "metadata": {},
     "source": [
      "sexact=1.6449340668482264060656916626613e con 256 bits de precisi\u00f3n."
     ]
    },
    {
     "cell_type": "heading",
     "level": 6,
     "metadata": {},
     "source": [
      "[12] Utiliza tus dos \u00faltimos resultados para dar cotas rigurosas (es decir, garantizadas) para S.\n",
      "\n",
      "Verifica que el valor verdadero s\u00ed est\u00e9 contenido adentro de tus cotas.\n"
     ]
    },
    {
     "cell_type": "markdown",
     "metadata": {},
     "source": [
      "Las cotas te\u00f3ricas son (resolviendo la integral):"
     ]
    },
    {
     "cell_type": "markdown",
     "metadata": {},
     "source": [
      "$ sabajo + 1/(N+1) <  \\sum_{N+1}^\\infty 1/n^2 < sarriba + 1/N$"
     ]
    },
    {
     "cell_type": "markdown",
     "metadata": {},
     "source": [
      "Para n= 10000 : "
     ]
    },
    {
     "cell_type": "code",
     "collapsed": false,
     "input": [
      "(suma2 + 1/(10001))<(\u03c0^2/6)< suma3 + 1/10000"
     ],
     "language": "python",
     "metadata": {},
     "outputs": [
      {
       "metadata": {},
       "output_type": "pyout",
       "prompt_number": 15,
       "text": [
        "true"
       ]
      }
     ],
     "prompt_number": 15
    },
    {
     "cell_type": "heading",
     "level": 6,
     "metadata": {},
     "source": [
      "[13] Repite el c\u00e1lculo con BigFloat para obtener m\u00e1s precisi\u00f3n.\n",
      "\n",
      "[En Julia, para cambiar la precisi\u00f3n de los BigFloat, usamos\n",
      "\n",
      "set_bigfloat_precision(100).\n",
      "\n"
     ]
    },
    {
     "cell_type": "code",
     "collapsed": false,
     "input": [
      "sumau=0\n",
      "for i in 1:10000\n",
      "    set_bigfloat_precision(100)\n",
      "    set_rounding(Float64, RoundUp)\n",
      "    sumau+= 1/(i^2)\n",
      "end\n",
      "sumau\n"
     ],
     "language": "python",
     "metadata": {},
     "outputs": [
      {
       "metadata": {},
       "output_type": "pyout",
       "prompt_number": 16,
       "text": [
        "1.6448340718491679"
       ]
      }
     ],
     "prompt_number": 16
    },
    {
     "cell_type": "code",
     "collapsed": false,
     "input": [
      "sumad=0\n",
      "for i in 1:10000\n",
      "    set_bigfloat_precision(100)\n",
      "    set_rounding(Float64, RoundDown)\n",
      "    sumad+= 1/(i^2)\n",
      "end\n",
      "sumad"
     ],
     "language": "python",
     "metadata": {},
     "outputs": [
      {
       "metadata": {},
       "output_type": "pyout",
       "prompt_number": 17,
       "text": [
        "1.6448340718469505"
       ]
      }
     ],
     "prompt_number": 17
    },
    {
     "cell_type": "code",
     "collapsed": false,
     "input": [
      "(suma2 + 1/(10001)) == (sumad + 1/(10001))"
     ],
     "language": "python",
     "metadata": {},
     "outputs": [
      {
       "metadata": {},
       "output_type": "pyout",
       "prompt_number": 18,
       "text": [
        "true"
       ]
      }
     ],
     "prompt_number": 18
    },
    {
     "cell_type": "code",
     "collapsed": false,
     "input": [
      "(suma3 + 1/(10001)) == (sumau + 1/(10001))"
     ],
     "language": "python",
     "metadata": {},
     "outputs": [
      {
       "metadata": {},
       "output_type": "pyout",
       "prompt_number": 19,
       "text": [
        "true"
       ]
      }
     ],
     "prompt_number": 19
    },
    {
     "cell_type": "markdown",
     "metadata": {},
     "source": [
      "Por lo que se ve que no hubo ning\u00fan cambio"
     ]
    },
    {
     "cell_type": "heading",
     "level": 6,
     "metadata": {},
     "source": [
      "[14] \u00bfCambia en algo las cotas que obtuviste arriba, si haces las sumas invirtiendo el orden de los sumandos? (Por ejemplo, sumando desde n=N hasta n=1 en lugar de n=1 hasta n=N.) Si s\u00ed hay alg\u00fan cambio, \u00bfcu\u00e1l de las maneras de hacer la suma es mejor, y por qu\u00e9?"
     ]
    },
    {
     "cell_type": "markdown",
     "metadata": {},
     "source": [
      "Espero que mejore el resultado, pues si se hacen primero los n\u00fameros m\u00e1s grandes, debe de haber m\u00e1s memoria localizada para las sumas parciales."
     ]
    },
    {
     "cell_type": "code",
     "collapsed": false,
     "input": [
      "suma2u=0.0\n",
      "for i in 10000:-1:1\n",
      "    set_bigfloat_precision(100)\n",
      "    set_rounding(Float64, RoundUp)\n",
      "    suma2u+= 1/(i^2)\n",
      "end\n",
      "suma2u"
     ],
     "language": "python",
     "metadata": {},
     "outputs": [
      {
       "metadata": {},
       "output_type": "pyout",
       "prompt_number": 20,
       "text": [
        "1.6448340718480605"
       ]
      }
     ],
     "prompt_number": 20
    },
    {
     "cell_type": "code",
     "collapsed": false,
     "input": [
      "abs((\u03c0^2/6)-suma2u+1/(10000))<abs((\u03c0^2/6)-sumau+1/(10000))"
     ],
     "language": "python",
     "metadata": {},
     "outputs": [
      {
       "metadata": {},
       "output_type": "pyout",
       "prompt_number": 21,
       "text": [
        "false"
       ]
      }
     ],
     "prompt_number": 21
    },
    {
     "cell_type": "code",
     "collapsed": false,
     "input": [
      "suma2d=0.0\n",
      "for i in 10000:-1:1\n",
      "    set_bigfloat_precision(100)\n",
      "    set_rounding(Float64, RoundDown)\n",
      "    suma2d+= 1/(i^2)\n",
      "end\n",
      "suma2d"
     ],
     "language": "python",
     "metadata": {},
     "outputs": [
      {
       "metadata": {},
       "output_type": "pyout",
       "prompt_number": 22,
       "text": [
        "1.6448340718480592"
       ]
      }
     ],
     "prompt_number": 22
    },
    {
     "cell_type": "code",
     "collapsed": false,
     "input": [
      "abs((\u03c0^2/6)-suma2d+1/(10001))<abs((\u03c0^2/6)-sumad+1/(10001))"
     ],
     "language": "python",
     "metadata": {},
     "outputs": [
      {
       "metadata": {},
       "output_type": "pyout",
       "prompt_number": 23,
       "text": [
        "true"
       ]
      }
     ],
     "prompt_number": 23
    },
    {
     "cell_type": "markdown",
     "metadata": {},
     "source": [
      "Osea que para las sumas por abajo lo que dije arriba NO es cierto. Solo para redondeo por arriba."
     ]
    },
    {
     "cell_type": "heading",
     "level": 1,
     "metadata": {},
     "source": [
      "CALCULAR \\PI^2/6 CON LO DE arriba con cotas arriba y abajo"
     ]
    },
    {
     "cell_type": "markdown",
     "metadata": {},
     "source": [
      "[15] Aproxima num\u00e9ricamente la suma:"
     ]
    },
    {
     "cell_type": "code",
     "collapsed": false,
     "input": [
      "function (seriearm\u00f3nica(x::Int64))\n",
      "\n",
      "suma=0.0\n",
      "set_bigfloat_precision(100)\n",
      "set_rounding(Float64, RoundDown)\n",
      "\n",
      "\n",
      "for i in x:-1:1\n",
      "  \n",
      "    suma+= 1.0/(i)\n",
      "end\n",
      "\n",
      "return (suma)\n",
      "end"
     ],
     "language": "python",
     "metadata": {},
     "outputs": [
      {
       "metadata": {},
       "output_type": "pyout",
       "prompt_number": 45,
       "text": [
        "seriearm\u00f3nica (generic function with 1 method)"
       ]
      }
     ],
     "prompt_number": 45
    },
    {
     "cell_type": "code",
     "collapsed": false,
     "input": [
      "seriearm\u00f3nica(1000000)"
     ],
     "language": "python",
     "metadata": {},
     "outputs": [
      {
       "metadata": {},
       "output_type": "pyout",
       "prompt_number": 49,
       "text": [
        "14.392726722786186"
       ]
      }
     ],
     "prompt_number": 49
    },
    {
     "cell_type": "code",
     "collapsed": false,
     "input": [
      "suma=0.0\n",
      "for i in 1:1000000\n",
      "    set_bigfloat_precision(100)\n",
      "    set_rounding(Float64, RoundUp)\n",
      "    suma+= 1.0/(i)\n",
      "end\n",
      "suma"
     ],
     "language": "python",
     "metadata": {},
     "outputs": [
      {
       "metadata": {},
       "output_type": "pyout",
       "prompt_number": 38,
       "text": [
        "14.392726723756125"
       ]
      }
     ],
     "prompt_number": 38
    },
    {
     "cell_type": "markdown",
     "metadata": {},
     "source": [
      "La convergencia de esta serie es muy lenta. Pero esta serie diverge."
     ]
    },
    {
     "cell_type": "markdown",
     "metadata": {},
     "source": [
      "A\u00fan as\u00ed, retomando el criterio integral de convergencia para series, usando f(x)=1/x:"
     ]
    },
    {
     "cell_type": "markdown",
     "metadata": {},
     "source": [
      " $\\int_{N}^{M+1} f(x) dx= ln( \\frac{M+1}{N}) \\leq \\sum_{n=N}^{M} 1/n \\leq f(N)+\\int_{N}^M f(x) dx = ln(M/N)+1/N$"
     ]
    },
    {
     "cell_type": "markdown",
     "metadata": {},
     "source": [
      "que nos muestra que la serie no est\u00e1 acotada."
     ]
    },
    {
     "cell_type": "code",
     "collapsed": false,
     "input": [
      "longitud= 1000000;\n",
      " set_bigfloat_precision(100)\n",
      "    set_rounding(Float64, RoundUp)\n",
      "\n",
      "#y=zeros(longitud);\n",
      "#for i in 1:longitud \n",
      "    #y[i]=1/i\n",
      "#end\n",
      "\n",
      "[1/n for n= 1:1000]\n",
      "sum(y)\n"
     ],
     "language": "python",
     "metadata": {},
     "outputs": [
      {
       "metadata": {},
       "output_type": "pyout",
       "prompt_number": 40,
       "text": [
        "14.392726722865941"
       ]
      }
     ],
     "prompt_number": 40
    },
    {
     "cell_type": "code",
     "collapsed": false,
     "input": [
      "13.392726722865914"
     ],
     "language": "python",
     "metadata": {},
     "outputs": [
      {
       "metadata": {},
       "output_type": "pyout",
       "prompt_number": 41,
       "text": [
        "13.392726722865914"
       ]
      }
     ],
     "prompt_number": 41
    },
    {
     "cell_type": "code",
     "collapsed": false,
     "input": [
      "@code_typed"
     ],
     "language": "python",
     "metadata": {},
     "outputs": []
    },
    {
     "cell_type": "code",
     "collapsed": false,
     "input": [
      "@code_native"
     ],
     "language": "python",
     "metadata": {},
     "outputs": []
    }
   ],
   "metadata": {}
  }
 ]
}
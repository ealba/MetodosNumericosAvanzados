{
 "metadata": {
  "language": "Julia",
  "name": "",
  "signature": "sha256:261ba5a97baaaac8fb5d334fc54d8868ee12f727f13e3a65b8d642f46556d4f5"
 },
 "nbformat": 3,
 "nbformat_minor": 0,
 "worksheets": [
  {
   "cells": [
    {
     "cell_type": "markdown",
     "metadata": {},
     "source": [
      "[1]"
     ]
    },
    {
     "cell_type": "code",
     "collapsed": false,
     "input": [
      "type interv\n",
      "    a\n",
      "    b\n",
      "end\n",
      "\n",
      "function DV(x::Float64,y=Float64)\n",
      "    DV(x,y) \n",
      "end\n",
      "\n",
      "function DV(x::ASCIIString,y=ASCIIString)\n",
      "    DV(x,y) \n",
      "end"
     ],
     "language": "python",
     "metadata": {},
     "outputs": [
      {
       "metadata": {},
       "output_type": "pyout",
       "prompt_number": 5,
       "text": [
        "DV (generic function with 4 methods)"
       ]
      }
     ],
     "prompt_number": 5
    },
    {
     "cell_type": "code",
     "collapsed": false,
     "input": [
      "interv(3,\u03c0)"
     ],
     "language": "python",
     "metadata": {},
     "outputs": [
      {
       "metadata": {},
       "output_type": "pyout",
       "prompt_number": 7,
       "text": [
        "interv(3,\u03c0 = 3.1415926535897...)"
       ]
      }
     ],
     "prompt_number": 7
    },
    {
     "cell_type": "raw",
     "metadata": {},
     "source": []
    }
   ],
   "metadata": {}
  }
 ]
}
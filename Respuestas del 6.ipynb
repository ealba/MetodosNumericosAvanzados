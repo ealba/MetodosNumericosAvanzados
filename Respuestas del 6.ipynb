{
 "metadata": {
  "language": "Julia",
  "name": "",
  "signature": "sha256:459b6f0b4af8bf1c95b8d603ca01f9844796ee89a3b834745dbe2b01c4aa821c"
 },
 "nbformat": 3,
 "nbformat_minor": 0,
 "worksheets": [
  {
   "cells": [
    {
     "cell_type": "heading",
     "level": 1,
     "metadata": {},
     "source": [
      "Tipos compositos"
     ]
    },
    {
     "cell_type": "heading",
     "level": 6,
     "metadata": {},
     "source": [
      "[1] (i) \u00bfC\u00f3mo representar\u00edas a una part\u00edcula en 1D con posici\u00f3n, velocidad y masa en Julia?"
     ]
    },
    {
     "cell_type": "markdown",
     "metadata": {},
     "source": [
      "Una manera es por un vector de tres entradas que depende del tiempo [posici\u00f3n(t), velocidad (t), masa(t)]. O con las tres variables p(t), v(t), m(t)"
     ]
    },
    {
     "cell_type": "heading",
     "level": 6,
     "metadata": {},
     "source": [
      "(ii) \u00bfC\u00f3mo mover\u00edas la part\u00edcula en un paso \u03b4t?"
     ]
    },
    {
     "cell_type": "markdown",
     "metadata": {},
     "source": [
      "Si fuera una \u03b4t infinitesimal conocemos la aceleraci\u00f3n a(t). Una manera es propagar el vector anterior como: "
     ]
    },
    {
     "cell_type": "markdown",
     "metadata": {},
     "source": [
      "$[posici\u00f3n(t+\u03b4t)=posici\u00f3n(t)+velocidad(t)*\u03b4t , velocidad (t+\u03b4t)= aceleraci\u00f3n(t)*\u03b4t, masa(t)]$"
     ]
    },
    {
     "cell_type": "markdown",
     "metadata": {},
     "source": [
      "o con variables como: $p(t+\u03b4t)=p(t)+v(t)\u2217\u03b4t$; $v(t+\u03b4t)= aceleraci\u00f3n(t)*\u03b4t$, y hab\u0155ia que aaveriguar la forma en que cambia la masa"
     ]
    },
    {
     "cell_type": "heading",
     "level": 6,
     "metadata": {},
     "source": [
      "(iii) \u00bfSi necesitas otra part\u00edcula con las mismas propiedades, qu\u00e9 har\u00edas?"
     ]
    },
    {
     "cell_type": "markdown",
     "metadata": {},
     "source": [
      "definir otro vector (u otras tres variables) de la misma manera pero con distintas formas de evoluci\u00f3n y condiciones iniciales."
     ]
    },
    {
     "cell_type": "heading",
     "level": 6,
     "metadata": {},
     "source": [
      "(iv) Para N tales part\u00edculas, \u00bfqu\u00e9 podr\u00edas hacer?"
     ]
    },
    {
     "cell_type": "markdown",
     "metadata": {},
     "source": [
      "Como antes definir (2+d)N variables, donde d es la dimensi\u00f3n en la que se mueven (o N vectores) que alberguen la informaci\u00f3n"
     ]
    },
    {
     "cell_type": "heading",
     "level": 6,
     "metadata": {},
     "source": [
      "El problema aqu\u00ed es que la representaci\u00f3n del concepto \"part\u00edcula\" est\u00e1 repartida en distintas variables. Julia provee una manera de recolectar la informaci\u00f3n de un \"objeto\", al definir un tipo comp\u00f3sito (\"composite type\"):"
     ]
    },
    {
     "cell_type": "code",
     "collapsed": false,
     "input": [
      "type MiTipo\n",
      "    a\n",
      "    b::Int\n",
      "end"
     ],
     "language": "python",
     "metadata": {},
     "outputs": [],
     "prompt_number": 5
    },
    {
     "cell_type": "heading",
     "level": 6,
     "metadata": {},
     "source": [
      "Esto define un tipo de objeto llamado MiTipo. Cada objeto de este tipo tendr\u00e1 adentro su propia copia de una variable llamada a y otra llamada b. En este caso, no hemos especificado ning\u00fan tipo para a, mientras que b est\u00e1 forzado a tener el tipo Int."
     ]
    },
    {
     "cell_type": "heading",
     "level": 6,
     "metadata": {},
     "source": [
      "[En general, en Julia, para anotar a una variable con un tipo dado, usamos esta notaci\u00f3n con ::.]"
     ]
    },
    {
     "cell_type": "heading",
     "level": 6,
     "metadata": {},
     "source": [
      "[2] Define un tipo que se llama Particula, que tiene variables para la posici\u00f3n, velocidad y masa en una dimensi\u00f3n."
     ]
    },
    {
     "cell_type": "code",
     "collapsed": false,
     "input": [
      "type Part\u00edcula\n",
      "    x::Float64\n",
      "    v::Float64\n",
      "    m::Float64\n",
      "end"
     ],
     "language": "python",
     "metadata": {},
     "outputs": [],
     "prompt_number": 1
    },
    {
     "cell_type": "heading",
     "level": 6,
     "metadata": {},
     "source": [
      "[3] Experimenta para ver c\u00f3mo crear un objeto de tipo Particula. [Pista: piensa en funciones]"
     ]
    },
    {
     "cell_type": "markdown",
     "metadata": {},
     "source": [
      "Justo lo que hace el objeto part\u00edcula es que crea una representaci\u00f3n en Float64 de sus entradas. Si ponemos m\u00e1s de tres entradas o tratamos de redefinir el onjeto de tipo \"Part\u00edcula\" nos da un error\n",
      " "
     ]
    },
    {
     "cell_type": "code",
     "collapsed": false,
     "input": [
      "Part\u00edcula(1//2,\u03c0,e)"
     ],
     "language": "python",
     "metadata": {},
     "outputs": [
      {
       "metadata": {},
       "output_type": "pyout",
       "prompt_number": 2,
       "text": [
        "Part\u00edcula(0.5,3.141592653589793,2.718281828459045)"
       ]
      }
     ],
     "prompt_number": 2
    },
    {
     "cell_type": "markdown",
     "metadata": {},
     "source": [
      "Part\u00edcula(10,100,1,0)"
     ]
    },
    {
     "cell_type": "code",
     "collapsed": false,
     "input": [
      "methods(Part\u00edcula)"
     ],
     "language": "python",
     "metadata": {},
     "outputs": [
      {
       "html": [
        "2 methods for generic function <b>Part\u00edcula</b>:<ul><li> Part\u00edcula(x::<b>Float64</b>,v::<b>Float64</b>,m::<b>Float64</b>)<li> Part\u00edcula(x,v,m)</ul>"
       ],
       "metadata": {},
       "output_type": "pyout",
       "prompt_number": 32,
       "text": [
        "# 2 methods for generic function \"Part\u00edcula\":\n",
        "Part\u00edcula(x::Float64,v::Float64,m::Float64)\n",
        "Part\u00edcula(x,v,m)"
       ]
      }
     ],
     "prompt_number": 32
    },
    {
     "cell_type": "heading",
     "level": 5,
     "metadata": {},
     "source": [
      "Prueba para ver si se puede reescribir:"
     ]
    },
    {
     "cell_type": "markdown",
     "metadata": {},
     "source": [
      "type Part\u00edcula\n",
      "    \n",
      "    p::Float64\n",
      "    x::Float64\n",
      "    v::Float64\n",
      "    m::Float64\n",
      "    \n",
      "end"
     ]
    },
    {
     "cell_type": "markdown",
     "metadata": {},
     "source": [
      "Part\u00edcula(1.0,2.0,3.0,4)"
     ]
    },
    {
     "cell_type": "heading",
     "level": 6,
     "metadata": {},
     "source": [
      "[4] \u00bfC\u00f3mo podemos definir una funci\u00f3n mover que mueve la part\u00edcula en un paso de tiempo \u03b4t? [Pista: Para especificar que un objeto t es de tipo MiTipo, usamos la sintaxis t::MiTipo.]"
     ]
    },
    {
     "cell_type": "markdown",
     "metadata": {},
     "source": [
      "Suponiendo que se sabe la trayectoria de la part\u00edcula (en 1D, su aceleraci\u00f3n y velocidad):"
     ]
    },
    {
     "cell_type": "code",
     "collapsed": false,
     "input": [
      "a=1.0 #la aceleraci\u00f3n siempre va a ser conocida"
     ],
     "language": "python",
     "metadata": {},
     "outputs": [
      {
       "metadata": {},
       "output_type": "pyout",
       "prompt_number": 3,
       "text": [
        "1.0"
       ]
      }
     ],
     "prompt_number": 3
    },
    {
     "cell_type": "code",
     "collapsed": false,
     "input": [
      "function mover1 (dt:: Float64,p::Part\u00edcula)\n",
      "    Part\u00edcula(p.x+p.v*dt,p.v+a*dt,p.m)\n",
      "    end"
     ],
     "language": "python",
     "metadata": {},
     "outputs": [
      {
       "metadata": {},
       "output_type": "pyout",
       "prompt_number": 28,
       "text": [
        "mover1 (generic function with 1 method)"
       ]
      }
     ],
     "prompt_number": 28
    },
    {
     "cell_type": "code",
     "collapsed": false,
     "input": [
      "mover1(1.0,Part\u00edcula(1.0,2.0,3.0))"
     ],
     "language": "python",
     "metadata": {},
     "outputs": [
      {
       "metadata": {},
       "output_type": "pyout",
       "prompt_number": 29,
       "text": [
        "Part\u00edcula(3.0,3.0,3.0)"
       ]
      }
     ],
     "prompt_number": 29
    },
    {
     "cell_type": "code",
     "collapsed": false,
     "input": [
      "L=(Part\u00edcula(1.0,2.0,3.0));"
     ],
     "language": "python",
     "metadata": {},
     "outputs": [],
     "prompt_number": 34
    },
    {
     "cell_type": "heading",
     "level": 6,
     "metadata": {},
     "source": [
      "[5] Define un objeto Gas que representa N part\u00edculas, as\u00ed como una funci\u00f3n mover que mueve el gas."
     ]
    },
    {
     "cell_type": "markdown",
     "metadata": {},
     "source": [
      "Lo hice para N=3. Se puede hacer llamando N veces la funci\u00f3n part\u00edcula anterior, o definiendo el espacio de muchas dimensiones"
     ]
    },
    {
     "cell_type": "code",
     "collapsed": false,
     "input": [
      "type Gas\n",
      "    P1::Part\u00edcula\n",
      "    P2::Part\u00edcula\n",
      "    P3::Part\u00edcula\n",
      "end"
     ],
     "language": "python",
     "metadata": {},
     "outputs": [],
     "prompt_number": 30
    },
    {
     "cell_type": "code",
     "collapsed": false,
     "input": [
      "GL=Gas(L,L,L)"
     ],
     "language": "python",
     "metadata": {},
     "outputs": [
      {
       "metadata": {},
       "output_type": "pyout",
       "prompt_number": 40,
       "text": [
        "Gas(Part\u00edcula(1.0,2.0,3.0),Part\u00edcula(1.0,2.0,3.0),Part\u00edcula(1.0,2.0,3.0))"
       ]
      }
     ],
     "prompt_number": 40
    },
    {
     "cell_type": "code",
     "collapsed": false,
     "input": [
      "GL.P2"
     ],
     "language": "python",
     "metadata": {},
     "outputs": [
      {
       "metadata": {},
       "output_type": "pyout",
       "prompt_number": 42,
       "text": [
        "Part\u00edcula(1.0,2.0,3.0)"
       ]
      }
     ],
     "prompt_number": 42
    },
    {
     "cell_type": "code",
     "collapsed": false,
     "input": [
      "#type NPart\u00edculas\n",
      "#        x1::Float64\n",
      "#        v1::Float64\n",
      "#        m1::Float64\n",
      "#        x2::Float64\n",
      "#        v2::Float64\n",
      "#        m2::Float64\n",
      "#        x3::Float64\n",
      "#        v3::Float64\n",
      "#        m3::Float64\n",
      "#end"
     ],
     "language": "python",
     "metadata": {},
     "outputs": []
    },
    {
     "cell_type": "code",
     "collapsed": false,
     "input": [
      "#function mover3 (dt,x1,x2,x3,v1,v2,v3,m1,m2,m3)\n",
      "#NPart\u00edculas(x1+v1*dt,v1+a*dt,m1,x2+v2*dt,v2+a*dt,m2,x3+v3*dt,v3+a*dt,m3)\n",
      "#end"
     ],
     "language": "python",
     "metadata": {},
     "outputs": []
    },
    {
     "cell_type": "code",
     "collapsed": false,
     "input": [
      "function movermuchas (dt:: Float64,g::Gas)\n",
      "\n",
      "Gas(mover1(dt,g.P1),mover1(dt,g.P2),mover1(dt,g.P3))\n",
      "end"
     ],
     "language": "python",
     "metadata": {},
     "outputs": [
      {
       "metadata": {},
       "output_type": "pyout",
       "prompt_number": 43,
       "text": [
        "movermuchas (generic function with 1 method)"
       ]
      }
     ],
     "prompt_number": 43
    },
    {
     "cell_type": "code",
     "collapsed": false,
     "input": [
      "#function mover1 (dt:: Float64,p::Part\u00edcula)\n",
      "#    Part\u00edcula(p.x+p.v*dt,p.v+a*dt,p.m)\n",
      "#    end"
     ],
     "language": "python",
     "metadata": {},
     "outputs": [],
     "prompt_number": 46
    },
    {
     "cell_type": "heading",
     "level": 6,
     "metadata": {},
     "source": [
      "[6] Considera una estructura compuesta que denotaremos\n",
      "${\\overline v} = (f_v, d_v)$, que consta de dos campos `f_v` y `d_v`, que son flotantes. Esta estructura est\u00e1 definida de tal manera que se cumplen las siguientes propiedades:"
     ]
    },
    {
     "cell_type": "markdown",
     "metadata": {},
     "source": [
      "\\begin{align}\n",
      "{\\overline c} &= (c,0), &\\textrm{ para toda constante $c$},\\\\\n",
      "{\\overline x} &= (x_0,1), &\\textrm{para toda variable independiente $x = x_0$},\\\\\n",
      "{\\overline v} \\pm {\\overline w} & =  (f_v \\pm f_w, d_v \\pm d_w),\\\\\n",
      "{\\overline v} \\cdot {\\overline w} & =  (f_v \\cdot f_w, f_v \\cdot d_w + d_v \\cdot f_w),\\\\\n",
      "\\frac{{\\overline v}}{{\\overline w}} & =  \n",
      "\\left( \\frac{f_v}{f_w}, \\frac{d_v \\cdot f_w - f_v \\cdot d_w}{f_w^2} \\right),\\\\\n",
      "{\\overline u}^\\alpha &= (f_u^\\alpha, \\alpha f_u^{\\alpha-1} d_u), &\\textrm{donde $\\alpha$ \n",
      "es un n\u00famero real}.\n",
      "\\end{align}\n"
     ]
    },
    {
     "cell_type": "heading",
     "level": 6,
     "metadata": {},
     "source": [
      "i. Implementa esto usando Julia."
     ]
    },
    {
     "cell_type": "code",
     "collapsed": false,
     "input": [
      "type deriv\n",
      "    f::Float64\n",
      "    d::Float64\n",
      "end"
     ],
     "language": "python",
     "metadata": {},
     "outputs": [],
     "prompt_number": 9
    },
    {
     "cell_type": "code",
     "collapsed": false,
     "input": [
      "function constante(x::deriv)\n",
      "        return deriv(deriv.f,0.0)\n",
      "end"
     ],
     "language": "python",
     "metadata": {},
     "outputs": [
      {
       "metadata": {},
       "output_type": "pyout",
       "prompt_number": 13,
       "text": [
        "constante (generic function with 1 method)"
       ]
      }
     ],
     "prompt_number": 13
    },
    {
     "cell_type": "code",
     "collapsed": false,
     "input": [
      "function evaluar(x::deriv)\n",
      "    return(x.,0.0)\n",
      "end"
     ],
     "language": "python",
     "metadata": {},
     "outputs": [
      {
       "metadata": {},
       "output_type": "pyout",
       "prompt_number": 10,
       "text": [
        "true"
       ]
      }
     ],
     "prompt_number": 10
    },
    {
     "cell_type": "code",
     "collapsed": false,
     "input": [],
     "language": "python",
     "metadata": {},
     "outputs": []
    }
   ],
   "metadata": {}
  }
 ]
}
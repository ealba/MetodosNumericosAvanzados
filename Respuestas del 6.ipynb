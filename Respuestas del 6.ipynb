{
 "metadata": {
  "language": "Julia",
  "name": "",
  "signature": "sha256:631e288cd7e12fe48a0a9e63a8522d6ffce78e59f0fdb7d615ec9d1c5dd17667"
 },
 "nbformat": 3,
 "nbformat_minor": 0,
 "worksheets": [
  {
   "cells": [
    {
     "cell_type": "heading",
     "level": 1,
     "metadata": {},
     "source": [
      "Tipos compositos"
     ]
    },
    {
     "cell_type": "heading",
     "level": 6,
     "metadata": {},
     "source": [
      "[1] (i) \u00bfC\u00f3mo representar\u00edas a una part\u00edcula en 1D con posici\u00f3n, velocidad y masa en Julia?"
     ]
    },
    {
     "cell_type": "markdown",
     "metadata": {},
     "source": [
      "Una manera es por un vector de tres entradas que depende del tiempo [posici\u00f3n(t), velocidad (t), masa(t)]. O con las tres variables p(t), v(t), m(t)"
     ]
    },
    {
     "cell_type": "heading",
     "level": 6,
     "metadata": {},
     "source": [
      "(ii) \u00bfC\u00f3mo mover\u00edas la part\u00edcula en un paso \u03b4t?"
     ]
    },
    {
     "cell_type": "markdown",
     "metadata": {},
     "source": [
      "Si fuera una \u03b4t infinitesimal conocemos la aceleraci\u00f3n a(t). Una manera es propagar el vector anterior como: "
     ]
    },
    {
     "cell_type": "markdown",
     "metadata": {},
     "source": [
      "$[posici\u00f3n(t+\u03b4t)=posici\u00f3n(t)+velocidad(t)*\u03b4t , velocidad (t+\u03b4t)= aceleraci\u00f3n(t)*\u03b4t, masa(t)]$"
     ]
    },
    {
     "cell_type": "markdown",
     "metadata": {},
     "source": [
      "o con variables como: $p(t+\u03b4t)=p(t)+v(t)\u2217\u03b4t$; $v(t+\u03b4t)= aceleraci\u00f3n(t)*\u03b4t +v(t)$, y hab\u0155ia que averiguar la forma en que cambia la masa"
     ]
    },
    {
     "cell_type": "heading",
     "level": 6,
     "metadata": {},
     "source": [
      "(iii) \u00bfSi necesitas otra part\u00edcula con las mismas propiedades, qu\u00e9 har\u00edas?"
     ]
    },
    {
     "cell_type": "markdown",
     "metadata": {},
     "source": [
      "definir otro vector (u otras tres variables) de la misma manera pero con distintas formas de evoluci\u00f3n y condiciones iniciales."
     ]
    },
    {
     "cell_type": "heading",
     "level": 6,
     "metadata": {},
     "source": [
      "(iv) Para N tales part\u00edculas, \u00bfqu\u00e9 podr\u00edas hacer?"
     ]
    },
    {
     "cell_type": "markdown",
     "metadata": {},
     "source": [
      "Como antes, definir 2*d*N variables (d es la dimensi\u00f3n en la que se mueven) que alberguen la informaci\u00f3n."
     ]
    },
    {
     "cell_type": "heading",
     "level": 6,
     "metadata": {},
     "source": [
      "El problema aqu\u00ed es que la representaci\u00f3n del concepto \"part\u00edcula\" est\u00e1 repartida en distintas variables. Julia provee una manera de recolectar la informaci\u00f3n de un \"objeto\", al definir un tipo comp\u00f3sito (\"composite type\"):"
     ]
    },
    {
     "cell_type": "code",
     "collapsed": false,
     "input": [
      "type MiTipo\n",
      "    a\n",
      "    b::Int\n",
      "end"
     ],
     "language": "python",
     "metadata": {},
     "outputs": [],
     "prompt_number": 1
    },
    {
     "cell_type": "heading",
     "level": 6,
     "metadata": {},
     "source": [
      "Esto define un tipo de objeto llamado MiTipo. Cada objeto de este tipo tendr\u00e1 adentro su propia copia de una variable llamada a y otra llamada b. En este caso, no hemos especificado ning\u00fan tipo para a, mientras que b est\u00e1 forzado a tener el tipo Int."
     ]
    },
    {
     "cell_type": "heading",
     "level": 6,
     "metadata": {},
     "source": [
      "[En general, en Julia, para anotar a una variable con un tipo dado, usamos esta notaci\u00f3n con ::.]"
     ]
    },
    {
     "cell_type": "heading",
     "level": 6,
     "metadata": {},
     "source": [
      "[2] Define un tipo que se llama Particula, que tiene variables para la posici\u00f3n, velocidad y masa en una dimensi\u00f3n."
     ]
    },
    {
     "cell_type": "code",
     "collapsed": false,
     "input": [
      "type Part\u00edcula\n",
      "    x::Float64\n",
      "    v::Float64\n",
      "    m::Float64\n",
      "end"
     ],
     "language": "python",
     "metadata": {},
     "outputs": [],
     "prompt_number": 1
    },
    {
     "cell_type": "heading",
     "level": 6,
     "metadata": {},
     "source": [
      "[3] Experimenta para ver c\u00f3mo crear un objeto de tipo Particula. [Pista: piensa en funciones]"
     ]
    },
    {
     "cell_type": "markdown",
     "metadata": {},
     "source": [
      "Justo lo que hace el objeto part\u00edcula es que crea una representaci\u00f3n en Float64 de sus entradas. Si ponemos m\u00e1s de tres entradas o tratamos de redefinir el onjeto de tipo \"Part\u00edcula\" nos da un error\n",
      " "
     ]
    },
    {
     "cell_type": "code",
     "collapsed": false,
     "input": [
      "Part\u00edcula(1//2,\u03c0,e)"
     ],
     "language": "python",
     "metadata": {},
     "outputs": [
      {
       "metadata": {},
       "output_type": "pyout",
       "prompt_number": 3,
       "text": [
        "Part\u00edcula(0.5,3.141592653589793,2.718281828459045)"
       ]
      }
     ],
     "prompt_number": 3
    },
    {
     "cell_type": "markdown",
     "metadata": {},
     "source": [
      "Part\u00edcula(10,100,1,0)"
     ]
    },
    {
     "cell_type": "code",
     "collapsed": false,
     "input": [
      "methods(Part\u00edcula)"
     ],
     "language": "python",
     "metadata": {},
     "outputs": [
      {
       "html": [
        "2 methods for generic function <b>Part\u00edcula</b>:<ul><li> Part\u00edcula(x::<b>Float64</b>,v::<b>Float64</b>,m::<b>Float64</b>)<li> Part\u00edcula(x,v,m)</ul>"
       ],
       "metadata": {},
       "output_type": "pyout",
       "prompt_number": 4,
       "text": [
        "# 2 methods for generic function \"Part\u00edcula\":\n",
        "Part\u00edcula(x::Float64,v::Float64,m::Float64)\n",
        "Part\u00edcula(x,v,m)"
       ]
      }
     ],
     "prompt_number": 4
    },
    {
     "cell_type": "heading",
     "level": 4,
     "metadata": {},
     "source": [
      "Prueba para ver si se puede reescribir (no se puede):"
     ]
    },
    {
     "cell_type": "code",
     "collapsed": false,
     "input": [
      "type Part\u00edcula\n",
      "    \n",
      "    p::Float64\n",
      "    x::Float64\n",
      "    v::Float64\n",
      "    m::Float64\n",
      "    \n",
      "end"
     ],
     "language": "python",
     "metadata": {},
     "outputs": [],
     "prompt_number": 19
    },
    {
     "cell_type": "code",
     "collapsed": false,
     "input": [
      "Part\u00edcula(1.0,2.0,3.0,4)"
     ],
     "language": "python",
     "metadata": {},
     "outputs": [
      {
       "ename": "LoadError",
       "evalue": "`Part\u00edcula` has no method matching Part\u00edcula(::Float64, ::Float64, ::Float64, ::Int64)\nwhile loading In[8], in expression starting on line 1",
       "output_type": "pyerr",
       "traceback": [
        "`Part\u00edcula` has no method matching Part\u00edcula(::Float64, ::Float64, ::Float64, ::Int64)\nwhile loading In[8], in expression starting on line 1",
        ""
       ]
      }
     ],
     "prompt_number": 8
    },
    {
     "cell_type": "heading",
     "level": 6,
     "metadata": {},
     "source": [
      "[4] \u00bfC\u00f3mo podemos definir una funci\u00f3n mover que mueve la part\u00edcula en un paso de tiempo \u03b4t? [Pista: Para especificar que un objeto t es de tipo MiTipo, usamos la sintaxis t::MiTipo.]"
     ]
    },
    {
     "cell_type": "markdown",
     "metadata": {},
     "source": [
      "Suponiendo que se sabe la trayectoria de la part\u00edcula (en 1D, su aceleraci\u00f3n y velocidad):"
     ]
    },
    {
     "cell_type": "code",
     "collapsed": false,
     "input": [
      "a=1.0 #la aceleraci\u00f3n siempre va a ser conocida"
     ],
     "language": "python",
     "metadata": {},
     "outputs": [
      {
       "metadata": {},
       "output_type": "pyout",
       "prompt_number": 5,
       "text": [
        "1.0"
       ]
      }
     ],
     "prompt_number": 5
    },
    {
     "cell_type": "code",
     "collapsed": false,
     "input": [
      "function mover1 (dt:: Float64,p::Part\u00edcula)\n",
      "    Part\u00edcula(p.x+p.v*dt,p.v+a*dt,p.m)\n",
      "    end"
     ],
     "language": "python",
     "metadata": {},
     "outputs": [
      {
       "metadata": {},
       "output_type": "pyout",
       "prompt_number": 2,
       "text": [
        "mover1 (generic function with 1 method)"
       ]
      }
     ],
     "prompt_number": 2
    },
    {
     "cell_type": "markdown",
     "metadata": {},
     "source": [
      "es equivalente a: "
     ]
    },
    {
     "cell_type": "code",
     "collapsed": false,
     "input": [
      "function mover1! (dt:: Float64,p::Part\u00edcula)\n",
      "    \n",
      "    #El ! modifica su argumenro -- tiene un *efecto secundario*\n",
      "    p.x += p.v*dt\n",
      "    p.v +=  a*dt\n",
      "    p.m  = p.m\n",
      "    end"
     ],
     "language": "python",
     "metadata": {},
     "outputs": [
      {
       "metadata": {},
       "output_type": "pyout",
       "prompt_number": 10,
       "text": [
        "mover1! (generic function with 1 method)"
       ]
      }
     ],
     "prompt_number": 10
    },
    {
     "cell_type": "code",
     "collapsed": false,
     "input": [
      "mover1(1.0,Part\u00edcula(1.0,2.0,3.0))"
     ],
     "language": "python",
     "metadata": {},
     "outputs": [
      {
       "metadata": {},
       "output_type": "pyout",
       "prompt_number": 9,
       "text": [
        "Part\u00edcula(3.0,3.0,3.0)"
       ]
      }
     ],
     "prompt_number": 9
    },
    {
     "cell_type": "code",
     "collapsed": false,
     "input": [
      "L=(Part\u00edcula(1.0,2.0,3.0));"
     ],
     "language": "python",
     "metadata": {},
     "outputs": [],
     "prompt_number": 12
    },
    {
     "cell_type": "heading",
     "level": 6,
     "metadata": {},
     "source": [
      "[5] Define un objeto Gas que representa N part\u00edculas, as\u00ed como una funci\u00f3n mover que mueve el gas."
     ]
    },
    {
     "cell_type": "markdown",
     "metadata": {},
     "source": [
      "Lo hice para N=3. Se puede hacer llamando N veces la funci\u00f3n part\u00edcula anterior:"
     ]
    },
    {
     "cell_type": "code",
     "collapsed": false,
     "input": [
      "type Gas\n",
      "    P1::Part\u00edcula\n",
      "    P2::Part\u00edcula\n",
      "    P3::Part\u00edcula\n",
      "end"
     ],
     "language": "python",
     "metadata": {},
     "outputs": [],
     "prompt_number": 18
    },
    {
     "cell_type": "code",
     "collapsed": false,
     "input": [
      "GL=Gas(L,L,L)"
     ],
     "language": "python",
     "metadata": {},
     "outputs": [
      {
       "metadata": {},
       "output_type": "pyout",
       "prompt_number": 19,
       "text": [
        "Gas(Part\u00edcula(1.0,2.0,3.0),Part\u00edcula(1.0,2.0,3.0),Part\u00edcula(1.0,2.0,3.0))"
       ]
      }
     ],
     "prompt_number": 19
    },
    {
     "cell_type": "code",
     "collapsed": false,
     "input": [
      "GL.P2"
     ],
     "language": "python",
     "metadata": {},
     "outputs": [
      {
       "metadata": {},
       "output_type": "pyout",
       "prompt_number": 20,
       "text": [
        "Part\u00edcula(1.0,2.0,3.0)"
       ]
      }
     ],
     "prompt_number": 20
    },
    {
     "cell_type": "code",
     "collapsed": false,
     "input": [
      "function movermuchas (dt:: Float64,g::Gas)\n",
      "\n",
      "Gas(mover1(dt,g.P1),mover1(dt,g.P2),mover1(dt,g.P3))\n",
      "end"
     ],
     "language": "python",
     "metadata": {},
     "outputs": [
      {
       "metadata": {},
       "output_type": "pyout",
       "prompt_number": 21,
       "text": [
        "movermuchas (generic function with 1 method)"
       ]
      }
     ],
     "prompt_number": 21
    },
    {
     "cell_type": "markdown",
     "metadata": {},
     "source": [
      "Para hacer esto de manera autom\u00e1tica, se debe de definir distinto a una part\u00edcula"
     ]
    },
    {
     "cell_type": "code",
     "collapsed": false,
     "input": [
      "type Particle\n",
      "    x\n",
      "    v\n",
      "    m\n",
      "end"
     ],
     "language": "python",
     "metadata": {},
     "outputs": [],
     "prompt_number": 22
    },
    {
     "cell_type": "code",
     "collapsed": false,
     "input": [
      "function NGas(N::Int)      #s\u00f3lo pude hacer una funci\u00f3n donde le digas el n\u00famero de part\u00edculas y te arroje un arreglo de part\u00edculas         \n",
      "    #este un ejemplo sencillo donde todas las part\u00edculas tienen velocidades aleatorias en el origen y tienen  masa 1. En el caso general \n",
      "     #hay que cambiar las entradas con una funci\u00f3n\n",
      "r=zeros(N); \n",
      "v=[rand(Float64) for i=1:N]   \n",
      "m=ones(N);\n",
      "particles = Particle[]\n",
      "\n",
      "    \n",
      "for i in 1:N\n",
      "        push!(particles, Particle(r[i],v[i],1)) \n",
      "end\n",
      "   \n",
      "    \n",
      "    particles\n",
      "end"
     ],
     "language": "python",
     "metadata": {},
     "outputs": [
      {
       "metadata": {},
       "output_type": "pyout",
       "prompt_number": 1,
       "text": [
        "NGas (generic function with 1 method)"
       ]
      }
     ],
     "prompt_number": 1
    },
    {
     "cell_type": "code",
     "collapsed": false,
     "input": [],
     "language": "python",
     "metadata": {},
     "outputs": []
    },
    {
     "cell_type": "markdown",
     "metadata": {},
     "source": [
      "LA FORMA QUE DIJO DAVID EN CLASE:"
     ]
    },
    {
     "cell_type": "code",
     "collapsed": true,
     "input": [
      "workspace()"
     ],
     "language": "python",
     "metadata": {},
     "outputs": [],
     "prompt_number": 11
    },
    {
     "cell_type": "code",
     "collapsed": false,
     "input": [
      "type Particula\n",
      "    x\n",
      "    v\n",
      "    m\n",
      "end"
     ],
     "language": "python",
     "metadata": {},
     "outputs": [],
     "prompt_number": 2
    },
    {
     "cell_type": "code",
     "collapsed": false,
     "input": [
      "type Gas\n",
      "    N::Int \n",
      "    particulas::Vector{Particula}\n",
      "end\n",
      "\n",
      "function Gas(particulas::Vector{Particula})\n",
      "    Gas(length(particulas),particulas)\n",
      "end"
     ],
     "language": "python",
     "metadata": {},
     "outputs": [
      {
       "metadata": {},
       "output_type": "pyout",
       "prompt_number": 4,
       "text": [
        "Gas (constructor with 3 methods)"
       ]
      }
     ],
     "prompt_number": 4
    },
    {
     "cell_type": "code",
     "collapsed": false,
     "input": [
      "methods(Gas)"
     ],
     "language": "python",
     "metadata": {},
     "outputs": [
      {
       "html": [
        "3 methods for generic function <b>Gas</b>:<ul><li> Gas(N::<b>Int64</b>,particulas::<b>Array{Particula,1}</b>)<li> Gas(particulas::<b>Array{Particula,1}</b>) at In[4]:7<li> Gas(N,particulas)</ul>"
       ],
       "metadata": {},
       "output_type": "pyout",
       "prompt_number": 6,
       "text": [
        "# 3 methods for generic function \"Gas\":\n",
        "Gas(N::Int64,particulas::Array{Particula,1})\n",
        "Gas(particulas::Array{Particula,1}) at In[4]:7\n",
        "Gas(N,particulas)"
       ]
      }
     ],
     "prompt_number": 6
    },
    {
     "cell_type": "code",
     "collapsed": false,
     "input": [
      "function mover!(g::Gas)\n",
      "   #TERMINAR ESTO \n",
      "end"
     ],
     "language": "python",
     "metadata": {},
     "outputs": [
      {
       "metadata": {},
       "output_type": "pyout",
       "prompt_number": 7,
       "text": [
        "mover! (generic function with 1 method)"
       ]
      }
     ],
     "prompt_number": 7
    },
    {
     "cell_type": "code",
     "collapsed": false,
     "input": [],
     "language": "python",
     "metadata": {},
     "outputs": []
    },
    {
     "cell_type": "code",
     "collapsed": false,
     "input": [],
     "language": "python",
     "metadata": {},
     "outputs": []
    },
    {
     "cell_type": "code",
     "collapsed": false,
     "input": [],
     "language": "python",
     "metadata": {},
     "outputs": []
    },
    {
     "cell_type": "code",
     "collapsed": false,
     "input": [],
     "language": "python",
     "metadata": {},
     "outputs": []
    },
    {
     "cell_type": "code",
     "collapsed": false,
     "input": [],
     "language": "python",
     "metadata": {},
     "outputs": []
    },
    {
     "cell_type": "code",
     "collapsed": false,
     "input": [],
     "language": "python",
     "metadata": {},
     "outputs": []
    },
    {
     "cell_type": "code",
     "collapsed": false,
     "input": [],
     "language": "python",
     "metadata": {},
     "outputs": []
    },
    {
     "cell_type": "code",
     "collapsed": false,
     "input": [],
     "language": "python",
     "metadata": {},
     "outputs": []
    },
    {
     "cell_type": "code",
     "collapsed": false,
     "input": [
      "NGas(2)"
     ],
     "language": "python",
     "metadata": {},
     "outputs": [
      {
       "metadata": {},
       "output_type": "pyout",
       "prompt_number": 24,
       "text": [
        "2-element Array{Particle,1}:\n",
        " Particle(0.0,0.21478014333009732,1)\n",
        " Particle(0.0,0.9620417945040804,1) "
       ]
      }
     ],
     "prompt_number": 24
    },
    {
     "cell_type": "code",
     "collapsed": false,
     "input": [
      "function Nmover (N,dt,a) #esta funci\u00f3n mueve un NGas(N) en un dt, si tienen una aceleraci\u00f3n a (a puede ser cero)\n",
      "    Gasdt=Particle[]\n",
      "    NGas0=NGas(N)\n",
      "    for i in 1:N\n",
      "        push!(Gasdt, Particle(NGas0[i].x + NGas0[i].v*dt ,NGas0[i].v + a*dt ,NGas0[i].m)) #la ley de evoluci\u00f3n est\u00e1 medio chafa, pero \n",
      "        end                                                                                   #est\u00e1 f\u00e1cil\n",
      "    Gasdt\n",
      "end"
     ],
     "language": "python",
     "metadata": {},
     "outputs": [
      {
       "metadata": {},
       "output_type": "pyout",
       "prompt_number": 27,
       "text": [
        "Nmover (generic function with 1 method)"
       ]
      }
     ],
     "prompt_number": 27
    },
    {
     "cell_type": "code",
     "collapsed": false,
     "input": [
      "Nmover(20,1.0,0.0)"
     ],
     "language": "python",
     "metadata": {},
     "outputs": [
      {
       "metadata": {},
       "output_type": "pyout",
       "prompt_number": 29,
       "text": [
        "20-element Array{Particle,1}:\n",
        " Particle(0.5296490251743184,0.5296490251743184,1)    \n",
        " Particle(0.4169484298631463,0.4169484298631463,1)    \n",
        " Particle(0.48012007015166347,0.48012007015166347,1)  \n",
        " Particle(0.24197568379564682,0.24197568379564682,1)  \n",
        " Particle(0.046448846529168364,0.046448846529168364,1)\n",
        " Particle(0.324592709912056,0.324592709912056,1)      \n",
        " Particle(0.26853040144435636,0.26853040144435636,1)  \n",
        " Particle(0.679649875973094,0.679649875973094,1)      \n",
        " Particle(0.8505120760951639,0.8505120760951639,1)    \n",
        " Particle(0.7434688874966346,0.7434688874966346,1)    \n",
        " Particle(0.19258719746550312,0.19258719746550312,1)  \n",
        " Particle(0.6043285963376517,0.6043285963376517,1)    \n",
        " Particle(0.8427121573376855,0.8427121573376855,1)    \n",
        " Particle(0.4787408730019891,0.4787408730019891,1)    \n",
        " Particle(0.9498785574232389,0.9498785574232389,1)    \n",
        " Particle(0.9901891175944688,0.9901891175944688,1)    \n",
        " Particle(0.4101852892033395,0.4101852892033395,1)    \n",
        " Particle(0.7414774873257937,0.7414774873257937,1)    \n",
        " Particle(0.3489694976104545,0.3489694976104545,1)    \n",
        " Particle(0.3153900881836107,0.3153900881836107,1)    "
       ]
      }
     ],
     "prompt_number": 29
    },
    {
     "cell_type": "heading",
     "level": 6,
     "metadata": {},
     "source": [
      "[6] Considera una estructura compuesta que denotaremos\n",
      "${\\overline v} = (f_v, d_v)$, que consta de dos campos `f_v` y `d_v`, que son flotantes. Esta estructura est\u00e1 definida de tal manera que se cumplen las siguientes propiedades:"
     ]
    },
    {
     "cell_type": "markdown",
     "metadata": {},
     "source": [
      "\\begin{align}\n",
      "{\\overline c} &= (c,0), &\\textrm{ para toda constante $c$},\\\\\n",
      "{\\overline x} &= (x_0,1), &\\textrm{para toda variable independiente $x = x_0$},\\\\\n",
      "{\\overline v} \\pm {\\overline w} & =  (f_v \\pm f_w, d_v \\pm d_w),\\\\\n",
      "{\\overline v} \\cdot {\\overline w} & =  (f_v \\cdot f_w, f_v \\cdot d_w + d_v \\cdot f_w),\\\\\n",
      "\\frac{{\\overline v}}{{\\overline w}} & =  \n",
      "\\left( \\frac{f_v}{f_w}, \\frac{d_v \\cdot f_w - f_v \\cdot d_w}{f_w^2} \\right),\\\\\n",
      "{\\overline u}^\\alpha &= (f_u^\\alpha, \\alpha f_u^{\\alpha-1} d_u), &\\textrm{donde $\\alpha$ \n",
      "es un n\u00famero real}.\n",
      "\\end{align}\n"
     ]
    },
    {
     "cell_type": "heading",
     "level": 6,
     "metadata": {},
     "source": [
      "i. Implementa esto usando Julia."
     ]
    },
    {
     "cell_type": "code",
     "collapsed": false,
     "input": [
      "type DV\n",
      "    f::Float64\n",
      "    d::Float64\n",
      "end\n",
      "            function DV(f::Float64)\n",
      "                DV(f,0) \n",
      "            end\n",
      "\n",
      "            function +(v::DV, w::DV)\n",
      "            nuevof=v.f+w.f;\n",
      "            nuevod=v.d+w.d;\n",
      "            DV(nuevof,nuevod)\n",
      "            end\n",
      "\n",
      "            function -(v::DV, w::DV)\n",
      "            nuevof=v.f-w.f;\n",
      "            nuevod=v.d-w.d;\n",
      "            DV(nuevof,nuevod)\n",
      "            end\n",
      "\n",
      "\n",
      "            function *(v::DV, w::DV)\n",
      "            nuevof=v.f*w.f;\n",
      "            nuevod=v.f*w.d+v.d*w.f;\n",
      "            DV(nuevof,nuevod)\n",
      "            end\n",
      "#Para multiplicar por escalares es m\u00e1s f\u00e1cil usar la definici\u00f3n de constante, es decir usar DV(3)*DV(x) en vez de definir 3*DV(v)\n",
      "\n",
      "            function /(v::DV, w::DV)\n",
      "            nuevof=v.f/w.f;\n",
      "            nuevod=(v.d*w.f-v.f*w.d)/(w.f^2);\n",
      "            DV(nuevof,nuevod)\n",
      "            end\n",
      "\n",
      "            function pot(v::DV, a::Float64) #Decid\u00ed dejarla as\u00ed para no causar problema con las potencias ya definidas\n",
      "            nuevof=(v.f^a);\n",
      "            nuevod=a*(v.f^(a-1))*v.d\n",
      "            DV(nuevof,nuevod)\n",
      "            end\n",
      "            \n",
      "            function exponencial(v::DV) #Decid\u00ed dejarla as\u00ed para no causar problema con las potencias ya definidas\n",
      "            nuevof=exp(v.f);\n",
      "            nuevod=exp(v.f)*v.d\n",
      "            DV(nuevof,nuevod)\n",
      "            end"
     ],
     "language": "python",
     "metadata": {},
     "outputs": [
      {
       "metadata": {},
       "output_type": "pyout",
       "prompt_number": 1,
       "text": [
        "exponencial (generic function with 1 method)"
       ]
      }
     ],
     "prompt_number": 1
    },
    {
     "cell_type": "code",
     "collapsed": false,
     "input": [
      "function variableindep(v::DV)\n",
      "            nuevof=v.f;\n",
      "            nuevod=1.0;\n",
      "            DV(nuevof,nuevod)\n",
      "            end\n"
     ],
     "language": "python",
     "metadata": {},
     "outputs": [
      {
       "metadata": {},
       "output_type": "pyout",
       "prompt_number": 2,
       "text": [
        "variableindep (generic function with 1 method)"
       ]
      }
     ],
     "prompt_number": 2
    },
    {
     "cell_type": "heading",
     "level": 6,
     "metadata": {},
     "source": [
      "ii. Define un polinomio $p(x)$ cuya variable independiente es $x$. Eval\u00faa el polinomio en ${\\overline x}$ (variable independiente $x$), en $x_0=0$. \u00bfQu\u00e9 interpretaci\u00f3n tiene *el valor* obtenido para $d_x$? Y si en lugar de un polinomio utilizas un cociente de polinomios $r({\\overline x}) = p({\\overline x}) / q({\\overline x})$?\n"
     ]
    },
    {
     "cell_type": "code",
     "collapsed": false,
     "input": [
      "function p(x::DV)\n",
      "    DV(5.0)*pot(x,2.0)+DV(7.0)*x+DV(10.0)\n",
      "end"
     ],
     "language": "python",
     "metadata": {},
     "outputs": [
      {
       "metadata": {},
       "output_type": "pyout",
       "prompt_number": 3,
       "text": [
        "p (generic function with 1 method)"
       ]
      }
     ],
     "prompt_number": 3
    },
    {
     "cell_type": "code",
     "collapsed": false,
     "input": [
      "a=DV(0.0, 1.0);"
     ],
     "language": "python",
     "metadata": {},
     "outputs": [],
     "prompt_number": 4
    },
    {
     "cell_type": "code",
     "collapsed": false,
     "input": [
      "p(a)"
     ],
     "language": "python",
     "metadata": {},
     "outputs": [
      {
       "metadata": {},
       "output_type": "pyout",
       "prompt_number": 5,
       "text": [
        "DV(10.0,7.0)"
       ]
      }
     ],
     "prompt_number": 5
    },
    {
     "cell_type": "code",
     "collapsed": false,
     "input": [
      "b=DV(0.0, 105463152.0);"
     ],
     "language": "python",
     "metadata": {},
     "outputs": [],
     "prompt_number": 6
    },
    {
     "cell_type": "code",
     "collapsed": false,
     "input": [
      "p(variableindep(b))"
     ],
     "language": "python",
     "metadata": {},
     "outputs": [
      {
       "metadata": {},
       "output_type": "pyout",
       "prompt_number": 36,
       "text": [
        "DV(10.0,7.0)"
       ]
      }
     ],
     "prompt_number": 36
    },
    {
     "cell_type": "markdown",
     "metadata": {},
     "source": [
      "(Vemos que da lo mismo usar la funci\u00f3n $variableindep$ que usar un DV que ya tenga estructura de variable independiente)"
     ]
    },
    {
     "cell_type": "markdown",
     "metadata": {},
     "source": [
      "Aqu\u00ed el valor de $d_{x}$ (la segunda entrada) es el valor de la derivada del polinomio en $x_{0}=0.0$"
     ]
    },
    {
     "cell_type": "code",
     "collapsed": false,
     "input": [
      "function q(x::DV)\n",
      "    DV(3.0)*pot(x,4.0)+DV(1.0)*x+DV(1.0)\n",
      "end"
     ],
     "language": "python",
     "metadata": {},
     "outputs": [
      {
       "metadata": {},
       "output_type": "pyout",
       "prompt_number": 37,
       "text": [
        "q (generic function with 1 method)"
       ]
      }
     ],
     "prompt_number": 37
    },
    {
     "cell_type": "code",
     "collapsed": false,
     "input": [
      "p(a)"
     ],
     "language": "python",
     "metadata": {},
     "outputs": [
      {
       "metadata": {},
       "output_type": "pyout",
       "prompt_number": 24,
       "text": [
        "DV(10.0,7.0)"
       ]
      }
     ],
     "prompt_number": 24
    },
    {
     "cell_type": "code",
     "collapsed": false,
     "input": [
      "q(a)"
     ],
     "language": "python",
     "metadata": {},
     "outputs": [
      {
       "metadata": {},
       "output_type": "pyout",
       "prompt_number": 25,
       "text": [
        "DV(1.0,1.0)"
       ]
      }
     ],
     "prompt_number": 25
    },
    {
     "cell_type": "code",
     "collapsed": false,
     "input": [
      "p(a)/q(a)"
     ],
     "language": "python",
     "metadata": {},
     "outputs": [
      {
       "metadata": {},
       "output_type": "pyout",
       "prompt_number": 26,
       "text": [
        "DV(10.0,-3.0)"
       ]
      }
     ],
     "prompt_number": 26
    },
    {
     "cell_type": "markdown",
     "metadata": {},
     "source": [
      "Si se hacen las cuentas, uno se puede dar cuenta que se tiene el mismo resultado de arriba: la derivada de la funci\u00f3n en el punto $x_{0}=0.0$"
     ]
    },
    {
     "cell_type": "heading",
     "level": 6,
     "metadata": {},
     "source": [
      "iii. Pensando en la interpretaci\u00f3n que le diste a $d_x$, c\u00f3mo definir\u00edas la acci\u00f3n sobre ${\\overline x}$ de las siguientes funciones:"
     ]
    },
    {
     "cell_type": "markdown",
     "metadata": {},
     "source": [
      "- $\\exp(\\,{\\overline x}\\,)$ : Ser\u00eda la derivada de la exponencial en un punto, es decir, la misma exponencial :"
     ]
    },
    {
     "cell_type": "code",
     "collapsed": false,
     "input": [
      "function exponencial(v::DV) #Decid\u00ed llamarla exponencial para no causar problema con las exp ya definidas\n",
      "    DV(exp(v.f),exp(v.f)*v.d)\n",
      "end"
     ],
     "language": "python",
     "metadata": {},
     "outputs": [
      {
       "metadata": {},
       "output_type": "pyout",
       "prompt_number": 40,
       "text": [
        "exponencial (generic function with 2 methods)"
       ]
      }
     ],
     "prompt_number": 40
    },
    {
     "cell_type": "code",
     "collapsed": false,
     "input": [
      "exponencial(variableindep(DV(1.0, 20346531000.0)))"
     ],
     "language": "python",
     "metadata": {},
     "outputs": [
      {
       "metadata": {},
       "output_type": "pyout",
       "prompt_number": 41,
       "text": [
        "DV(2.718281828459045,2.718281828459045)"
       ]
      }
     ],
     "prompt_number": 41
    },
    {
     "cell_type": "markdown",
     "metadata": {},
     "source": [
      "- $\\log(\\,{\\overline x}\\,)$ "
     ]
    },
    {
     "cell_type": "code",
     "collapsed": false,
     "input": [
      "function ln(v::DV) \n",
      "    DV(log(v.f),v.d/v.f)\n",
      "end"
     ],
     "language": "python",
     "metadata": {},
     "outputs": [
      {
       "metadata": {},
       "output_type": "pyout",
       "prompt_number": 42,
       "text": [
        "ln (generic function with 1 method)"
       ]
      }
     ],
     "prompt_number": 42
    },
    {
     "cell_type": "code",
     "collapsed": false,
     "input": [
      "ln(variableindep(DV(10.0,4856.0)))"
     ],
     "language": "python",
     "metadata": {},
     "outputs": [
      {
       "metadata": {},
       "output_type": "pyout",
       "prompt_number": 43,
       "text": [
        "DV(2.302585092994046,0.1)"
       ]
      }
     ],
     "prompt_number": 43
    },
    {
     "cell_type": "code",
     "collapsed": false,
     "input": [
      "function sen(v::DV) #Decid\u00ed dejarla as\u00ed para no causar problema con las potencias ya definidas\n",
      "    DV(sin(v.f),cos(v.f)*v.d)\n",
      "end"
     ],
     "language": "python",
     "metadata": {},
     "outputs": [
      {
       "metadata": {},
       "output_type": "pyout",
       "prompt_number": 44,
       "text": [
        "sen (generic function with 1 method)"
       ]
      }
     ],
     "prompt_number": 44
    },
    {
     "cell_type": "code",
     "collapsed": false,
     "input": [
      "sen(variableindep(DV(pi,4856.0)))"
     ],
     "language": "python",
     "metadata": {},
     "outputs": [
      {
       "metadata": {},
       "output_type": "pyout",
       "prompt_number": 45,
       "text": [
        "DV(1.2246467991473532e-16,-1.0)"
       ]
      }
     ],
     "prompt_number": 45
    },
    {
     "cell_type": "code",
     "collapsed": false,
     "input": [
      "function cose(v::DV) #Decid\u00ed dejarla as\u00ed para no causar problema con las potencias ya definidas\n",
      "    DV(cos(v.f),-sin(v.f)*v.d)\n",
      "end"
     ],
     "language": "python",
     "metadata": {},
     "outputs": [
      {
       "metadata": {},
       "output_type": "pyout",
       "prompt_number": 47,
       "text": [
        "cose (generic function with 1 method)"
       ]
      }
     ],
     "prompt_number": 47
    },
    {
     "cell_type": "code",
     "collapsed": false,
     "input": [
      "cose(variableindep(DV(pi,4856.0)))"
     ],
     "language": "python",
     "metadata": {},
     "outputs": [
      {
       "metadata": {},
       "output_type": "pyout",
       "prompt_number": 48,
       "text": [
        "DV(-1.0,-1.2246467991473532e-16)"
       ]
      }
     ],
     "prompt_number": 48
    },
    {
     "cell_type": "code",
     "collapsed": false,
     "input": [
      "sen(variableindep(DV(pi,4856.0)))/cose(variableindep(DV(pi,4856.0)))"
     ],
     "language": "python",
     "metadata": {},
     "outputs": [
      {
       "metadata": {},
       "output_type": "pyout",
       "prompt_number": 35,
       "text": [
        "DV(-1.2246467991473532e-16,1.0)"
       ]
      }
     ],
     "prompt_number": 35
    },
    {
     "cell_type": "code",
     "collapsed": false,
     "input": [
      "function tang(v::DV) #Decid\u00ed dejarla as\u00ed para no causar problema con las potencias ya definidas\n",
      "    DV(tan(v.f),(sec(v.f))^2*v.d)\n",
      "end"
     ],
     "language": "python",
     "metadata": {},
     "outputs": [
      {
       "metadata": {},
       "output_type": "pyout",
       "prompt_number": 49,
       "text": [
        "tang (generic function with 1 method)"
       ]
      }
     ],
     "prompt_number": 49
    },
    {
     "cell_type": "code",
     "collapsed": false,
     "input": [
      "tang(variableindep(DV(pi,4856.0))) # vemos que es lo mismo que sen/cose"
     ],
     "language": "python",
     "metadata": {},
     "outputs": [
      {
       "metadata": {},
       "output_type": "pyout",
       "prompt_number": 50,
       "text": [
        "DV(-1.2246467991473532e-16,1.0)"
       ]
      }
     ],
     "prompt_number": 50
    },
    {
     "cell_type": "markdown",
     "metadata": {},
     "source": [
      "iv. \u00bfC\u00f3mo podemos definir las cosas en Julia de tal manera que ${\\overline v} + c$, y las dem\u00e1s posibles operaciones\n",
      "entre una variable comp\u00f3sita y un flotante $c$, tengan sentido?"
     ]
    },
    {
     "cell_type": "markdown",
     "metadata": {},
     "source": [
      "Una manera es definiendo los flotantes como un caso espec\u00edfico de variable composita (como lo hice arriba). Tambi\u00e9n pedemos definir casos espec\u00edficos de la operaci\u00f3n en la definici\u00f3n de la variable composita de manera que acepte esa operaci\u00f3n. Por ejemplo, podr\u00edamos pegar esto en la definici\u00f3n de la variable:"
     ]
    },
    {
     "cell_type": "markdown",
     "metadata": {},
     "source": [
      "            function +(v::DV, w::Float64)\n",
      "            nuevof=v.f+w;\n",
      "            nuevod=w.d\n",
      "            DV(nuevof,nuevod)\n",
      "            end"
     ]
    },
    {
     "cell_type": "heading",
     "level": 6,
     "metadata": {},
     "source": [
      "[7] En el resto del curso, trataremos con *aritm\u00e9tica de intervalos*. En este nuevo tipo de aritm\u00e9tica, ocupamos intervalos $[a,b]$ de la recta real, que es el conjunto \n",
      "\n",
      "$$[a, b] := \\{x : a \\le x \\le b \\}$$\n",
      "\n",
      "(i) Define un tipo composito para representar un intervalo de dos n\u00fameros reales."
     ]
    },
    {
     "cell_type": "markdown",
     "metadata": {},
     "source": [
      "\u00bfEra hacer un intervalo entre dos flotantes?, si es as\u00ed entonces:"
     ]
    },
    {
     "cell_type": "code",
     "collapsed": false,
     "input": [
      "type interv1\n",
      "    a::Float64\n",
      "    b::Float64\n",
      "    \n",
      "        function interv1(a,b)\n",
      "        if a>b \n",
      "                error(\"el intervalo est\u00e1 al rev\u00e9s\")\n",
      "        end\n",
      "        if a==b \n",
      "                error(\"es s\u00f3lo un punto\")\n",
      "        end\n",
      "        new(a, b) \n",
      "\n",
      "    end\n",
      "end"
     ],
     "language": "python",
     "metadata": {},
     "outputs": [],
     "prompt_number": 53
    },
    {
     "cell_type": "code",
     "collapsed": false,
     "input": [
      "l=interv1(2.0, 1.0)"
     ],
     "language": "python",
     "metadata": {},
     "outputs": [
      {
       "ename": "LoadError",
       "evalue": "el intervalo est\u00e1 al rev\u00e9s\nwhile loading In[54], in expression starting on line 1",
       "output_type": "pyerr",
       "traceback": [
        "el intervalo est\u00e1 al rev\u00e9s\nwhile loading In[54], in expression starting on line 1",
        "",
        " in interv1 at In[53]:7"
       ]
      }
     ],
     "prompt_number": 54
    },
    {
     "cell_type": "code",
     "collapsed": false,
     "input": [
      "function pertenencia(l::interv1, x::Float64)\n",
      "    \n",
      "    if x <=l.b && x >=l.a\n",
      "        println(\"el punto est\u00e1 en el intervalo\")\n",
      "    else\n",
      "      println(\"el punto NO est\u00e1 en el intervalo\")\n",
      "    end\n",
      "\n",
      "end"
     ],
     "language": "python",
     "metadata": {},
     "outputs": [
      {
       "metadata": {},
       "output_type": "pyout",
       "prompt_number": 55,
       "text": [
        "pertenencia (generic function with 1 method)"
       ]
      }
     ],
     "prompt_number": 55
    },
    {
     "cell_type": "code",
     "collapsed": false,
     "input": [
      "l=interv1(0.0 , 1.0)"
     ],
     "language": "python",
     "metadata": {},
     "outputs": [
      {
       "metadata": {},
       "output_type": "pyout",
       "prompt_number": 59,
       "text": [
        "interv1(0.0,1.0)"
       ]
      }
     ],
     "prompt_number": 59
    },
    {
     "cell_type": "code",
     "collapsed": false,
     "input": [
      "pertenencia(l, 0.0)"
     ],
     "language": "python",
     "metadata": {},
     "outputs": [
      {
       "output_type": "stream",
       "stream": "stdout",
       "text": [
        "el punto est\u00e1 en el intervalo\n"
       ]
      }
     ],
     "prompt_number": 60
    },
    {
     "cell_type": "heading",
     "level": 6,
     "metadata": {},
     "source": [
      "(ii) \u00bfC\u00f3mo podr\u00edamos tener operaciones sensatas sobre los intervalos? La idea b\u00e1sica es que el resultado de la operaci\u00f3n sobre dos intervalos contenga los valores posibles resultantes de operar con los miembros de los dos intervalos respectivos.\n"
     ]
    },
    {
     "cell_type": "markdown",
     "metadata": {},
     "source": [
      "Las operaciones entre intervalos deben de evaluarse entre sus elementos. Supongo que las operaciones que hagamos tienen que ser mapeos \"bonitos\" de manera que no dejen singularidades. Si es as\u00ed, y tenemos cuidado con c\u00f3mo alguna operaci\u00f3n ($ \\oplus $) podr\u00eda invertir el orden del intervalo podr\u00edamos asegurarnos que para cualesquiera puntos dentro de los intervalos:"
     ]
    },
    {
     "cell_type": "markdown",
     "metadata": {},
     "source": [
      "$x \\ \\in \\ l=[a,b]$  ,  $y \\ \\in \\ l'=[a',b']$ entonces:"
     ]
    },
    {
     "cell_type": "markdown",
     "metadata": {},
     "source": [
      " $x \\oplus y \\in l \\oplus l'=[a \\oplus a', b \\oplus b']$"
     ]
    },
    {
     "cell_type": "heading",
     "level": 6,
     "metadata": {},
     "source": [
      "(iii) Implementa estas operaciones, sin tomar en cuenta cuestiones de redondeo."
     ]
    },
    {
     "cell_type": "code",
     "collapsed": false,
     "input": [
      "type interv\n",
      "    a::Float64\n",
      "    b::Float64\n",
      "    \n",
      "        function interv(a,b)\n",
      "        if a>b \n",
      "                error(\"el intervalo est\u00e1 al rev\u00e9s\")\n",
      "        end\n",
      "        new(a, b) \n",
      "\n",
      "    end\n",
      "end"
     ],
     "language": "python",
     "metadata": {},
     "outputs": [],
     "prompt_number": 1
    },
    {
     "cell_type": "code",
     "collapsed": false,
     "input": [
      "\n",
      "function interv(f::Float64)  #Para definir los escalares ya no nos importa que \n",
      "    interv(f,f)              #se definan intervalos de un s\u00f3lo punto\n",
      "    end\n",
      "\n",
      "    \n",
      "        \n",
      "    function +(v::interv, w::interv)    \n",
      "        nuevoa=v.a+w.a;\n",
      "        nuevob=v.b+w.b;\n",
      "        interv(nuevoa,nuevob)\n",
      "    end\n",
      "\n",
      "   function -(v::interv, w::interv) #la resta invierte el orden en los intervalos\n",
      "        nuevoa=v.a-w.b;\n",
      "        nuevob=v.b-w.a;    \n",
      "        interv(nuevoa,nuevob)\n",
      "    end\n",
      "    \n",
      "\n",
      "    function *(v::interv, w::interv) #la multiplicaci\u00f3n por negativos invierte el orden en los intervalos\n",
      "    \n",
      "    nuevoa=min(v.a*w.a,v.a*w.b,v.b*w.a,v.b*w.b); #NO FUNCION\u00d3 SI DEFIN\u00cdA S = (v.a*w.a,v.a*w.b,v.b*w.a,v.b*w.b) y ped\u00eda min(s).\n",
      "    nuevob=max(v.a*w.a,v.a*w.b,v.b*w.a,v.b*w.b); #PERO LO QUE EST\u00c1 ESCRITO S\u00cd FUNCIONA\n",
      "    interv(nuevoa,nuevob)\n",
      "    end\n",
      "        \n",
      "\n",
      "function /(v::interv, w::interv) #de esto no estoy seguro, por que podemos definir un n\u00famero muy cercano a cero en w  y no queda comprendido en el nuevo intervalo\n",
      "    nuevoa=min(v.a/w.a,v.a/w.b,v.b/w.a,v.b/w.b); \n",
      "    nuevob=max(v.a/w.a,v.a/w.b,v.b/w.a,v.b/w.b); \n",
      "    interv(nuevoa,nuevob)\n",
      "    end \n",
      "    \n",
      "\n",
      "#Lo saqu\u00e9 de \"Introduction to interval analysis\", Moore et al. "
     ],
     "language": "python",
     "metadata": {},
     "outputs": [
      {
       "metadata": {},
       "output_type": "pyout",
       "prompt_number": 2,
       "text": [
        "/ (generic function with 46 methods)"
       ]
      }
     ],
     "prompt_number": 2
    },
    {
     "cell_type": "code",
     "collapsed": false,
     "input": [
      "x=interv(-1.0,2.0)"
     ],
     "language": "python",
     "metadata": {},
     "outputs": [
      {
       "metadata": {},
       "output_type": "pyout",
       "prompt_number": 5,
       "text": [
        "interv(-1.0,2.0)"
       ]
      }
     ],
     "prompt_number": 5
    },
    {
     "cell_type": "code",
     "collapsed": false,
     "input": [
      "y=interv(-5.0,7.0)"
     ],
     "language": "python",
     "metadata": {},
     "outputs": [
      {
       "metadata": {},
       "output_type": "pyout",
       "prompt_number": 6,
       "text": [
        "interv(-5.0,7.0)"
       ]
      }
     ],
     "prompt_number": 6
    },
    {
     "cell_type": "code",
     "collapsed": false,
     "input": [
      "x+y"
     ],
     "language": "python",
     "metadata": {},
     "outputs": [
      {
       "metadata": {},
       "output_type": "pyout",
       "prompt_number": 7,
       "text": [
        "interv(-6.0,9.0)"
       ]
      }
     ],
     "prompt_number": 7
    },
    {
     "cell_type": "code",
     "collapsed": false,
     "input": [
      "x-y"
     ],
     "language": "python",
     "metadata": {},
     "outputs": [
      {
       "metadata": {},
       "output_type": "pyout",
       "prompt_number": 8,
       "text": [
        "interv(-8.0,7.0)"
       ]
      }
     ],
     "prompt_number": 8
    },
    {
     "cell_type": "code",
     "collapsed": false,
     "input": [
      "x/y"
     ],
     "language": "python",
     "metadata": {},
     "outputs": [
      {
       "metadata": {},
       "output_type": "pyout",
       "prompt_number": 9,
       "text": [
        "interv(-0.4,0.2857142857142857)"
       ]
      }
     ],
     "prompt_number": 9
    },
    {
     "cell_type": "code",
     "collapsed": false,
     "input": [
      "x*y"
     ],
     "language": "python",
     "metadata": {},
     "outputs": [
      {
       "metadata": {},
       "output_type": "pyout",
       "prompt_number": 10,
       "text": [
        "interv(-10.0,14.0)"
       ]
      }
     ],
     "prompt_number": 10
    },
    {
     "cell_type": "heading",
     "level": 6,
     "metadata": {},
     "source": [
      "(iv) \u00bfC\u00f3mo nos puede ayudar el redondeo? Implem\u00e9ntalo."
     ]
    },
    {
     "cell_type": "markdown",
     "metadata": {},
     "source": [
      "No entiendo c\u00f3mo nos puede ayudar, pero definitivamente cambia las cosas. Tomando en cuenta que existe el redondeo, podemos definir que los l\u00edmites inferiores (superiores) de un intervalo tienen que ver con el redondeo hacia abajo (hacia arriba), por lo que los intervalos de puntos flotantes son m\u00e1s peque\u00f1os que los de n\u00fameros reales. Esto se ve si implementamos estas reglas de aritm\u00e9tica de intervalos: "
     ]
    },
    {
     "cell_type": "markdown",
     "metadata": {},
     "source": [
      "$X=[\\underline{X}, \\overline{X}]$, $ \\ Y= [\\underline{Y}, \\overline{Y} ]$"
     ]
    },
    {
     "cell_type": "markdown",
     "metadata": {},
     "source": [
      "$X+Y=[\u25bd( \\underline{X} +\\underline{Y}), \u25b3(\\overline{X}+\\overline{Y})]$"
     ]
    },
    {
     "cell_type": "markdown",
     "metadata": {},
     "source": [
      "$X-Y=[\u25bd( \\underline{X} +\\overline{Y}), \u25b3(\\overline{X}-\\underline{Y})]$"
     ]
    },
    {
     "cell_type": "markdown",
     "metadata": {},
     "source": [
      "$X*Y=\\Bigg[ min \\big\\{ \u25bd(\\underline{X} *\\underline{Y}), \u25bd(\\underline{X} * \\overline{Y}),\u25bd(\\overline{X} * \\underline{Y}), \u25bd(\\overline{X} * \\overline{Y}) \\big\\}, max  \\big\\{ \u25b3(\\underline{X} *\\underline{Y}), \u25b3(\\underline{X} * \\overline{Y}), \u25b3(\\overline{X} * \\underline{Y}), \u25b3(\\overline{X} * \\overline{Y}) \\big\\}  \\Bigg]$"
     ]
    },
    {
     "cell_type": "markdown",
     "metadata": {},
     "source": [
      "$X/Y=\\Bigg[ min \\big\\{ \u25bd(\\underline{X} / \\underline{Y}), \u25bd(\\underline{X} / \\overline{Y}),\u25bd(\\overline{X} / \\underline{Y}), \u25bd(\\overline{X} / \\overline{Y}) \\big\\}, max  \\big\\{ \u25b3(\\underline{X} / \\underline{Y}), \u25b3(\\underline{X} / \\overline{Y}), \u25b3(\\overline{X} / \\underline{Y}), \u25b3(\\overline{X} / \\overline{Y}) \\big\\}  \\Bigg]$\n",
      "\n",
      "---------------------Copiado de Tucker-------------------------"
     ]
    },
    {
     "cell_type": "markdown",
     "metadata": {},
     "source": [
      "En Julia, se ve as\u00ed:"
     ]
    },
    {
     "cell_type": "code",
     "collapsed": false,
     "input": [
      "type intervalo\n",
      "    a::Float64\n",
      "    b::Float64\n",
      "    \n",
      "    function intervalo(a,b)\n",
      "        if a>b \n",
      "                error(\"el intervalo est\u00e1 al rev\u00e9s\")\n",
      "        end\n",
      "        new(a, b) \n",
      "\n",
      "    end\n",
      "end"
     ],
     "language": "python",
     "metadata": {},
     "outputs": [],
     "prompt_number": 78
    },
    {
     "cell_type": "code",
     "collapsed": false,
     "input": [
      "\n",
      "function intervalo(f::Float64)  #Para definir los escalares ya no nos importa que \n",
      "    interv(f,f)              #se definan intervalos de un s\u00f3lo punto\n",
      "end\n",
      "\n",
      "    \n",
      "        \n",
      "function +(v::intervalo, w::intervalo)    \n",
      "    set_rounding(Float64, RoundDown)\n",
      "    nuevoa=v.a+w.a;\n",
      "    set_rounding(Float64, RoundUp)\n",
      "    nuevob=v.b+w.b;\n",
      "    intervalo(nuevoa,nuevob)\n",
      "end\n",
      "\n",
      "function -(v::intervalo, w::intervalo) #la resta invierte el orden en los intervalos\n",
      "    set_rounding(Float64, RoundDown)    \n",
      "    nuevoa=v.a-w.b;\n",
      "    \n",
      "    set_rounding(Float64, RoundUp)\n",
      "    nuevob=v.b-w.a;    \n",
      "    \n",
      "    intervalo(nuevoa,nuevob)   \n",
      "end\n",
      "\n",
      "\n",
      "function *(v::intervalo, w::intervalo) \n",
      "    set_rounding(Float64, RoundDown)    \n",
      "    nuevoa=min(v.a*w.a,v.a*w.b,v.b*w.a,v.b*w.b); \n",
      "    \n",
      "    set_rounding(Float64, RoundUp)\n",
      "    nuevob=max(v.a*w.a,v.a*w.b,v.b*w.a,v.b*w.b); \n",
      "    \n",
      "    interv(nuevoa,nuevob)\n",
      "    end\n",
      "\n",
      "\n",
      "        \n",
      "\n",
      "function /(v::interv, w::interv) \n",
      "   set_rounding(Float64, RoundDown)    \n",
      "    nuevoa=min(v.a/w.a,v.a/w.b,v.b/w.a,v.b/w.b); \n",
      "    \n",
      "    set_rounding(Float64, RoundUp)\n",
      "    nuevob=max(v.a/w.a,v.a/w.b,v.b/w.a,v.b/w.b); \n",
      "end \n",
      "    \n"
     ],
     "language": "python",
     "metadata": {},
     "outputs": [
      {
       "metadata": {},
       "output_type": "pyout",
       "prompt_number": 79,
       "text": [
        "/ (generic function with 46 methods)"
       ]
      }
     ],
     "prompt_number": 79
    },
    {
     "cell_type": "markdown",
     "metadata": {},
     "source": [
      "Pero resulta que di\u00f3 ex\u00e1ctamente lo mismo que cuando no defin\u00ed el redonde:"
     ]
    },
    {
     "cell_type": "code",
     "collapsed": false,
     "input": [
      "l1=interv(10.1, 11.1); l2=intervalo(10.1, 11.1);"
     ],
     "language": "python",
     "metadata": {},
     "outputs": [],
     "prompt_number": 80
    },
    {
     "cell_type": "code",
     "collapsed": false,
     "input": [
      "m1=interv(-5.0 , -1.1); m2=intervalo(-5.0 , -1.1);"
     ],
     "language": "python",
     "metadata": {},
     "outputs": [],
     "prompt_number": 81
    },
    {
     "cell_type": "code",
     "collapsed": false,
     "input": [
      "(l1*m1).a==(l2*m2).a"
     ],
     "language": "python",
     "metadata": {},
     "outputs": [
      {
       "metadata": {},
       "output_type": "pyout",
       "prompt_number": 82,
       "text": [
        "true"
       ]
      }
     ],
     "prompt_number": 82
    },
    {
     "cell_type": "code",
     "collapsed": false,
     "input": [
      "(l2*m2).b==(l2*m2).b"
     ],
     "language": "python",
     "metadata": {},
     "outputs": [
      {
       "metadata": {},
       "output_type": "pyout",
       "prompt_number": 83,
       "text": [
        "true"
       ]
      }
     ],
     "prompt_number": 83
    },
    {
     "cell_type": "code",
     "collapsed": false,
     "input": [],
     "language": "python",
     "metadata": {},
     "outputs": []
    },
    {
     "cell_type": "markdown",
     "metadata": {},
     "source": [
      "POR EL MOMENTO, SI EL INTERVALO TIENE CERO, MANDAR ERROR"
     ]
    },
    {
     "cell_type": "code",
     "collapsed": false,
     "input": [],
     "language": "python",
     "metadata": {},
     "outputs": []
    }
   ],
   "metadata": {}
  }
 ]
}
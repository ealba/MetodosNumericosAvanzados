{
 "metadata": {
  "language": "Julia",
  "name": "",
  "signature": "sha256:9155848b34599ee35a6e08f3fe6e83932b6aa3b15eeab233308ac52df32dda91"
 },
 "nbformat": 3,
 "nbformat_minor": 0,
 "worksheets": [
  {
   "cells": [
    {
     "cell_type": "markdown",
     "metadata": {},
     "source": [
      "######Podemos agregar esto para que se desplieguen menos cosas al generar intervalos:"
     ]
    },
    {
     "cell_type": "heading",
     "level": 1,
     "metadata": {},
     "source": [
      "PONER EN EL M\u00d3DULO:"
     ]
    },
    {
     "cell_type": "code",
     "collapsed": false,
     "input": [
      "function Base.show(io::IO, t::Interval)\n",
      "    repr=\"($(t.lo), $(t.hi))\"\n",
      "    print(io,repr)\n",
      "end\n",
      "\n",
      "\n",
      "#function Base.show(io::IO, t::Interval2Dim)\n",
      "#    repr=\"$(t.lo), $(t.hi)\"\n",
      "#    print(io,repr)\n",
      "#end"
     ],
     "language": "python",
     "metadata": {},
     "outputs": [
      {
       "metadata": {},
       "output_type": "pyout",
       "prompt_number": 4,
       "text": [
        "show (generic function with 90 methods)"
       ]
      }
     ],
     "prompt_number": 4
    },
    {
     "cell_type": "heading",
     "level": 1,
     "metadata": {},
     "source": [
      "--------------------------------------------------"
     ]
    },
    {
     "cell_type": "heading",
     "level": 1,
     "metadata": {},
     "source": [
      "Intervalos multi-dimensionales "
     ]
    },
    {
     "cell_type": "heading",
     "level": 4,
     "metadata": {},
     "source": [
      "                                Para resolver problemas en m\u00e1s que una dimensi\u00f3n, ser\u00e1 necesario poder calcular un *enclosure* (\"encierro\") de la imagen de una funci\u00f3n sobre un conjunto en varias dimensiones.\n",
      "Para ello, podemos definir **intervalos multi-dimensionales**, de manera an\u00e1loga a los intervalos uni-dimensionales que ya conocemos."
     ]
    },
    {
     "cell_type": "code",
     "collapsed": false,
     "input": [
      "using Intervalos\n",
      "include (\"IntervalosTest.jl\")"
     ],
     "language": "python",
     "metadata": {},
     "outputs": [
      {
       "output_type": "stream",
       "stream": "stderr",
       "text": [
        "Warning: New definition \n",
        "    promote_type(Type"
       ]
      },
      {
       "output_type": "stream",
       "stream": "stderr",
       "text": [
        "{T<:Number},Type{Interval}) at /home/ernestoalba/MetodosNumericosAvanzados/Intervalos.jl:460\n",
        "is ambiguous with: \n",
        "    promote_type(Type{None},Type{T}) at promotion.jl:103.\n",
        "To fix, define \n",
        "    promote_type(Type{None},Type{Interval})\n",
        "before the new definition.\n",
        "Warning: New definition \n",
        "    promote_type(Type{T<:Number},Type{Interval}) at /home/ernestoalba/MetodosNumericosAvanzados/Intervalos.jl:460\n",
        "is ambiguous with: \n",
        "    promote_type(Type{T},Type{T}) at promotion.jl:101.\n",
        "To fix, define \n",
        "    promote_type(Type{_<:Number},Type{_<:Number})\n",
        "before the new definition.\n"
       ]
      },
      {
       "output_type": "stream",
       "stream": "stdout",
       "text": [
        "Pruebas aritm\u00e9ticas\n",
        "12 facts verified.\n"
       ]
      },
      {
       "metadata": {},
       "output_type": "pyout",
       "prompt_number": 1,
       "text": [
        "delayed_handler (generic function with 4 methods)"
       ]
      }
     ],
     "prompt_number": 1
    },
    {
     "cell_type": "heading",
     "level": 4,
     "metadata": {},
     "source": [
      "[1] \u00bfCu\u00e1l ser\u00eda una definici\u00f3n matem\u00e1tica razonable de un intervalo multi-dimensional?"
     ]
    },
    {
     "cell_type": "markdown",
     "metadata": {},
     "source": [
      " $\\lbrace x,y,z,.... \\rbrace$ tq $x$ es un intervalo, $y$ es un intervalo, $z$ es un intervalo, ... etc"
     ]
    },
    {
     "cell_type": "heading",
     "level": 4,
     "metadata": {},
     "source": [
      "[2] \u00bfC\u00f3mo podr\u00edamos expresar esto en Julia\n",
      "? Da dos posibilidades.\n",
      "\n",
      "[Pista: Checa `typealias`]"
     ]
    },
    {
     "cell_type": "markdown",
     "metadata": {},
     "source": [
      "Una forma es definirlo como un vector cuyas entradas sean intervalos:"
     ]
    },
    {
     "cell_type": "markdown",
     "metadata": {},
     "source": [
      "type IntervalNDim{N}\n",
      "    a::Vector{Interval} #Array{Intervalo,1}\n",
      "    IntervalNDim(a) = ( length(a)==int(N) ? new(a) : error(\"Dimensi\u00f3n incorrecta\"))\n",
      "end\n",
      "\n",
      "\n",
      "Base.show(io::IO, a::IntervalNDim) = print(io::IO, \"IntervalNDim{$(length(a.a))}$(a.a)\"); "
     ]
    },
    {
     "cell_type": "markdown",
     "metadata": {},
     "source": [
      "IntervalNDim{2}([Interval(1,2),Interval(1,1)])"
     ]
    },
    {
     "cell_type": "markdown",
     "metadata": {},
     "source": [
      "Para hacerlo m\u00e1s r\u00e1pido, podemos definir un subtipo para $ \\mathbb{R}^2$ Y $ \\mathbb{R}^3$: "
     ]
    },
    {
     "cell_type": "markdown",
     "metadata": {},
     "source": [
      "Interval3Dim(a::Array{Interval,1})=(IntervalNDim{3}(a::Array{Interval,1})).a;\n",
      "Interval2Dim(a::Array{Interval,1})=(IntervalNDim{2}(a::Array{Interval,1})).a;"
     ]
    },
    {
     "cell_type": "markdown",
     "metadata": {},
     "source": [
      "vector=Interval2Dim([Interval(1.1,2.1),Interval(1,1)])"
     ]
    },
    {
     "cell_type": "markdown",
     "metadata": {},
     "source": [
      "Usando el tip de typealias: \n",
      "### DUDA: C\u00f3mo podr\u00eda especificarse la dimensi\u00f3n?"
     ]
    },
    {
     "cell_type": "code",
     "collapsed": false,
     "input": [
      "typealias IntervalMD{} Vector{Interval}"
     ],
     "language": "python",
     "metadata": {},
     "outputs": [
      {
       "metadata": {},
       "output_type": "pyout",
       "prompt_number": 7,
       "text": [
        "Array{Interval,1}"
       ]
      }
     ],
     "prompt_number": 7
    },
    {
     "cell_type": "code",
     "collapsed": false,
     "input": [
      "typeof([Interval(0,1),Interval(2,3)])"
     ],
     "language": "python",
     "metadata": {},
     "outputs": [
      {
       "metadata": {},
       "output_type": "pyout",
       "prompt_number": 8,
       "text": [
        "Array{Interval,1}"
       ]
      }
     ],
     "prompt_number": 8
    },
    {
     "cell_type": "code",
     "collapsed": false,
     "input": [
      "IntervalMD{}"
     ],
     "language": "python",
     "metadata": {},
     "outputs": [
      {
       "metadata": {},
       "output_type": "pyout",
       "prompt_number": 9,
       "text": [
        "Array{Interval,1}"
       ]
      }
     ],
     "prompt_number": 9
    },
    {
     "cell_type": "markdown",
     "metadata": {},
     "source": [
      "y son del mismo tipo"
     ]
    },
    {
     "cell_type": "code",
     "collapsed": false,
     "input": [
      "A=[Interval(0,1),Interval(5,6)];"
     ],
     "language": "python",
     "metadata": {},
     "outputs": [],
     "prompt_number": 2
    },
    {
     "cell_type": "code",
     "collapsed": false,
     "input": [
      "dot(A,A)"
     ],
     "language": "python",
     "metadata": {},
     "outputs": [
      {
       "metadata": {},
       "output_type": "pyout",
       "prompt_number": 8,
       "text": [
        "(2.5e+01, 3.7e+01)"
       ]
      }
     ],
     "prompt_number": 8
    },
    {
     "cell_type": "heading",
     "level": 6,
     "metadata": {},
     "source": [
      "qu\u00e9 quiere decir esto?!"
     ]
    },
    {
     "cell_type": "heading",
     "level": 6,
     "metadata": {},
     "source": [
      "S\u00f3lo se gana tener un nombre para este tipo, EL CUAL SE USA AL CREAR FUNCIONES"
     ]
    },
    {
     "cell_type": "code",
     "collapsed": false,
     "input": [
      "function *(c::IntervalMD,b::Real)\n",
      "    c[1]=c[1]*b;\n",
      "    c[2]=c[2]*b;\n",
      "    return c\n",
      "end"
     ],
     "language": "python",
     "metadata": {},
     "outputs": [
      {
       "metadata": {},
       "output_type": "pyout",
       "prompt_number": 13,
       "text": [
        "* (generic function with 119 methods)"
       ]
      }
     ],
     "prompt_number": 13
    },
    {
     "cell_type": "code",
     "collapsed": false,
     "input": [
      "*([Interval(0,1),Interval(1,2)],3)"
     ],
     "language": "python",
     "metadata": {},
     "outputs": [
      {
       "ename": "LoadError",
       "evalue": "`.*` has no method matching .*(::Interval, ::Int64)\nwhile loading In[12], in expression starting on line 1",
       "output_type": "pyerr",
       "traceback": [
        "`.*` has no method matching .*(::Interval, ::Int64)\nwhile loading In[12], in expression starting on line 1",
        "",
        " in .* at array.jl:761",
        " in * at abstractarray.jl:368"
       ]
      }
     ],
     "prompt_number": 12
    },
    {
     "cell_type": "heading",
     "level": 4,
     "metadata": {},
     "source": [
      "[3] \u00bfCu\u00e1les operaciones matem\u00e1ticas necesitaremos definir sobre los intervalos multi-dimensionales? Implem\u00e9ntalos en un m\u00f3dulo. \u00bfCu\u00e1l de las dos definiciones resulta m\u00e1s \u00fatil en ese respecto?"
     ]
    },
    {
     "cell_type": "markdown",
     "metadata": {},
     "source": [
      "Necesitaremos: +,-, (*,/ definidas entrada a entrada) y el producto escalar.\n",
      "\n",
      "+, -, dot , (.* , ./ son los productos y divisiones entrada a entrada)\n",
      "Interval2Dim  y ya est\u00e1n definidas para los tipos Interval2Dim y Interval3Dim pues est\u00e1n definidas para vectores. \n",
      "\n",
      "es m\u00e1s \u00fatil la de IntervalMD\n",
      "\n",
      "####M\u00e1s operaciones que se definen entrada a entrada se pueden definir.(producto por escalares, producto directo, etc.)"
     ]
    },
    {
     "cell_type": "heading",
     "level": 4,
     "metadata": {},
     "source": [
      "Pero se necesita redefinir el cero de vectores de intervalos (y de paso el de intervalos):"
     ]
    },
    {
     "cell_type": "code",
     "collapsed": false,
     "input": [
      "Base.promote_type{T<:Number}(::Type{T}, ::Type{Interval}) = Interval\n",
      "\n",
      "#Base.promote_type(::Type{Interval}, ::Type{Number}) = Interval\n",
      "#Base.promote(x::Number, y::Interval) = Interval(x, x\n",
      "\n",
      "Base.convert(::Type{Interval}, x::Real) = Interval(x)\n",
      "Base.convert(::Type{Interval}, x::Interval) = x\n",
      "\n",
      "Base.convert(::Type{IntervalMD}, x::Real) = [Interval(x), Interval(x)]\n",
      "Base.convert(::Type{IntervalMD}, x::IntervalMD) = x\n",
      "\n",
      "\n",
      "\n",
      "Base.zero(::Type{Interval}) = Interval(0)\n",
      "promote_type(Int, Interval)\n",
      "\n",
      "Base.zeros(::Type{IntervalMD}) = [Interval(0), Interval(0)]\n",
      "promote_type(Int, Interval)\n",
      "\n",
      "\n",
      "Base.zero(x::Interval) = Interval(0)\n",
      "Base.zero(x::Any) = 0\n",
      "\n"
     ],
     "language": "python",
     "metadata": {},
     "outputs": [
      {
       "output_type": "stream",
       "stream": "stderr",
       "text": [
        "Warning: New definition \n",
        "    promote_type(Type"
       ]
      },
      {
       "output_type": "stream",
       "stream": "stderr",
       "text": [
        "{T<:Number},Type{Interval}) at In[13]:1\n",
        "is ambiguous with: \n",
        "    promote_type(Type{None},Type{T}) at promotion.jl:103.\n",
        "To fix, define \n",
        "    promote_type(Type{None},Type{Interval})\n",
        "before the new definition.\n",
        "Warning: New definition \n",
        "    promote_type(Type{T<:Number},Type{Interval}) at In[13]:1\n",
        "is ambiguous with: \n",
        "    promote_type(Type{T},Type{T}) at promotion.jl:101.\n",
        "To fix, define \n",
        "    promote_type(Type{_<:Number},Type{_<:Number})\n",
        "before the new definition.\n"
       ]
      },
      {
       "metadata": {},
       "output_type": "pyout",
       "prompt_number": 13,
       "text": [
        "zero (generic function with 15 methods)"
       ]
      }
     ],
     "prompt_number": 13
    },
    {
     "cell_type": "code",
     "collapsed": false,
     "input": [
      "A=[Interval(0,1),Interval(1,0)]"
     ],
     "language": "python",
     "metadata": {},
     "outputs": [
      {
       "metadata": {},
       "output_type": "pyout",
       "prompt_number": 14,
       "text": [
        "2-element Array{Interval,1}:\n",
        " (0e+00, 1e+00)\n",
        " (0e+00, 1e+00)"
       ]
      }
     ],
     "prompt_number": 14
    },
    {
     "cell_type": "code",
     "collapsed": false,
     "input": [
      "cat(2,A,A)"
     ],
     "language": "python",
     "metadata": {},
     "outputs": [
      {
       "metadata": {},
       "output_type": "pyout",
       "prompt_number": 15,
       "text": [
        "2x2 Array{Interval,2}:\n",
        " (0e+00, 1e+00)  (0e+00, 1e+00)\n",
        " (0e+00, 1e+00)  (0e+00, 1e+00)"
       ]
      }
     ],
     "prompt_number": 15
    },
    {
     "cell_type": "code",
     "collapsed": false,
     "input": [
      "ans*A"
     ],
     "language": "python",
     "metadata": {},
     "outputs": [
      {
       "metadata": {},
       "output_type": "pyout",
       "prompt_number": 16,
       "text": [
        "2-element Array{Interval,1}:\n",
        " (0e+00, 2e+00)\n",
        " (0e+00, 2e+00)"
       ]
      }
     ],
     "prompt_number": 16
    },
    {
     "cell_type": "code",
     "collapsed": false,
     "input": [
      "A-A"
     ],
     "language": "python",
     "metadata": {},
     "outputs": [
      {
       "metadata": {},
       "output_type": "pyout",
       "prompt_number": 30,
       "text": [
        "2-element Array{Interval,1}:\n",
        " (-1e+00, 1e+00)\n",
        " (-1e+00, 1e+00)"
       ]
      }
     ],
     "prompt_number": 30
    },
    {
     "cell_type": "heading",
     "level": 5,
     "metadata": {},
     "source": [
      "SEG\u00daN YO, YA NO Hay que redefinir operaciones para escalares de la misma forma que se definieron para Intervalos:"
     ]
    },
    {
     "cell_type": "heading",
     "level": 4,
     "metadata": {},
     "source": [
      "[4] Considera la funci\u00f3n $f: \\mathbb{R}^2 \\to \\mathbb{R}^2$, dada por $f(x,y) = \\mathsf{M} \\cdot \\mathbf{x}$, con $\\mathsf{M} = \\begin{pmatrix} 2 & 1 \\\\ 1 & 1 \\end{pmatrix}$.\n"
     ]
    },
    {
     "cell_type": "heading",
     "level": 1,
     "metadata": {},
     "source": [
      "-------------------------------------------"
     ]
    },
    {
     "cell_type": "heading",
     "level": 6,
     "metadata": {},
     "source": [
      "(i) Encuentra a mano la imagen del cuadrado unitario. Encuentra el intervalo multi-dimensional m\u00e1s peque\u00f1o que contiene este conjunto."
     ]
    },
    {
     "cell_type": "heading",
     "level": 1,
     "metadata": {},
     "source": [
      "-----------------------------------------------"
     ]
    },
    {
     "cell_type": "markdown",
     "metadata": {},
     "source": [
      "Deber\u00eda de ser el cuadrado que x en 0 a 3, y en 0 a 2"
     ]
    },
    {
     "cell_type": "markdown",
     "metadata": {},
     "source": [
      "(ii) Verifica el resultado con tu c\u00f3digo."
     ]
    },
    {
     "cell_type": "code",
     "collapsed": false,
     "input": [
      "M=[Interval(2) Interval(1); Interval(1) Interval(1)];\n",
      "B=[Interval(0,1),Interval(0,1)];"
     ],
     "language": "python",
     "metadata": {},
     "outputs": [],
     "prompt_number": 9
    },
    {
     "cell_type": "code",
     "collapsed": false,
     "input": [
      "M*B"
     ],
     "language": "python",
     "metadata": {},
     "outputs": [
      {
       "metadata": {},
       "output_type": "pyout",
       "prompt_number": 10,
       "text": [
        "2-element Array{Interval,1}:\n",
        " (0e+00, 3e+00)\n",
        " (0e+00, 2e+00)"
       ]
      }
     ],
     "prompt_number": 10
    },
    {
     "cell_type": "heading",
     "level": 4,
     "metadata": {},
     "source": [
      "(iii) \u00bfCu\u00e1l es el problema que ocurre? \u00bfC\u00f3mo lo podr\u00edamos resolver? Implem\u00e9ntalo."
     ]
    },
    {
     "cell_type": "markdown",
     "metadata": {},
     "source": [
      "De la misma forma que para intervalos unidimensionales, se sobreestima el rango de a funci\u00f3n por los intervalos."
     ]
    },
    {
     "cell_type": "code",
     "collapsed": false,
     "input": [],
     "language": "python",
     "metadata": {},
     "outputs": [],
     "prompt_number": 104
    },
    {
     "cell_type": "heading",
     "level": 4,
     "metadata": {},
     "source": [
      "[5] Haz lo mismo para la imagen del cuadrado unitario bajo la funci\u00f3n \n",
      "\n",
      "$$ \\begin{pmatrix} x \\\\ y \\end{pmatrix} \\mapsto \n",
      "\\begin{pmatrix} 1 - ax^2 + y \\\\ b x \\end{pmatrix},$$\n",
      "\n",
      "con $a = 1.4$ y $b=0.3$ (el famoso \"mapeo de H\u00e9non\")."
     ]
    },
    {
     "cell_type": "code",
     "collapsed": false,
     "input": [
      "function Henon(x,y)\n",
      "    a=1.4;\n",
      "    b=0.3;\n",
      "    x1=1-a*x^2+y;\n",
      "    y1=b*x;\n",
      "    return [x1,y1]\n",
      "end"
     ],
     "language": "python",
     "metadata": {},
     "outputs": [
      {
       "metadata": {},
       "output_type": "pyout",
       "prompt_number": 11,
       "text": [
        "Henon (generic function with 1 method)"
       ]
      }
     ],
     "prompt_number": 11
    },
    {
     "cell_type": "code",
     "collapsed": false,
     "input": [
      "Henon(Interval(0,1),Interval(0,1))"
     ],
     "language": "python",
     "metadata": {},
     "outputs": [
      {
       "metadata": {},
       "output_type": "pyout",
       "prompt_number": 12,
       "text": [
        "2-element Array{Interval,1}:\n",
        " (-4.000000000000000000000000000000000000000000000000000000000000000000000000000354e-01, 2e+00)\n",
        " (0e+00, 3.000000000000000000000000000000000000000000000000000000000000000000000000000017e-01) "
       ]
      }
     ],
     "prompt_number": 12
    },
    {
     "cell_type": "code",
     "collapsed": false,
     "input": [
      "Henon(1,0)"
     ],
     "language": "python",
     "metadata": {},
     "outputs": [
      {
       "metadata": {},
       "output_type": "pyout",
       "prompt_number": 32,
       "text": [
        "2-element Array{Float64,1}:\n",
        " -0.4\n",
        "  0.3"
       ]
      }
     ],
     "prompt_number": 32
    },
    {
     "cell_type": "code",
     "collapsed": false,
     "input": [],
     "language": "python",
     "metadata": {},
     "outputs": []
    }
   ],
   "metadata": {}
  }
 ]
}
{
 "metadata": {
  "language": "Julia",
  "name": "",
  "signature": "sha256:c334764b1c7d981f01c8b69e491912903dda8b0e9eea67693ae31f7afef16f6f"
 },
 "nbformat": 3,
 "nbformat_minor": 0,
 "worksheets": [
  {
   "cells": [
    {
     "cell_type": "heading",
     "level": 1,
     "metadata": {},
     "source": [
      "Ejercicio 1\n"
     ]
    },
    {
     "cell_type": "markdown",
     "metadata": {},
     "source": [
      "\n",
      "Dados p, emin y emax, usando el sistema binario, \u00bfde cu\u00e1ntos n\u00fameros normales consiste el conjunto? \u00bfY si se trata de otra base \u03b2? \u00bfEst\u00e1n uniformemente distribuidos los n\u00fameros normales? \u00bfCu\u00e1l es la distancia entre el 0 y el primer n\u00famero positivo distinto de cero? NOTA Para guiar la respuesta, uno puede jugar con \u03b2=2, p=2, emin=\u22121 y emax=2, pero la idea es obtener expresiones generales."
     ]
    },
    {
     "cell_type": "markdown",
     "metadata": {},
     "source": [
      "Dados p, emin y emax (\u03f5=emin-emax+1 es el n\u00famero de exponentes que se tienen, si siempre se cuenta con el exponente cero ), \u03b2=2 se puede notar que un n\u00famero normal tiene la estructura: "
     ]
    },
    {
     "cell_type": "markdown",
     "metadata": {},
     "source": [
      "$x=(-1)^\u03c3 * [1.b_1 b_2...b_p] * 2^e$"
     ]
    },
    {
     "cell_type": "code",
     "collapsed": false,
     "input": [
      "Para cualquier base sigma puede tomar el valor de 1 o 0 (dos valores), cada $b_i$ puede tomar el valor de  uno o cero (dos valores para cada una de las p entradas) y $e$ puede tomar \u03f5 valores diferentes (repito que \u03f5 lo tom\u00e9 como la definici\u00f3n de diferentes exponentes posibles). Es decir, se tienen $2 \u03b2^p *\u03f5$ $\\textbf{n\u00fameros diferentes}$"
     ],
     "language": "python",
     "metadata": {},
     "outputs": []
    },
    {
     "cell_type": "markdown",
     "metadata": {},
     "source": [
      "En el caso puesto arriba: $(\u03b2=2, p=2, \u03f5=4)$ por lo que se tienen $\\textbf{32}$ n\u00fameros diferentes. Para este mismo conjunto podemos demostrar que los normales $\\textbf{NO}$ est\u00e1n uniformemente distribuidos. Para ejemplificarlo basta que veamos en este conjunto :"
     ]
    },
    {
     "cell_type": "markdown",
     "metadata": {},
     "source": [
      "el n\u00famero m\u00e1s chico (en valor absoluto): $x_{chico}= [1.00] * 2^{-1} _{[2]} = 0.5_{[10]}$"
     ]
    },
    {
     "cell_type": "markdown",
     "metadata": {},
     "source": [
      "el segundo n\u00famero m\u00e1s chico (en valor absoluto): $x_{2ndochico}= [1.01] * 2^{-1}_{[2]} = 0.625_{[10]}$"
     ]
    },
    {
     "cell_type": "markdown",
     "metadata": {},
     "source": [
      "el n\u00famero m\u00e1s grande es : $x_{grande}= [1.11] * 2^{2}_{[2]} = 7.0_{[10]}$"
     ]
    },
    {
     "cell_type": "markdown",
     "metadata": {},
     "source": [
      "el segundo n\u00famero m\u00e1s grande es : $x_{2ndogrande}= [1.10] * 2^{2}_{[2]} = 6_{[10]}$"
     ]
    },
    {
     "cell_type": "markdown",
     "metadata": {},
     "source": [
      "Por lo que la distancia entre dos n\u00fameros consecutivos no es constante (no est\u00e1n uniformemente distribuidos). En este caso la distancia del cero al primer n\u00famero positivo distinto es 0.5, en el caso general esta distancia es : $[1.00] * \u03b2^{-1} _{[\u03b2]}$"
     ]
    },
    {
     "cell_type": "heading",
     "level": 1,
     "metadata": {},
     "source": [
      "Ejercicio 2"
     ]
    },
    {
     "cell_type": "markdown",
     "metadata": {},
     "source": [
      "En el conjunto anterior: $0=[0.00]\u22172^0_{[2]}$. Si la base es mayor que dos, no funciona la regla de bit escondido, pues no es obvio que el primer d\u00edgito sea uno (en base 10 puede ser cualquier  n\u00famero del 1 al 9)\n"
     ]
    },
    {
     "cell_type": "heading",
     "level": 1,
     "metadata": {},
     "source": [
      "Ejercicio 3"
     ]
    },
    {
     "cell_type": "markdown",
     "metadata": {},
     "source": [
      "En el conjunto anterior, los subnormales positivos son, en orden ascendiente:"
     ]
    },
    {
     "cell_type": "markdown",
     "metadata": {},
     "source": [
      "$[0.01]\u22172^{-1}_{[2]}  \\qquad   [0.10]\u22172^{-1}_{[2]}  \\qquad  [0.11]\u22172^{-1}_{[2]}$   \n",
      "\n",
      "$[0.01]\u22172^{0}_{[2]}  \\qquad   [0.10]\u22172^{0}_{[2]}  \\qquad  [0.11]\u22172^{0}_{[2]}$   \n",
      "\n",
      "$[0.01]\u22172^{1}_{[2]}  \\qquad   [0.10]\u22172^{1}_{[2]}  \\qquad  [0.11]\u22172^{1}_{[2]}$   \n",
      "\n",
      "$[0.01]\u22172^{2}_{[2]}  \\qquad   [0.10]\u22172^{2}_{[2]}  \\qquad  [0.11]\u22172^{2}_{[2]}$   "
     ]
    },
    {
     "cell_type": "markdown",
     "metadata": {},
     "source": [
      "La distancia del cero al menor subnormal es $0.01_{2}=0.25_{[10]}$. En el caso general de base dosesta es $[0.0...b_{p}]*2^{-emin}_{[2]}$ Esta distancia es la misma entre dos subnormales consecutivos, por lo que los subnormales est\u00e1n uniformemente distribuidos."
     ]
    },
    {
     "cell_type": "heading",
     "level": 1,
     "metadata": {},
     "source": [
      "Ejercicio 4"
     ]
    },
    {
     "cell_type": "markdown",
     "metadata": {},
     "source": [
      "Hablando en valores absolutos, tenemos en general, para base 2:"
     ]
    },
    {
     "cell_type": "markdown",
     "metadata": {},
     "source": [
      "$N_{m\u00ednimo}= [0.0...b_{p}]*2^{-emin}_{[2]}  \\qquad que \\quad es \\quad un \\quad n\u00famero \\quad subnormal$\n",
      "$N_{m\u00e1ximo}= [1.b_{1}=1 \\ \\ b_{2}=1 \\ ... \\ b_{p}=1]*2^{emax}_{[2]}$"
     ]
    },
    {
     "cell_type": "markdown",
     "metadata": {},
     "source": [
      "los negativos ser\u00e1n los mismos pero con signo negativo"
     ]
    },
    {
     "cell_type": "heading",
     "level": 1,
     "metadata": {},
     "source": [
      "Ejercicio 5"
     ]
    },
    {
     "cell_type": "markdown",
     "metadata": {},
     "source": [
      "Se introducen los n\u00fameros flotantes NaN e Inf para tener un m\u00e1ximo y un n\u00famero en caso de tener errores (como cuando quieres dividir 0/0). A estos se les asigna un n\u00famero binario al que les corresponder\u00eda un n\u00famero decimal muy grande, esto para no involucrarlos con sumas peque\u00f1as."
     ]
    },
    {
     "cell_type": "markdown",
     "metadata": {},
     "source": [
      "   \"Finite numbers are ordered in the usual manner.\n",
      "    Positive zero is equal but not greater than negative zero.\n",
      "    Inf is equal to itself and greater than everything else except NaN.\n",
      "    -Inf is equal to itself and less then everything else except NaN.\n",
      "    NaN is not equal to, not less than, and not greater than anything, including itself.\" *Extraido de http://julia.readthedocs.org/en/latest/manual/integers-and-floating-point-numbers/\n"
     ]
    },
    {
     "cell_type": "code",
     "collapsed": false,
     "input": [
      "bits(NaN)"
     ],
     "language": "python",
     "metadata": {},
     "outputs": [
      {
       "metadata": {},
       "output_type": "pyout",
       "prompt_number": 21,
       "text": [
        "\"0111111111111000000000000000000000000000000000000000000000000000\""
       ]
      }
     ],
     "prompt_number": 21
    },
    {
     "cell_type": "code",
     "collapsed": false,
     "input": [
      "bits(Inf)"
     ],
     "language": "python",
     "metadata": {},
     "outputs": [
      {
       "metadata": {},
       "output_type": "pyout",
       "prompt_number": 22,
       "text": [
        "\"0111111111110000000000000000000000000000000000000000000000000000\""
       ]
      }
     ],
     "prompt_number": 22
    },
    {
     "cell_type": "code",
     "collapsed": false,
     "input": [
      "eps(Float64)\n"
     ],
     "language": "python",
     "metadata": {},
     "outputs": [
      {
       "metadata": {},
       "output_type": "pyout",
       "prompt_number": 45,
       "text": [
        "2.220446049250313e-16"
       ]
      }
     ],
     "prompt_number": 45
    },
    {
     "cell_type": "code",
     "collapsed": false,
     "input": [
      "bits(ans)"
     ],
     "language": "python",
     "metadata": {},
     "outputs": [
      {
       "metadata": {},
       "output_type": "pyout",
       "prompt_number": 46,
       "text": [
        "\"0011110010110000000000000000000000000000000000000000000000000000\""
       ]
      }
     ],
     "prompt_number": 46
    },
    {
     "cell_type": "markdown",
     "metadata": {},
     "source": [
      "$\\bullet$ Para un n\u00famero $x= [1.b_{1} \\ \\ b_{2} \\ ... \\ b_{p=52}]*2^{e}_{[2]}$ (x>0) normal, se puede representar un n\u00famero normal seg\u00fan la norma IEEE 754:"
     ]
    },
    {
     "cell_type": "markdown",
     "metadata": {},
     "source": [
      "$x= (0 \\ el \\ bit \\ de \\ signo)(once \\ d\u00edgitos \\ para \\ la \\ representaci\u00f3n \\ en \\ binario \\ de \\ 1024 \\ + \\ e \\ -1)(52 \\ d\u00edgitos \\ para \\ la \\ mantisa \\ de \\ x)$"
     ]
    },
    {
     "cell_type": "markdown",
     "metadata": {},
     "source": [
      "por ejemplo, la representaci\u00f3n de 100 (m\u00e1s bien de $100.0_{[10]} =1.100100*2^{6}_{[2]}$, que es el flotante), es:"
     ]
    },
    {
     "cell_type": "code",
     "collapsed": false,
     "input": [
      "bits(100.0)"
     ],
     "language": "python",
     "metadata": {},
     "outputs": [
      {
       "metadata": {},
       "output_type": "pyout",
       "prompt_number": 51,
       "text": [
        "\"0100000001011001000000000000000000000000000000000000000000000000\""
       ]
      }
     ],
     "prompt_number": 51
    },
    {
     "cell_type": "markdown",
     "metadata": {},
     "source": [
      "(0)(10000000101)(1001000000000000000000000000000000000000000000000000) ="
     ]
    },
    {
     "cell_type": "markdown",
     "metadata": {},
     "source": [
      "(0)(representaci\u00f3n binaria de 1029)(mantisa del n\u00famero)"
     ]
    },
    {
     "cell_type": "markdown",
     "metadata": {},
     "source": [
      "$\\bullet$ Para un n\u00famero $x= [0.b_{1} \\ \\ b_{2} \\ ... \\ b_{p=52}]*2^{e}_{[2]}$subnormal, se puede representar un n\u00famero normal de la manera:"
     ]
    },
    {
     "cell_type": "markdown",
     "metadata": {},
     "source": [
      "$x= (1,0 \\ el \\ bit \\ de \\ signo)(once \\ d\u00edgitos \\ para \\ la \\ representaci\u00f3n \\ en \\ binario \\ de \\ 1024 \\ + \\ e \\ -2)(52 \\ d\u00edgitos \\ para \\ la \\ mantisa \\ de \\ x)$\n",
      " "
     ]
    },
    {
     "cell_type": "code",
     "collapsed": false,
     "input": [
      "bits(0.0)"
     ],
     "language": "python",
     "metadata": {},
     "outputs": [
      {
       "metadata": {},
       "output_type": "pyout",
       "prompt_number": 52,
       "text": [
        "\"0000000000000000000000000000000000000000000000000000000000000000\""
       ]
      }
     ],
     "prompt_number": 52
    },
    {
     "cell_type": "code",
     "collapsed": false,
     "input": [
      "bits(-0.0)"
     ],
     "language": "python",
     "metadata": {},
     "outputs": [
      {
       "metadata": {},
       "output_type": "pyout",
       "prompt_number": 50,
       "text": [
        "\"1000000000000000000000000000000000000000000000000000000000000000\""
       ]
      }
     ],
     "prompt_number": 50
    },
    {
     "cell_type": "heading",
     "level": 1,
     "metadata": {},
     "source": [
      "Ejercicio 6"
     ]
    },
    {
     "cell_type": "markdown",
     "metadata": {},
     "source": [
      "$\\bullet$ Un n\u00famero normal tiene la forma $(i<=N)$:"
     ]
    },
    {
     "cell_type": "markdown",
     "metadata": {},
     "source": [
      " $[1.b_{1} \\ \\ b_{2} \\ ... \\ b_{i}=1 \\ b_{i+1}=0 ... b_{N=52}=0]*2^{e}_{[2]}$"
     ]
    },
    {
     "cell_type": "markdown",
     "metadata": {},
     "source": [
      "y su consecutivo es:"
     ]
    },
    {
     "cell_type": "markdown",
     "metadata": {},
     "source": [
      " $([1.b_{1} \\ \\ b_{2} \\ ... \\ b_{i}=1 \\ b_{i+1}=0 ... b_{N}=0]+ ([0.b_{1}=0 \\ \\ b_{2}=0 \\ ... \\ b_{i}=0 \\ b_{i+1}=0 ... b_{N}=1]))*2^{e}_{[2]} $"
     ]
    },
    {
     "cell_type": "markdown",
     "metadata": {},
     "source": [
      "Es decir, se le suma $([0.0 ... ... b_{N=52}=1])*2^{e}_{[2]}=2^{e-52}_{[10]}$"
     ]
    },
    {
     "cell_type": "markdown",
     "metadata": {},
     "source": [
      "De la misma forma, un n\u00famero subnormal tiene la forma $(i<=N)$:"
     ]
    },
    {
     "cell_type": "markdown",
     "metadata": {},
     "source": [
      "$[0.b_{1} \\ \\ b_{2} \\ ... \\ b_{i}=1 \\ b_{i+1}=0 ... b_{N}=0]*2^{e}_{[2]}$"
     ]
    },
    {
     "cell_type": "markdown",
     "metadata": {},
     "source": [
      "y su consecutivo es:"
     ]
    },
    {
     "cell_type": "markdown",
     "metadata": {},
     "source": [
      " $([0.b_{1} \\ \\ b_{2} \\ ... \\ b_{i}=1 \\ b_{i+1}=0 ... b_{N}=0]+ ([0.b_{1}=0 \\ \\ b_{2}=0 \\ ... \\ b_{i}=0 \\ b_{i+1}=0 ... b_{N}=1]))*2^{e}_{[2]} $"
     ]
    },
    {
     "cell_type": "markdown",
     "metadata": {},
     "source": [
      "Es decir, se le suma $([0.0 ... ... b_{N=52}=1])*2^{e}_{[2]}=2^{e-53}_{[10]}$"
     ]
    },
    {
     "cell_type": "markdown",
     "metadata": {},
     "source": [
      "$\\bullet$ En forma binaria, el promedio entre un normal y su consecutivo se puede representar como: "
     ]
    },
    {
     "cell_type": "markdown",
     "metadata": {},
     "source": [
      " $([1.b_{1} \\ \\ b_{2} \\ ... \\ b_{i}=1 \\ b_{i+1}=0 ... b_{N}=0] + [1.b_{1} \\ \\ b_{2} \\ ... \\ b_{i}=1 \\ b_{i+1}=0 ... b_{N}=0]+[0.b_{1} \\ \\ b_{2} \\ ... \\ b_{i}=0 \\ b_{i+1}=0 ... b_{N}=1)*2^{e}_{[2]}*2^{-1}_{[2]}= \n",
      " ([1.b_{1} \\ \\ b_{2} \\ ... \\ b_{i}=1 \\ b_{i+1}=0 ... b_{N}=0]) *2^{e}_{[2]} +2^{e-53}_{[2]}  $ "
     ]
    },
    {
     "cell_type": "markdown",
     "metadata": {},
     "source": [
      "de igual forma, para subnormales: "
     ]
    },
    {
     "cell_type": "markdown",
     "metadata": {},
     "source": [
      " $([0.b_{1} \\ \\ b_{2} \\ ... \\ b_{i}=1 \\ b_{i+1}=0 ... b_{N}=0] + [0.b_{1} \\ \\ b_{2} \\ ... \\ b_{i}=1 \\ b_{i+1}=0 ... b_{N}=0]+[0.b_{1} \\ \\ b_{2} \\ ... \\ b_{i}=0 \\ b_{i+1}=0 ... b_{N=52}=1)*2^{e}_{[2]}*2^{-1}_{[2]}= \n",
      " ([0.b_{1} \\ \\ b_{2} \\ ... \\ b_{i}=1 \\ b_{i+1}=0 ... b_{N}]) *2^{e}_{[2]} +2^{-54}_{[2]}  $ "
     ]
    },
    {
     "cell_type": "markdown",
     "metadata": {},
     "source": [
      "con los programas se tiene, por ejemplo:"
     ]
    },
    {
     "cell_type": "markdown",
     "metadata": {},
     "source": [
      "$100.0_{[2]}= [1.00]*2^{2}_{[2]}=7.0_{[10]}$. Su normal consecutivo es: $100.0000000000000000000000000000000000000000000000001_{[2]}= [1.0000000000000000000000000000000000000000000000001]*2^{2}_{[2]}=7.0_{[10]}+ 1.7763568394002505*10^{-15}_{[10]}$"
     ]
    },
    {
     "cell_type": "markdown",
     "metadata": {},
     "source": [
      "$\\bullet$ la diferencia entre un normal y su sucesivo se escribe como: "
     ]
    },
    {
     "cell_type": "markdown",
     "metadata": {},
     "source": [
      " $([1.b_{1} \\ \\ b_{2} \\ ... \\ b_{i}=1 \\ b_{i+1}=0 ... b_{N}=0] - ( [1.b_{1} \\ \\ b_{2} \\ ... \\ b_{i}=1 \\ b_{i+1}=0 ... b_{N}=0]+[0.b_{1} \\ \\ b_{2} \\ ... \\ b_{i}=0 \\ b_{i+1}=0 ... b_{N}=1])*2^{e}_{[2]}= \n",
      "-[0.b_{1} \\ \\ b_{2} \\ ... \\ b_{i}=0 \\ b_{i+1}=0 ... b_{N}=1)])*2^{e}_{[2]}  $ "
     ]
    },
    {
     "cell_type": "markdown",
     "metadata": {},
     "source": [
      "para subnormales: "
     ]
    },
    {
     "cell_type": "markdown",
     "metadata": {},
     "source": [
      " $([0.b_{1} \\ \\ b_{2} \\ ... \\ b_{i}=1 \\ b_{i+1}=0 ... b_{N}=0] - ( [0.b_{1} \\ \\ b_{2} \\ ... \\ b_{i}=1 \\ b_{i+1}=0 ... b_{N}=0]+[0.b_{1} \\ \\ b_{2} \\ ... \\ b_{i}=0 \\ b_{i+1}=0 ... b_{N}=1])*2^{e}_{[2]}= \n",
      "-[0.b_{1} \\ \\ b_{2} \\ ... \\ b_{i}=0 \\ b_{i+1}=0 ... b_{N}=1)])*2^{e}_{[2]}=-2^{e-52}_{[2]}   $ "
     ]
    },
    {
     "cell_type": "heading",
     "level": 1,
     "metadata": {},
     "source": [
      "Ejercicio 7 "
     ]
    },
    {
     "cell_type": "code",
     "collapsed": false,
     "input": [
      "function f (x::Float64,y::Float64)\n",
      "    333.75*(big(y)^6.00)+11.00*(big(x)^4.00)*(big(y)^2.00)-(big(x)^2.00)*(big(y)^6.00)-121.00*(big(x)^2.00)*(big(y)^4.00)-2.00*(big(x)^2.00)+5.50*(big(y)^8.00)+ big(x)/(2.00*big(y))\n",
      "end"
     ],
     "language": "python",
     "metadata": {},
     "outputs": [
      {
       "metadata": {},
       "output_type": "pyout",
       "prompt_number": 1,
       "text": [
        "f (generic function with 1 method)"
       ]
      }
     ],
     "prompt_number": 1
    },
    {
     "cell_type": "markdown",
     "metadata": {},
     "source": [
      "otra forma"
     ]
    },
    {
     "cell_type": "code",
     "collapsed": false,
     "input": [
      "g(x,y)=25.7*x+y"
     ],
     "language": "python",
     "metadata": {},
     "outputs": [
      {
       "metadata": {},
       "output_type": "pyout",
       "prompt_number": 9,
       "text": [
        "g (generic function with 1 method)"
       ]
      }
     ],
     "prompt_number": 9
    },
    {
     "cell_type": "code",
     "collapsed": false,
     "input": [
      "g(x,y)=rationalize(25.7)*x+y"
     ],
     "language": "python",
     "metadata": {},
     "outputs": [
      {
       "metadata": {},
       "output_type": "pyout",
       "prompt_number": 10,
       "text": [
        "g (generic function with 1 method)"
       ]
      }
     ],
     "prompt_number": 10
    },
    {
     "cell_type": "code",
     "collapsed": false,
     "input": [
      "@which 3//4 * 5/2"
     ],
     "language": "python",
     "metadata": {},
     "outputs": [
      {
       "html": [
        "/(x::<b>Number</b>,y::<b>Number</b>) at <a href=\"https://github.com/JuliaLang/julia/tree/a05f87b79ad62beb033817fdfdefa270c9557aaf/base/promotion.jl#L161\" target=\"_blank\">promotion.jl:161</a>"
       ],
       "metadata": {},
       "output_type": "pyout",
       "prompt_number": 16,
       "text": [
        "/(x::Number,y::Number) at promotion.jl:161"
       ]
      }
     ],
     "prompt_number": 16
    },
    {
     "cell_type": "code",
     "collapsed": false,
     "input": [
      "g(big(25.25),big(10.1))"
     ],
     "language": "python",
     "metadata": {},
     "outputs": [
      {
       "metadata": {},
       "output_type": "pyout",
       "prompt_number": 3,
       "text": [
        "6.413499999999999996447286321199499070644378662109375e+02 with 256 bits of precision"
       ]
      }
     ],
     "prompt_number": 3
    },
    {
     "cell_type": "code",
     "collapsed": false,
     "input": [
      "g(25.25,10.1)"
     ],
     "language": "python",
     "metadata": {},
     "outputs": [
      {
       "metadata": {},
       "output_type": "pyout",
       "prompt_number": 4,
       "text": [
        "641.35"
       ]
      }
     ],
     "prompt_number": 4
    },
    {
     "cell_type": "code",
     "collapsed": false,
     "input": [
      "641//2"
     ],
     "language": "python",
     "metadata": {},
     "outputs": [
      {
       "metadata": {},
       "output_type": "pyout",
       "prompt_number": 8,
       "text": [
        "641//2"
       ]
      }
     ],
     "prompt_number": 8
    },
    {
     "cell_type": "code",
     "collapsed": false,
     "input": [
      "f(77617.00,33096.00)"
     ],
     "language": "python",
     "metadata": {},
     "outputs": [
      {
       "metadata": {},
       "output_type": "pyout",
       "prompt_number": 147,
       "text": [
        "-8.273960599468213681411650954798162919990331157843848199178148416727096930142628e-01 with 256 bits of precision"
       ]
      }
     ],
     "prompt_number": 147
    },
    {
     "cell_type": "markdown",
     "metadata": {},
     "source": [
      "Esto redondeado hasta 16 cifras es lo que se busca"
     ]
    },
    {
     "cell_type": "heading",
     "level": 1,
     "metadata": {},
     "source": [
      "Ejercicio 8"
     ]
    },
    {
     "cell_type": "code",
     "collapsed": false,
     "input": [
      "#function f8 (x::Float64)\n",
      "    #(1-x)^6\n",
      "#end"
     ],
     "language": "python",
     "metadata": {},
     "outputs": [],
     "prompt_number": 216
    },
    {
     "cell_type": "code",
     "collapsed": false,
     "input": [
      "#function g8 (x::Float64)\n",
      "#    x^6-6*(x^5)+15*(x^4)-20*(x^3)+15*(x^2)-6*(x)+1\n",
      "#end"
     ],
     "language": "python",
     "metadata": {},
     "outputs": [],
     "prompt_number": 287
    },
    {
     "cell_type": "code",
     "collapsed": false,
     "input": [
      "using PyPlot\n",
      "x = linspace(0.995,1.005,1024); y = x.^6-6*(x.^5)+15*(x.^4)-20*(x.^3)+15*(x.^2)-6*x+1\n",
      "plot(x, y, color=\"red\", linewidth=1.0)\n",
      "title(\"usando  el polinomio extendido\")\n"
     ],
     "language": "python",
     "metadata": {},
     "outputs": [
      {
       "metadata": {},
       "output_type": "display_data",
       "png": "[encoded data removed]",
       "text": [
        "Figure(PyObject <matplotlib.figure.Figure object at 0x7f7358bf0890>)"
       ]
      },
      {
       "metadata": {},
       "output_type": "pyout",
       "prompt_number": 2,
       "text": [
        "PyObject <matplotlib.text.Text object at 0x7f7358bc6a50>"
       ]
      }
     ],
     "prompt_number": 2
    },
    {
     "cell_type": "code",
     "collapsed": false,
     "input": [
      "using PyPlot\n",
      "x = linspace(0.995,1.005,1024); y = (1-x).^6;\n",
      "plot(x, y, color=\"red\", linewidth=1.0)\n",
      "title(\"usando el polinomio condensado\")\n"
     ],
     "language": "python",
     "metadata": {},
     "outputs": [
      {
       "metadata": {},
       "output_type": "display_data",
       "png": "[encoded data removed]",
       "text": [
        "Figure(PyObject <matplotlib.figure.Figure object at 0x7f9c87cdb210>)"
       ]
      },
      {
       "metadata": {},
       "output_type": "pyout",
       "prompt_number": 297,
       "text": [
        "PyObject <matplotlib.text.Text object at 0x7f9c8b7f7410>"
       ]
      }
     ],
     "prompt_number": 297
    },
    {
     "cell_type": "markdown",
     "metadata": {},
     "source": [
      "Esto es sorprendente pues muestra que si no se tiene cuidado los redondeos que hace Julia pueden dar resultados equivocados. Pero es a\u00fan m\u00e1s sorprendente si uno se da cuenta que esto era por la forma del dominio tomada (no es f\u00e1cil representar 0.995 en binario). Si se toma el mismo polinomio y un dominio diferente, los resultados cambian mucho:"
     ]
    },
    {
     "cell_type": "code",
     "collapsed": false,
     "input": [
      "using PyPlot\n",
      "x = linspace(-8,8,1024); y = x.^6-6*(x.^5)+15*(x.^4)-20*(x.^3)+15*(x.^2)-6*x+1\n",
      "plot(x, y, color=\"red\", linewidth=1.0)\n",
      "title(\"usando  el polinomio extendido\")\n"
     ],
     "language": "python",
     "metadata": {},
     "outputs": [
      {
       "metadata": {},
       "output_type": "display_data",
       "png": "[encoded data removed]",
       "text": [
        "Figure(PyObject <matplotlib.figure.Figure object at 0x7f9c8b319fd0>)"
       ]
      },
      {
       "metadata": {},
       "output_type": "pyout",
       "prompt_number": 324,
       "text": [
        "PyObject <matplotlib.text.Text object at 0x7f9c8b2f68d0>"
       ]
      }
     ],
     "prompt_number": 324
    },
    {
     "cell_type": "markdown",
     "metadata": {},
     "source": [
      "2^5"
     ]
    },
    {
     "cell_type": "code",
     "collapsed": false,
     "input": [
      "(2.0)^10"
     ],
     "language": "python",
     "metadata": {},
     "outputs": [
      {
       "metadata": {},
       "output_type": "pyout",
       "prompt_number": 1,
       "text": [
        "1024.0"
       ]
      }
     ],
     "prompt_number": 1
    },
    {
     "cell_type": "heading",
     "level": 1,
     "metadata": {},
     "source": [
      "Ejercicio 9"
     ]
    },
    {
     "cell_type": "markdown",
     "metadata": {},
     "source": [
      "Si se usan pasos de integraci\u00f3n que no sean representados con cifras finitas en base 2 (como 0.1, 0.001, etc\u00e9tera). Se aumenta mucho el tiempo en el que se hace la representaci\u00f3n binaria de las cantidades, por lo que el tiempo de computo es mucho mayor"
     ]
    }
   ],
   "metadata": {}
  }
 ]
}
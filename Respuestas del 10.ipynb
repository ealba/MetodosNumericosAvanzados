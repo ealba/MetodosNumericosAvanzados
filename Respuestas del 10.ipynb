{
 "metadata": {
  "language": "Julia",
  "name": "",
  "signature": "sha256:3fd6c50c66a8e78341d39ea3e27934de9c650d2fee22b31ea3aba7f7dbda6efc"
 },
 "nbformat": 3,
 "nbformat_minor": 0,
 "worksheets": [
  {
   "cells": [
    {
     "cell_type": "heading",
     "level": 1,
     "metadata": {},
     "source": [
      "El m\u00e9todo de Newton para intervalos"
     ]
    },
    {
     "cell_type": "heading",
     "level": 6,
     "metadata": {},
     "source": [
      "Igual que en la clase anterior, supondremos que $f(x)$ es una funci\u00f3n continuamente diferenciable y que existe un valor $x^*$ donde $f(x^*)=0$. Aqu\u00ed abordaremos c\u00f3mo encontrar las ra\u00edces a partir de alg\u00fan intervalo inicial $X$. Supondremos adem\u00e1s que existe una extensi\u00f3n del intervalo para $f'(x)$ y que \u00e9ste no contiene al cero: $0\\notin F'(X)$.\n",
      "\n",
      "La clave del m\u00e9todo de Newton para intervalos est\u00e1 en aplicar el teorema del valor promedio, que nos asegura que para cualquier $x\\in X$ se cumple que\n",
      "\n",
      "\\begin{equation}\n",
      "f(x) = f(x^*) + f'(\\xi) (x-x^*)\n",
      "\\end{equation}\n",
      "\n",
      "para alg\u00fana $\\xi$ entre $x$ y $x^*$. Aqu\u00ed, $\\xi$ es un valor desconocido, por lo que usamos que est\u00e1 en el intervalo inicial $X$. "
     ]
    },
    {
     "cell_type": "heading",
     "level": 6,
     "metadata": {},
     "source": [
      "Entonces, obtenemos \n",
      "\n",
      "\\begin{equation}\n",
      "x^* = x - \\frac{f(x)}{f'(\\xi)} \\in x - \\frac{f(x)}{F'(X)} \\equiv N(X,x)\n",
      "\\end{equation}\n",
      "\n",
      "Si suponemos que $x^*\\in X$, entonces $x^* \\in N(X,x)\\cap X$ para toda $x\\in X$.\n",
      "\n",
      "La cerradura (enclosure) que corresponde a $m = {\\rm mid}(X)$, o sea, al punto medio del intervalo $X$ es lo que se llama el *operador de Newton*\n",
      "\n",
      "\\begin{equation}\n",
      "N(X)\\equiv N(X,m) = m - \\frac{f(m)}{F'(X)}\n",
      "\\end{equation}"
     ]
    },
    {
     "cell_type": "heading",
     "level": 4,
     "metadata": {},
     "source": [
      "Nota que cuando implementamos esto en la computadora, en general $f(m)$ no se podr\u00e1 calcular exactamente, por lo cual es necesario convertir m en un intervalo $M:=[m,m]$, y usar la extensi\u00f3n natural $F(M)$, as\u00ed que tenemos finalmente\n",
      "$N(X):=M\u2212\\frac{F(M)} {F\u2032(X)}$,\n",
      "\n",
      "donde ahora todos son intervalos."
     ]
    },
    {
     "cell_type": "heading",
     "level": 4,
     "metadata": {},
     "source": [
      "Ahora podemos definir la sucesi\u00f3n de intervalos a partir de un intervalo inicial $X_0$ dada por $X_{k+1} = X_k \\cap N(X_k)$. Por construcci\u00f3n, si $x^*\\in X_0$ entonces $x^*\\in X_k$ para toda $k$. Entonces, si $X_0$ contiene a una ra\u00edz, la ra\u00edz se mantiene dentro de la secuencia de intervalos, que de hecho forman una secuencia anidada que converge a $x^*$. Entonces, si controlamos que de alguna manera el di\u00e1metro de los intervalos $x_k$ disminuya, obtendremos cotas precisas para $x^*$. Esto es el contenido del $Teorema \\ del\\  m\u00e9todo \\ de\\ Newton\\ para \\ intervalos$."
     ]
    },
    {
     "cell_type": "heading",
     "level": 4,
     "metadata": {},
     "source": [
      "M\u00e1s a\u00fan, si $f(x)$ es doblemente continua y diferenciable y $N(X)$ est\u00e1 bien definida en el intervalo $X$, se puede demostrar que :"
     ]
    },
    {
     "cell_type": "markdown",
     "metadata": {},
     "source": [
      "####1. Si $N(X)\\cap X = \\emptyset$, es decir, $N(X)$ no contiene a $X$, entonces $X$ no contiene ninguna ra\u00edz de $f$\n",
      "\n",
      "####2. Si $N(X) \\subseteq X$, entonces $X$ contiene exactamente una ra\u00edz de $f$"
     ]
    },
    {
     "cell_type": "heading",
     "level": 4,
     "metadata": {},
     "source": [
      "[1] Escribe una funci\u00f3n que calcule el operador de Newton para un intervalo $X$, dadas $f(x)$ y $f'(x)$."
     ]
    },
    {
     "cell_type": "markdown",
     "metadata": {},
     "source": [
      "punto medio de un intervalo:"
     ]
    },
    {
     "cell_type": "code",
     "collapsed": false,
     "input": [
      "using Intervalos\n",
      "using Diff\n",
      "using GrafInterv\n",
      "include(\"IntervalosTest.jl\")"
     ],
     "language": "python",
     "metadata": {},
     "outputs": [
      {
       "output_type": "stream",
       "stream": "stderr",
       "text": [
        "INFO: Loading help data...\n"
       ]
      },
      {
       "output_type": "stream",
       "stream": "stdout",
       "text": [
        "Pruebas aritm\u00e9ticas\n",
        "12 facts verified.\n"
       ]
      },
      {
       "metadata": {},
       "output_type": "pyout",
       "prompt_number": 1,
       "text": [
        "delayed_handler (generic function with 4 methods)"
       ]
      }
     ],
     "prompt_number": 1
    },
    {
     "cell_type": "code",
     "collapsed": false,
     "input": [
      "function Nnewton(X::Interval,f::Function)\n",
      "    media(X)-f(media(X))/f(DV(X,1)).d\n",
      "end"
     ],
     "language": "python",
     "metadata": {},
     "outputs": [
      {
       "metadata": {},
       "output_type": "pyout",
       "prompt_number": 2,
       "text": [
        "Nnewton (generic function with 1 method)"
       ]
      }
     ],
     "prompt_number": 2
    },
    {
     "cell_type": "heading",
     "level": 4,
     "metadata": {},
     "source": [
      "[2] Implementa el m\u00e9todo de Newton para intervalos para encontrar las ra\u00edces de $f(x) = x^3 - 1$ a partir de $X=[-3,3]$. Muestra gr\u00e1ficamente la implementaci\u00f3n del m\u00e9todo. En cada iteraci\u00f3n subsecuente del m\u00e9todo, ilustra qu\u00e9 le pasa al di\u00e1metro de la refincaci\u00f3n del intervalo que vas obteniendo."
     ]
    },
    {
     "cell_type": "heading",
     "level": 4,
     "metadata": {},
     "source": [
      "Hint: En el caso en que $0\\in F'(x)$ las hip\u00f3tesis del teorema no se cumplen. En ese caso hay que dividir el intervalo (bisecci\u00f3n por ejemplo) y tratar de que las hip\u00f3tesis del teorema se cumplan, para poder aplicarlo. Extiende tus funciones para que incluyan esta situaci\u00f3n. En ese caso, cada subdivisi\u00f3n debe ser probada si puede o no tener una ra\u00edz."
     ]
    },
    {
     "cell_type": "markdown",
     "metadata": {},
     "source": [
      "En este caso lo hago en el intervalo $X=[0.5,3]$ pues aqu\u00ed la derivada no se hace cero, no en el $X=[-3,3]$. Despu\u00e9s regresar\u00e9 al caso donde la derivada se puede hacer cero en el intervalo."
     ]
    },
    {
     "cell_type": "code",
     "collapsed": false,
     "input": [
      "function NewtonRhapsonIntervals1(X0::Interval,f::Function, tol, iteraciones::Integer)\n",
      "    \n",
      "    for i in 1:iteraciones\n",
      "        \n",
      "        raiz= X0 \u2229 Nnewton(X0,f)\n",
      "        \n",
      "        if typeof(raiz)==ASCIIString\n",
      "            return \"El intervalo elegido no contiene ceros de la funci\u00f3n\"\n",
      "        end\n",
      "        \n",
      "            if (radio(raiz-X0) < tol*radio(raiz))\n",
      "            iteraciones=i    \n",
      "            break\n",
      "            \n",
      "                else\n",
      "                X0=raiz\n",
      "            end            \n",
      "        \n",
      "    end\n",
      "    \n",
      "    println(\"PUEDE que haya una ra\u00edz en\"\" \"\"(despu\u00e9s de\"\" \"\"$iteraciones\"\" \"\"iteraciones):\") \n",
      "return X0\n",
      "end    \n",
      "#end"
     ],
     "language": "python",
     "metadata": {},
     "outputs": [
      {
       "metadata": {},
       "output_type": "pyout",
       "prompt_number": 5,
       "text": [
        "NewtonRhapsonIntervals1 (generic function with 1 method)"
       ]
      }
     ],
     "prompt_number": 5
    },
    {
     "cell_type": "code",
     "collapsed": false,
     "input": [
      "g(x)=x^3-1;\n",
      "g1(x)=g(DV(x,1)).d;\n",
      "X0=Interval(0.000005,3.0);\n",
      "iteraciones=478;\n",
      "tol=2.0^-5;\n",
      "\n",
      "NewtonRhapsonIntervals1(X0,g, tol, iteraciones)\n"
     ],
     "language": "python",
     "metadata": {},
     "outputs": [
      {
       "output_type": "stream",
       "stream": "stdout",
       "text": [
        "PUEDE que haya una ra\u00edz en (despu\u00e9s de 478 iteraciones):\n"
       ]
      },
      {
       "metadata": {},
       "output_type": "pyout",
       "prompt_number": 6,
       "text": [
        "Interval(1e+00 with 256 bits of precision,1e+00 with 256 bits of precision)"
       ]
      }
     ],
     "prompt_number": 6
    },
    {
     "cell_type": "markdown",
     "metadata": {},
     "source": [
      "Graficando 6 iteraciones en el m\u00e9todo:"
     ]
    },
    {
     "cell_type": "code",
     "collapsed": false,
     "input": [
      "eme=media(X0)\n",
      "graficaarea(float64(X0.lo),float64(X0.hi),g)\n",
      "PyPlot.plot(Float64[eme],Float64[g(eme)],\"+y\")\n",
      "\n",
      "X1=X0\u2229Nnewton(X0,g)\n",
      "PyPlot.fill_between(Float64[X1.lo,X1.hi],float64(g(X1).lo),float64(g(X1).hi),color=\"white\")\n",
      "PyPlot.plot(Float64[media(X1)],Float64[g(media(X1))],\"+r\")\n",
      "\n",
      "\n",
      "X2=X1\u2229Nnewton(X1,g)\n",
      "PyPlot.fill_between(Float64[X2.lo,X2.hi],float64(g(X2).lo),float64(g(X2).hi),color=\"black\")\n",
      "PyPlot.plot(Float64[media(X2)],Float64[g(media(X2))],\"+b\")\n",
      "\n",
      "X3=X2\u2229Nnewton(X2,g) \n",
      "PyPlot.fill_between(Float64[X3.lo,X3.hi],float64(g(X3).lo),float64(g(X3).hi),color=\"gray\")\n",
      "PyPlot.plot(Float64[media(X3)],Float64[g(media(X3))],\"+g\")\n",
      "\n",
      "X4=X3\u2229Nnewton(X3,g) \n",
      "PyPlot.fill_between(Float64[X4.lo,X4.hi],float64(g(X4).lo),float64(g(X4).hi),color=\"white\")\n",
      "PyPlot.plot(Float64[media(X4)],Float64[g(media(X4))],\"+r\")\n",
      "\n",
      "X5=X4\u2229Nnewton(X4,g) \n",
      "PyPlot.fill_between(Float64[X5.lo,X5.hi],float64(g(X5).lo),float64(g(X5).hi),color=\"black\")\n",
      "PyPlot.plot(Float64[media(X5)],Float64[g(media(X5))],\"+b\")\n",
      "\n",
      "X6=X4\u2229Nnewton(X5,g) \n",
      "PyPlot.fill_between(Float64[X6.lo,X6.hi],float64(g(X6).lo),float64(g(X6).hi),color=\"gray\")\n",
      "PyPlot.plot(Float64[media(X6)],Float64[g(media(X6))],\"+g\")\n"
     ],
     "language": "python",
     "metadata": {},
     "outputs": [
      {
       "metadata": {},
       "output_type": "display_data",
       "png": "[encoded data removed]",
       "text": [
        "Figure(PyObject <matplotlib.figure.Figure object at 0x7f20bc023190>)"
       ]
      },
      {
       "metadata": {},
       "output_type": "pyout",
       "prompt_number": 6,
       "text": [
        "1-element Array{Any,1}:\n",
        " PyObject <matplotlib.lines.Line2D object at 0x7f20c3d6a490>"
       ]
      }
     ],
     "prompt_number": 6
    },
    {
     "cell_type": "heading",
     "level": 4,
     "metadata": {},
     "source": [
      "\n",
      "Ahora el caso en que se puede tener un cero en la derivada: "
     ]
    },
    {
     "cell_type": "code",
     "collapsed": false,
     "input": [
      "function NewtonRhapsonIntervals2(X::Interval,f::Function, tol, iteraciones::Integer)\n",
      "f1(x)=f(DV(x,1)).d;\n",
      "\n",
      "\n",
      "X1=[];\n",
      "j=1;\n",
      "while X1 ==[]\n",
      "                        if [X][1].lo == -[X][1].hi \n",
      "                        #println(\"como es sim\u00e9trico, decido partirlo en 3\")\n",
      "                            A=trisect([X][1])\n",
      "                            elseif [X][1].lo != -[X][1].hi\n",
      "                        #println(\"no es sim\u00e9trico, por lo que est\u00e1 bien partirlo en 2\")\n",
      "                            A=bisect([X][1])\n",
      "                        end\n",
      "\n",
      "                    a=[0 in f(A[i]) for i in 1:length(A)];\n",
      "                    b=[0 in f1(A[i]) for i in 1:length(A)];\n",
      "                    c=[a[i] && ~b[i]  for i in 1:length(a)];\n",
      "                    X0=A[find(c)];\n",
      "                    X1=X0;\n",
      "\n",
      "\n",
      "            if X0 == []\n",
      "                X=A[find(a)];\n",
      "                #println(\"pedos\")\n",
      "\n",
      "\n",
      "                elseif X0 != []\n",
      "                return  [NewtonRhapsonIntervals1(X0[i],f, tol, iteraciones) for i in 1:length(X0)]\n",
      "                #break\n",
      "            end\n",
      "\n",
      "    end\n",
      "end"
     ],
     "language": "python",
     "metadata": {},
     "outputs": [
      {
       "metadata": {},
       "output_type": "pyout",
       "prompt_number": 7,
       "text": [
        "NewtonRhapsonIntervals2 (generic function with 1 method)"
       ]
      }
     ],
     "prompt_number": 7
    },
    {
     "cell_type": "code",
     "collapsed": false,
     "input": [
      "f(x)=x^2-1;\n",
      "X=Interval(-3,3);\n",
      "iteraciones=500;\n",
      "tol=2.0^-53;\n",
      "\n",
      "NewtonRhapsonIntervals2(X,f, tol, iteraciones)"
     ],
     "language": "python",
     "metadata": {},
     "outputs": [
      {
       "output_type": "stream",
       "stream": "stdout",
       "text": [
        "PUEDE que haya una ra\u00edz en (despu\u00e9s de 500 iteraciones):\n"
       ]
      },
      {
       "output_type": "stream",
       "stream": "stdout",
       "text": [
        "PUEDE que haya una ra\u00edz en (despu\u00e9s de 500 iteraciones):"
       ]
      },
      {
       "output_type": "stream",
       "stream": "stdout",
       "text": [
        "\n"
       ]
      },
      {
       "metadata": {},
       "output_type": "pyout",
       "prompt_number": 8,
       "text": [
        "2-element Array{Any,1}:\n",
        " Interval(-1e+00 with 256 bits of precision,-1e+00 with 256 bits of precision)\n",
        " Interval(1e+00 with 256 bits of precision,1e+00 with 256 bits of precision)  "
       ]
      }
     ],
     "prompt_number": 8
    },
    {
     "cell_type": "code",
     "collapsed": false,
     "input": [
      "X=Interval(-5,3);\n",
      "NewtonRhapsonIntervals2(X,f, tol, iteraciones)"
     ],
     "language": "python",
     "metadata": {},
     "outputs": [
      {
       "output_type": "stream",
       "stream": "stdout",
       "text": [
        "PUEDE que haya una ra\u00edz en (despu\u00e9s de 500 iteraciones):\n"
       ]
      },
      {
       "metadata": {},
       "output_type": "pyout",
       "prompt_number": 9,
       "text": [
        "1-element Array{Any,1}:\n",
        " Interval(-1e+00 with 256 bits of precision,-1e+00 with 256 bits of precision)"
       ]
      }
     ],
     "prompt_number": 9
    },
    {
     "cell_type": "heading",
     "level": 3,
     "metadata": {},
     "source": [
      "-------------------------Por lo que arriba (NewtonRhapson3)a veces saca 2 ra\u00edces, a veces no-----------------------------"
     ]
    },
    {
     "cell_type": "heading",
     "level": 3,
     "metadata": {},
     "source": [
      "-------------------------Este s\u00ed saca todas las ra\u00edces (pero a veces saca m\u00e1s)-----------------------------"
     ]
    },
    {
     "cell_type": "code",
     "collapsed": false,
     "input": [
      "\n",
      "function NewtonRhapsonIntervals4(X::Interval,f::Function, tol, iteraciones::Integer)\n",
      "                \n",
      "f1(x)=f(DV(x,1)).d;\n",
      "\n",
      "if 0 in f1(X)\n",
      "    \n",
      "\n",
      "#---------------------------------------------------------------Este loop es para encontrar unos intervalos donde NO \n",
      "#---------------------------------------------------------------haya cero en la derivada Y haya un cero de la funci\u00f3n \n",
      "\n",
      "                iter=500; #No creo que se tenga que dividir en m\u00e1s de 500 pedazos\n",
      "\n",
      "\n",
      "\n",
      "        for i in 1:iter\n",
      "                    A=segment(X,i) \n",
      "\n",
      "                                        a=[0 in f(A[k]) for k in 1:length(A)]\n",
      "                                        b=[0 in f1(A[k]) for k in 1:length(A)]\n",
      "                                        c=[a[k] && ~b[k]  for k in 1:length(a)]\n",
      "\n",
      "            Afirmaci\u00f3n=   (c[find(a)]==trues(length(c[find(a)])))\n",
      "\n",
      "\n",
      "                    if Afirmaci\u00f3n==true\n",
      "                    iter=i;\n",
      "                    return X0=A[find(c)];\n",
      "                    println(\" se logr\u00f3 en la segmentaci\u00f3n $iter\")\n",
      "                    break           \n",
      "                    end\n",
      "\n",
      "\n",
      "            if i==iter\n",
      "            error(\"se necesitan m\u00e1s segmentaciones que $iter\")\n",
      "            end\n",
      "        end\n",
      "\n",
      "#---------------------------------------------------------------PODR\u00cdA hacerse m\u00e1s bonito, pero no tengo idea de c\u00f3mo \n",
      "\n",
      "        #return X0\n",
      "\n",
      "            respuesta=zeros(Interval(0),length(X0))[:,1];\n",
      "\n",
      "            for j in 1:length(X0)\n",
      "            respuesta[j]=NewtonRhapsonIntervals1(X0[j],f,tol,iteraciones)\n",
      "            end\n",
      "        \n",
      "            return respuesta\n",
      "\n",
      "\n",
      "\n",
      "        \n",
      "elseif ~(0 in f1(X))\n",
      "    return NewtonRhapsonIntervals1(X,f,tol,iteraciones)\n",
      "end\n",
      "    \n",
      "end"
     ],
     "language": "python",
     "metadata": {},
     "outputs": [
      {
       "metadata": {},
       "output_type": "pyout",
       "prompt_number": 46,
       "text": [
        "NewtonRhapsonIntervals4 (generic function with 1 method)"
       ]
      }
     ],
     "prompt_number": 46
    },
    {
     "cell_type": "heading",
     "level": 3,
     "metadata": {},
     "source": [
      "------------------------------------------------------"
     ]
    },
    {
     "cell_type": "code",
     "collapsed": false,
     "input": [
      "f(x)=(x-1)*(x-2)*(x-3)*(x-4)*(x-5)*(x-6)*(x-7);\n",
      "X=Interval(-7,7);\n",
      "iteraciones=500;\n",
      "tol=2.0^-53;\n",
      "A=NewtonRhapsonIntervals4(X,f,tol,iteraciones)"
     ],
     "language": "python",
     "metadata": {},
     "outputs": [
      {
       "metadata": {},
       "output_type": "pyout",
       "prompt_number": 47,
       "text": [
        "10-element Array{Interval,1}:\n",
        " Interval(7.777777777777777777777777777777777777777777777777777777777777777777777777778085e-01 with 256 bits of precision,1.000000000000000000000000000000000000000000000000000000000000000000000000000138e+00 with 256 bits of precision)\n",
        " Interval(1e+00 with 256 bits of precision,1.222222222222222222222222222222222222222222222222222222222222222222222222222347e+00 with 256 bits of precision)                                                                               \n",
        " Interval(1.888888888888888888888888888888888888888888888888888888888888888888888888888887e+00 with 256 bits of precision,2.111111111111111111111111111111111111111111111111111111111111111111111111111268e+00 with 256 bits of precision)\n",
        " Interval(2.777777777777777777777777777777777777777777777777777777777777777777777777777774e+00 with 256 bits of precision,3.000000000000000000000000000000000000000000000000000000000000000000000000000138e+00 with 256 bits of precision)\n",
        " Interval(3e+00 with 256 bits of precision,3.222222222222222222222222222222222222222222222222222222222222222222222222222364e+00 with 256 bits of precision)                                                                               \n",
        " Interval(3.88888888888888888888888888888888888888888888888888888888888888888888888888887e+00 with 256 bits of precision,4.111111111111111111111111111111111111111111111111111111111111111111111111111303e+00 with 256 bits of precision) \n",
        " Interval(4.777777777777777777777777777777777777777777777777777777777777777777777777777739e+00 with 256 bits of precision,5.000000000000000000000000000000000000000000000000000000000000000000000000000138e+00 with 256 bits of precision)\n",
        " Interval(5e+00 with 256 bits of precision,5.222222222222222222222222222222222222222222222222222222222222222222222222222399e+00 with 256 bits of precision)                                                                               \n",
        " Interval(5.888888888888888888888888888888888888888888888888888888888888888888888888888835e+00 with 256 bits of precision,6.111111111111111111111111111111111111111111111111111111111111111111111111111303e+00 with 256 bits of precision)\n",
        " Interval(6.777777777777777777777777777777777777777777777777777777777777777777777777777739e+00 with 256 bits of precision,7e+00 with 256 bits of precision)                                                                               "
       ]
      }
     ],
     "prompt_number": 47
    },
    {
     "cell_type": "code",
     "collapsed": false,
     "input": [
      "G(x)=(x-1)*(x-2)*(x-3)\n",
      "\n",
      "\n",
      "Y=Interval(-5,5);\n",
      "iteraciones=500;\n",
      "tol=2.0^-53;\n",
      "NewtonRhapsonIntervals4(Y,G,tol,iteraciones)"
     ],
     "language": "python",
     "metadata": {},
     "outputs": [
      {
       "metadata": {},
       "output_type": "pyout",
       "prompt_number": 48,
       "text": [
        "3-element Array{Interval,1}:\n",
        " Interval(9.090909090909090909090909090909090909090909090909090909090909090909090909090721e-01 with 256 bits of precision,1.363636363636363636363636363636363636363636363636363636363636363636363636363729e+00 with 256 bits of precision)\n",
        " Interval(1.818181818181818181818181818181818181818181818181818181818181818181818181818196e+00 with 256 bits of precision,2.272727272727272727272727272727272727272727272727272727272727272727272727272818e+00 with 256 bits of precision)\n",
        " Interval(2.727272727272727272727272727272727272727272727272727272727272727272727272727251e+00 with 256 bits of precision,3.181818181818181818181818181818181818181818181818181818181818181818181818181994e+00 with 256 bits of precision)"
       ]
      }
     ],
     "prompt_number": 48
    },
    {
     "cell_type": "heading",
     "level": 6,
     "metadata": {},
     "source": [
      "[3] Usando tu implementaci\u00f3n, *demuestra* que en el mismo intervalo $X=[-3,3]$ que $g(x) = x^2+1$ no tiene ninguna ra\u00edz. Ilustra gr\u00e1ficamente esto."
     ]
    },
    {
     "cell_type": "code",
     "collapsed": false,
     "input": [
      "f(x)=x^2+1;\n",
      "X0=Interval(-3,3)\n",
      "iteraciones=500;\n",
      "tol=2.0^-53;\n",
      "Y=Interval(-0.0005,-3)\n",
      "f1(x)=f(DV(x,1)).d;"
     ],
     "language": "python",
     "metadata": {},
     "outputs": [],
     "prompt_number": 59
    },
    {
     "cell_type": "code",
     "collapsed": false,
     "input": [
      "NewtonRhapsonExtend(X0,f).una"
     ],
     "language": "python",
     "metadata": {},
     "outputs": [
      {
       "metadata": {},
       "output_type": "pyout",
       "prompt_number": 60,
       "text": [
        "0-element Array{Interval,1}"
       ]
      }
     ],
     "prompt_number": 60
    },
    {
     "cell_type": "code",
     "collapsed": false,
     "input": [
      "NewtonRhapsonExtend(X0,f).muchas"
     ],
     "language": "python",
     "metadata": {},
     "outputs": [
      {
       "metadata": {},
       "output_type": "pyout",
       "prompt_number": 61,
       "text": [
        "0-element Array{Interval,1}"
       ]
      }
     ],
     "prompt_number": 61
    },
    {
     "cell_type": "markdown",
     "metadata": {},
     "source": [
      "Osea que no hay ra\u00edces en este intervalo"
     ]
    },
    {
     "cell_type": "heading",
     "level": 6,
     "metadata": {},
     "source": [
      "[4] Considera la familia de polinomios de Wilkinson definidos por $W_n(x) = \\prod_{i=1}^n(x-i)$. Partiendo de un intervalo sim\u00e9trico al rededor del cero, implementa el m\u00e9todo de Newton para encontrar sus ra\u00edces."
     ]
    },
    {
     "cell_type": "code",
     "collapsed": false,
     "input": [
      "G(x)=(x-1)*(x-2)*(x-3)*(x-4)*(x-5)*(x-6)*(x-7)*(x-8)\n",
      "\n",
      "Y=Interval(-5,5);\n",
      "iteraciones=500;\n",
      "tol=2.0^-53;\n",
      "@time NewtonRhapsonIntervals4(Y,G,tol,iteraciones) #abajo uso otra m\u00e1s padre"
     ],
     "language": "python",
     "metadata": {},
     "outputs": [
      {
       "output_type": "stream",
       "stream": "stdout",
       "text": [
        "elapsed time: 1"
       ]
      },
      {
       "output_type": "stream",
       "stream": "stdout",
       "text": [
        ".274398238 seconds (509530535 bytes allocated)\n"
       ]
      },
      {
       "metadata": {},
       "output_type": "pyout",
       "prompt_number": 65,
       "text": [
        "5-element Array{Interval,1}:\n",
        " Interval(8.536585365853658536585365853658536585365853658536585365853658536585365853658419e-01 with 256 bits of precision,1.097560975609756097560975609756097560975609756097560975609756097560975609756151e+00 with 256 bits of precision)\n",
        " Interval(1.829268292682926829268292682926829268292682926829268292682926829268292682926804e+00 with 256 bits of precision,2.073170731707317073170731707317073170731707317073170731707317073170731707317148e+00 with 256 bits of precision)\n",
        " Interval(2.804878048780487804878048780487804878048780487804878048780487804878048780487801e+00 with 256 bits of precision,3.048780487804878048780487804878048780487804878048780487804878048780487804878248e+00 with 256 bits of precision)\n",
        " Interval(3.780487804878048780487804878048780487804878048780487804878048780487804878048763e+00 with 256 bits of precision,4.024390243902439024390243902439024390243902439024390243902439024390243902439176e+00 with 256 bits of precision)\n",
        " Interval(4.75609756097560975609756097560975609756097560975609756097560975609756097560969e+00 with 256 bits of precision,5e+00 with 256 bits of precision)                                                                                "
       ]
      }
     ],
     "prompt_number": 65
    },
    {
     "cell_type": "markdown",
     "metadata": {},
     "source": [
      "#Divisi\u00f3n extendida#"
     ]
    },
    {
     "cell_type": "heading",
     "level": 4,
     "metadata": {},
     "source": [
      "\n",
      "Hasta ahora, s\u00f3lo hemos podido tratar el caso en el cual la derivada F\u2032(X) no contiene 0. Sin embargo, resulta que es posible tratar tambi\u00e9n este caso, mediante \"divisi\u00f3n extendida\".\n",
      "\n",
      "[5] Sup\u00f3n que F\u2032(X) sea un intervalo, digamos F'(X)=[\u2212a,b], que contiene 0 (con a,b>0)."
     ]
    },
    {
     "cell_type": "heading",
     "level": 4,
     "metadata": {},
     "source": [
      "(i) Definiendo 1/A como el conjunto {1/x:x\u2208A}, eval\u00faa 1/F'(X)"
     ]
    },
    {
     "cell_type": "markdown",
     "metadata": {},
     "source": [
      "Para un intervalo $F'(X)=[\u2212a,b]$ Definimos la divisi\u00f3n extendida como LA UNI\u00d3N de intervalos $[-inf, -1/a] \\cap [1/b, inf]$ Es decir:"
     ]
    },
    {
     "cell_type": "heading",
     "level": 4,
     "metadata": {},
     "source": [
      "\n",
      "(ii) Define una funci\u00f3n que implementa esta \"divisi\u00f3n extendida\" de intervalos (o, m\u00e1s bien, inversa extendida)."
     ]
    },
    {
     "cell_type": "code",
     "collapsed": false,
     "input": [
      "InversaExt(x::Interval)=[Interval(-inf(BigFloat),(1/Interval(x.lo)).hi),Interval((1/Interval(x.hi)).lo,inf(BigFloat))]"
     ],
     "language": "python",
     "metadata": {},
     "outputs": [
      {
       "metadata": {},
       "output_type": "pyout",
       "prompt_number": 14,
       "text": [
        "InversaExt (generic function with 1 method)"
       ]
      }
     ],
     "prompt_number": 14
    },
    {
     "cell_type": "code",
     "collapsed": false,
     "input": [
      "InversaExt(Interval(-3,3))"
     ],
     "language": "python",
     "metadata": {},
     "outputs": [
      {
       "metadata": {},
       "output_type": "pyout",
       "prompt_number": 15,
       "text": [
        "2-element Array{Interval,1}:\n",
        " Interval(-inf with 256 bits of precision,-3.333333333333333333333333333333333333333333333333333333333333333333333333333305e-01 with 256 bits of precision)\n",
        " Interval(3.333333333333333333333333333333333333333333333333333333333333333333333333333305e-01 with 256 bits of precision,inf with 256 bits of precision)  "
       ]
      }
     ],
     "prompt_number": 15
    },
    {
     "cell_type": "markdown",
     "metadata": {},
     "source": [
      "De esta manera se asegura que se tienen todos los elementos {1/x: x\u2208A}."
     ]
    },
    {
     "cell_type": "markdown",
     "metadata": {},
     "source": [
      "#[6]\n",
      "#### Resulta que el m\u00e9todo de Newton sigue funcionando si utilizamos esta divisi\u00f3n extendida cu\u00e1ndo sea apropiado. Implem\u00e9ntalo para encontrar todas las ra\u00edces de una funci\u00f3n en un intervalo dado.\n",
      "\n",
      "#### Nota que hay casos en los cuales no ocurre ninguna de las posibilidades (1) ni (2) en el teorema del m\u00e9todo. \u00bfQu\u00e9 se puede hacer en este caso?"
     ]
    },
    {
     "cell_type": "markdown",
     "metadata": {},
     "source": [
      "En el caso que se cumpla $N(X)\\cap X \\neq \\emptyset$ pero $N(X)  \\nsubseteq X$ Se tiene que se tienen m\u00e1s de una ra\u00edz en el intervalo."
     ]
    },
    {
     "cell_type": "markdown",
     "metadata": {},
     "source": [
      "Lo que se puede hacer para ordenar las cosas es crear un nuevo tipo donde puedas meter los diferentes resultados del m\u00e9todo: "
     ]
    },
    {
     "cell_type": "code",
     "collapsed": false,
     "input": [
      "type Raices\n",
      "    sin::Vector{Interval} # caso (1) del notebook\n",
      "    una::Vector{Interval} # caso (2) del notebook\n",
      "    muchas::Vector{Interval} # ninguno de los anteriores\n",
      "end"
     ],
     "language": "python",
     "metadata": {},
     "outputs": [],
     "prompt_number": 7
    },
    {
     "cell_type": "markdown",
     "metadata": {},
     "source": [
      "Los dos siguientes (NnewtonAux y NewtonIntervAUX) suponen que la \n",
      "derivada se hace cero en el intervalo y escupe dos intervalos (o menos\n",
      "si es que en estos no hay ra\u00edces) donde se puede aplicar la derivada \n",
      "extendida\n"
     ]
    },
    {
     "cell_type": "code",
     "collapsed": false,
     "input": [
      "NnewtonExt(x::Interval,f::Function,y::Interval)= (Interval(media(x)) - f(Interval(media(x)))*y)"
     ],
     "language": "python",
     "metadata": {},
     "outputs": [
      {
       "metadata": {},
       "output_type": "pyout",
       "prompt_number": 10,
       "text": [
        "NnewtonExt (generic function with 1 method)"
       ]
      }
     ],
     "prompt_number": 10
    },
    {
     "cell_type": "code",
     "collapsed": false,
     "input": [
      "function NnewtonExtAUX(X::Interval,f::Function)\n",
      "\n",
      "    inversaderiv=InversaExt(f(DV(X,1)).d);\n",
      "    a=Interval[]\n",
      "    \n",
      "    for i=1:2\n",
      "        \n",
      "        if typeof(X\u2229NnewtonExt(X,f,inversaderiv[i]))==ASCIIString\n",
      "            \n",
      "        else\n",
      "            #println(\"OK\")\n",
      "            push!(a,X\u2229(NnewtonExt(X,f,inversaderiv[i])))\n",
      "        end\n",
      "    end\n",
      "    return a\n",
      "end"
     ],
     "language": "python",
     "metadata": {},
     "outputs": [
      {
       "metadata": {},
       "output_type": "pyout",
       "prompt_number": 18,
       "text": [
        "NnewtonExtAUX (generic function with 1 method)"
       ]
      }
     ],
     "prompt_number": 18
    },
    {
     "cell_type": "code",
     "collapsed": false,
     "input": [
      "X0=Interval(-3,3)\n",
      "f(x)=x^3-1;\n",
      "f1(x)=f(DV(x,1)).d\n",
      "tol=2.0^-7.0;\n",
      "iteraciones=500;\n",
      "Y=NnewtonExtAUX(X0,f)"
     ],
     "language": "python",
     "metadata": {},
     "outputs": [
      {
       "metadata": {},
       "output_type": "pyout",
       "prompt_number": 19,
       "text": [
        "2-element Array{Interval,1}:\n",
        " Interval(-3e+00 with 256 bits of precision,-3.703703703703703703703703703703703703703703703703703703703703703703703703703678e-02 with 256 bits of precision)\n",
        " Interval(3.703703703703703703703703703703703703703703703703703703703703703703703703703678e-02 with 256 bits of precision,3e+00 with 256 bits of precision)  "
       ]
      }
     ],
     "prompt_number": 19
    },
    {
     "cell_type": "code",
     "collapsed": false,
     "input": [
      "[NewtonRhapsonIntervals1(Y[i],f,tol,iteraciones) for i in 1:2]"
     ],
     "language": "python",
     "metadata": {},
     "outputs": [
      {
       "output_type": "stream",
       "stream": "stdout",
       "text": [
        "PUEDE que haya una ra\u00edz en (despu\u00e9s de 500 iteraciones):\n"
       ]
      },
      {
       "metadata": {},
       "output_type": "pyout",
       "prompt_number": 21,
       "text": [
        "2-element Array{Any,1}:\n",
        " \"El intervalo elegido no contiene ceros de la funci\u00f3n\"                     \n",
        " Interval(1e+00 with 256 bits of precision,1e+00 with 256 bits of precision)"
       ]
      }
     ],
     "prompt_number": 21
    },
    {
     "cell_type": "code",
     "collapsed": false,
     "input": [
      "function NewtonRhapsonExtendAux(x::Array{Interval,1},f::Function,n::Int64,z::Raices)\n",
      "    for i=1:length(x)\n",
      "        y=f(DV(x[i],1)).d\n",
      "        \n",
      "        if y.lo<0.0 && y.hi>0.0 \n",
      "            NewtonRhapsonExtendAux(NnewtonExtAUX(x[i],f), f, n,z)\n",
      "        \n",
      "            \n",
      "            elseif typeof(x[i]\u2229Nnewton(x[i],f))==ASCIIString    \n",
      "            push!(z.sin,x[i])\n",
      "            #println(\"El intervalo elegido no contiene ceros de $f(x)\")\n",
      "            \n",
      "            elseif n>500 #Iteraciones fijas\n",
      "                println(\"En $(x[i]) M\u00e1s de 100 iteraciones\")\n",
      "            #return(z)\n",
      "            \n",
      "            elseif abs(redonUP(-,x[i].hi,x[i].lo))<2.0^-50 #tolerancia fija\n",
      "\n",
      "            if   subset(Nnewton(x[i],f),x[i])\n",
      "\n",
      "                push!(z.una,x[i])\n",
      "                \n",
      "            else    \n",
      "                push!(z.muchas,x[i])\n",
      "                \n",
      "            end\n",
      "       \n",
      "        \n",
      "        else\n",
      "            ##println(\"pasan:\")\n",
      "            ##println(x[i])\n",
      "            ##println()\n",
      "            n+=1\n",
      "            #println(\"$(x[i])\")\n",
      "            NewtonRhapsonExtendAux( [x[i]\u2229Nnewton(x[i],f)]  , f , n,z)\n",
      "   \n",
      "        end\n",
      "    \n",
      "    end\n",
      "    return z\n",
      "    \n",
      "end\n",
      "\n",
      "NewtonRhapsonExtend(x,f)=NewtonRhapsonExtendAux([x],f,1,Raices(Interval[],Interval[],Interval[]))"
     ],
     "language": "python",
     "metadata": {},
     "outputs": [
      {
       "metadata": {},
       "output_type": "pyout",
       "prompt_number": 35,
       "text": [
        "NewtonRhapsonExtend (generic function with 1 method)"
       ]
      }
     ],
     "prompt_number": 35
    },
    {
     "cell_type": "code",
     "collapsed": false,
     "input": [
      "f1(x)=(x-1)*(x-3)*(x-4)\n",
      "interv1=Interval(-5,5)\n",
      "\n",
      "NewtonRhapsonExtend(interv1,f1).una\n",
      "#println(\"N\u00f3tese que el programa separa y encuentra los ceros al rededor de +-1\")"
     ],
     "language": "python",
     "metadata": {},
     "outputs": [
      {
       "metadata": {},
       "output_type": "pyout",
       "prompt_number": 34,
       "text": [
        "3-element Array{Interval,1}:\n",
        " Interval(2.999999999999999999999991076945329229886074725145833337780849393037094187341282e+00 with 256 bits of precision,3.000000000000000000000008905468541243249404093067678620216848800114060140779279e+00 with 256 bits of precision)\n",
        " Interval(3.999999999999999999999999444550713575405501389321923492299088370412569726495558e+00 with 256 bits of precision,4.000000000000000000000000601174436822153001831835290249843456213886217174950452e+00 with 256 bits of precision)\n",
        " Interval(9.999999999999999999999999998033788750561160448937907095666074061013175841125337e-01 with 256 bits of precision,1.000000000000000000000000000181959475559009273325052727736469720622693757052595e+00 with 256 bits of precision)"
       ]
      }
     ],
     "prompt_number": 34
    },
    {
     "cell_type": "code",
     "collapsed": false,
     "input": [
      "function Wilkinson(x,n::Int64)\n",
      "    a=(x-1)\n",
      "\n",
      "    for i=2:n\n",
      "        a=a*(x-i)\n",
      "    end\n",
      "    return a\n",
      "end"
     ],
     "language": "python",
     "metadata": {},
     "outputs": [
      {
       "metadata": {},
       "output_type": "pyout",
       "prompt_number": 36,
       "text": [
        "Wilkinson (generic function with 1 method)"
       ]
      }
     ],
     "prompt_number": 36
    },
    {
     "cell_type": "code",
     "collapsed": false,
     "input": [
      "n=8;\n",
      "f(x)=Wilkinson(x,n)\n",
      "interv=Interval(-8,8)\n",
      "NewtonRhapsonExtend(interv,f).una"
     ],
     "language": "python",
     "metadata": {},
     "outputs": [
      {
       "metadata": {},
       "output_type": "pyout",
       "prompt_number": 66,
       "text": [
        "7-element Array{Interval,1}:\n",
        " Interval(6.999999999999999999999999918549760332826131700362551370357531426797993713544225e+00 with 256 bits of precision,7.00000000000000000000000008291736060493086894110556513107241140545255455050848e+00 with 256 bits of precision) \n",
        " Interval(4.999999999999999999999983251967714853129932134343441104187507754000002020848205e+00 with 256 bits of precision,5.000000000000000000000016749279197564286988609562215069411520700956204341554712e+00 with 256 bits of precision)\n",
        " Interval(5.999999999999999999999971759666316955285659040738697446474034568633856855002681e+00 with 256 bits of precision,6.000000000000000000000028303814388345633994231114567676766262654256338094210661e+00 with 256 bits of precision)\n",
        " Interval(2.999999999999999999995666430690062830724969571230346305253562837519492859189357e+00 with 256 bits of precision,3.000000000000000000004325380928125752408306008064230962836942046260960096690503e+00 with 256 bits of precision)\n",
        " Interval(3.999999999999999999999988035867062725122689829963714099511544202703546984607911e+00 with 256 bits of precision,4.000000000000000000000011963707629730305193878914112467653123474054319005982169e+00 with 256 bits of precision)\n",
        " Interval(9.99999999999999999999871204078130841486129783357340078785135687835246703423182e-01 with 256 bits of precision,1.000000000000000000000103923723491995164821976059508898728126258244857418456213e+00 with 256 bits of precision) \n",
        " Interval(1.999999999999999999983831313061915268050636706452149406328118058575035635875887e+00 with 256 bits of precision,2.000000000000000000015899944236796326488111057653016409596422675898472138716357e+00 with 256 bits of precision)"
       ]
      }
     ],
     "prompt_number": 66
    },
    {
     "cell_type": "code",
     "collapsed": false,
     "input": [
      "NewtonRhapsonExtend(interv,f).muchas"
     ],
     "language": "python",
     "metadata": {},
     "outputs": [
      {
       "metadata": {},
       "output_type": "pyout",
       "prompt_number": 67,
       "text": [
        "1-element Array{Interval,1}:\n",
        " Interval(7.999999999999999999994504572565966639098544747908486566839506333516785480750321e+00 with 256 bits of precision,8e+00 with 256 bits of precision)"
       ]
      }
     ],
     "prompt_number": 67
    },
    {
     "cell_type": "code",
     "collapsed": false,
     "input": [],
     "language": "python",
     "metadata": {},
     "outputs": []
    },
    {
     "cell_type": "heading",
     "level": 4,
     "metadata": {},
     "source": [
      "[7] Implementa pruebas (tests) para tu c\u00f3digo."
     ]
    },
    {
     "cell_type": "code",
     "collapsed": false,
     "input": [
      "using FactCheck"
     ],
     "language": "python",
     "metadata": {},
     "outputs": []
    },
    {
     "cell_type": "code",
     "collapsed": false,
     "input": [
      "facts(\"Probando Metodo Newton\")do \n",
      "    f1(x)=x^2-1\n",
      "    interv1=Interval(-3,3)\n",
      "    var1=NewtonRhapsonExtend(interv1,f1)\n",
      "    \n",
      "    interv2=Interval(3,4)\n",
      "    var2=NewtonRhapsonExtend(interv2,f1)\n",
      "   \n",
      "    @fact var1.sin => Interval[]\n",
      "    @fact var1.muchas => Interval[]\n",
      "    @fact length(var1.una) => 2\n",
      "    @fact in(-1,var1.una[1]) => true\n",
      "    @fact in(1,var1.una[2]) => true\n",
      "    @fact var2.una => Interval[]\n",
      "    @fact var2.muchas => Interval[]\n",
      "    @fact length(var2.sin) => 1\n",
      "end;"
     ],
     "language": "python",
     "metadata": {},
     "outputs": [
      {
       "output_type": "stream",
       "stream": "stdout",
       "text": [
        "Probando Metodo Newton\n",
        "8 facts verified.\n"
       ]
      }
     ],
     "prompt_number": 88
    },
    {
     "cell_type": "code",
     "collapsed": false,
     "input": [
      "  f1(x)=x^2-1\n",
      "    interv1=Interval(-3,3)\n",
      "var1=NewtonRhapsonExtend(interv1,f1).sin"
     ],
     "language": "python",
     "metadata": {},
     "outputs": [
      {
       "metadata": {},
       "output_type": "pyout",
       "prompt_number": 81,
       "text": [
        "0-element Array{Interval,1}"
       ]
      }
     ],
     "prompt_number": 81
    },
    {
     "cell_type": "code",
     "collapsed": false,
     "input": [
      "-inf(BigFloat)"
     ],
     "language": "python",
     "metadata": {},
     "outputs": [
      {
       "metadata": {},
       "output_type": "pyout",
       "prompt_number": 95,
       "text": [
        "-inf with 256 bits of precision"
       ]
      }
     ],
     "prompt_number": 95
    },
    {
     "cell_type": "code",
     "collapsed": false,
     "input": [],
     "language": "python",
     "metadata": {},
     "outputs": []
    },
    {
     "cell_type": "code",
     "collapsed": false,
     "input": [],
     "language": "python",
     "metadata": {},
     "outputs": []
    },
    {
     "cell_type": "code",
     "collapsed": false,
     "input": [],
     "language": "python",
     "metadata": {},
     "outputs": []
    },
    {
     "cell_type": "code",
     "collapsed": false,
     "input": [],
     "language": "python",
     "metadata": {},
     "outputs": []
    },
    {
     "cell_type": "code",
     "collapsed": false,
     "input": [],
     "language": "python",
     "metadata": {},
     "outputs": []
    },
    {
     "cell_type": "code",
     "collapsed": false,
     "input": [],
     "language": "python",
     "metadata": {},
     "outputs": []
    },
    {
     "cell_type": "code",
     "collapsed": false,
     "input": [],
     "language": "python",
     "metadata": {},
     "outputs": []
    },
    {
     "cell_type": "code",
     "collapsed": false,
     "input": [],
     "language": "python",
     "metadata": {},
     "outputs": []
    },
    {
     "cell_type": "code",
     "collapsed": false,
     "input": [],
     "language": "python",
     "metadata": {},
     "outputs": []
    },
    {
     "cell_type": "code",
     "collapsed": false,
     "input": [],
     "language": "python",
     "metadata": {},
     "outputs": []
    },
    {
     "cell_type": "heading",
     "level": 1,
     "metadata": {},
     "source": [
      "LO DEL M\u00d3DULO INTERVALOS:"
     ]
    },
    {
     "cell_type": "markdown",
     "metadata": {},
     "source": [
      "module Intervalos\n",
      "import Base.in\n",
      "import Base.==\n",
      "import Base.log\n",
      "import Base.exp\n",
      "import Base.^\n",
      "import Base.\u2286\n",
      "import Base.\u2229\n",
      "import Base.zeros\n",
      "import Base.sin\n",
      "import Base.cos\n",
      "import Base.tan\n",
      "\n",
      "export Interval, in, == , redonUP , redonDOWN, log , exp, ^, monotona, \u2229, \u2286, subset, Cestricto, radio, media, zeros, bisect,trisect, multisect, sin ,cos , tan , segment\n",
      "\n",
      "#------------------------------------------------------------------------------------DEFINICI\u00d3N DE INTERVALO\n",
      "typealias prec BigFloat\n",
      "type Interval\n",
      "    lo::Real\n",
      "    hi::Real   \n",
      "    \n",
      "        function Interval(a, b)\n",
      "        a, b = a > b ? (b,a) : (a,b)      #invierte el intervalo si est\u00e1 al rev\u00e9s  \n",
      "        set_rounding(prec, RoundDown)\n",
      "        lo = BigFloat(\"$a\")\n",
      "        set_rounding(prec,RoundUp)\n",
      "        hi = BigFloat(\"$b\")\n",
      "        new(lo, hi)\n",
      "        end\n",
      "end\n",
      "\n",
      "function Interval(f)  #Para definir los escalares  \n",
      "    Interval(f,f)             \n",
      "end\n",
      "\n",
      "Interval() = println(\"Intervalo vac\u00edo\")\n",
      "\n",
      "\n",
      "#------------------------------------------------------------------------------------\n",
      "\n",
      "\n",
      "\n",
      "\n",
      "#------------------------------------------------------------------------------------OPERACIONES de conjuntos entre intervalos\n",
      "\n",
      "function in(x::Real,l::Interval)\n",
      "\t#manera f\u00e1cil:\n",
      "\t#(Interval(x).hi <= l.hi && Interval(x).lo >= l.lo)\n",
      "\t#return true\n",
      "    \t#else\n",
      "\t#return false\n",
      "    \t#end\n",
      "\n",
      "\t(Interval(x).hi <= l.hi && Interval(x).lo >= l.lo) && return true #manera cortocircuito\n",
      "\treturn false\n",
      "end\n",
      "\n",
      "function \u2286(A::Interval, B::Interval)\n",
      "    if ((B.lo<= A.lo) && (A.hi<=B.hi))\n",
      "    true\n",
      "        else\n",
      "        false\n",
      "    end\n",
      "end\n",
      "\n",
      "function subset(A::Interval, B::Interval)\n",
      "    if ((A \u2286 B) && ((A==B) == false))\n",
      "    true\n",
      "        else\n",
      "        false\n",
      "    end\n",
      "end\n",
      "\n",
      "function Cestricto(A::Interval, B::Interval)\n",
      "    if ((B.lo<A.lo) && (A.hi<B.hi))\n",
      "    true\n",
      "        else\n",
      "        false\n",
      "    end\n",
      "end\n",
      "\n",
      "function \u2229(A::Interval, B::Interval)\n",
      "    if (A.hi < B.lo || B.hi < A.lo)\n",
      "return(\"putamadre\")\n",
      "        else\n",
      "        return Interval(max(A.lo,B.lo),min(A.hi,B.hi))\n",
      "    end\n",
      "end\n",
      "\n",
      "\n",
      "function ==(a::Interval, b::Interval)\n",
      "\t(a.lo == b.lo && a.hi ==b.hi) && return true \n",
      "\treturn false\n",
      "end\n",
      "\n",
      "\n",
      "radio(A::Interval) = abs(A.hi - A.lo)\n",
      "\n",
      "media(A::Interval) = 0.5*(A.hi + A.lo)\n",
      "\n",
      "\n",
      "\n",
      "function bisect(x::Interval)\n",
      "    return [Interval(x.lo,(x.hi+x.lo)/2),Interval((x.hi+x.lo)/2,x.hi)]\n",
      "end\n",
      "\n",
      "function trisect(x::Interval)\n",
      "    return [Interval(x.lo,x.lo+radio(x)/3),Interval(x.lo+radio(x)/3,x.lo+2*radio(x)/3),Interval(x.lo+2*radio(x)/3,x.hi)]\n",
      "end\n",
      "\n",
      "function zeros(T::Interval,dim::Integer)\n",
      "a=[];\n",
      "\n",
      "    for i in 1:dim\n",
      "    a=cat(1,a,Interval(0))\n",
      "end\n",
      "\n",
      "    b=a\n",
      "    for j in 1:dim-1\n",
      "    a=cat(2,a,b)\n",
      "end\n",
      "\n",
      "    return a\n",
      "end\n",
      "\n",
      "\n",
      "function multisect(x::Interval,ntot::Integer) \n",
      "    \n",
      "    #println(\"Funci\u00f3n que hace una bisecci\u00f3n $(ntot) veces\")\n",
      "    if ntot==0\n",
      "        return x\n",
      "    \n",
      "\n",
      "    else\n",
      "        even=[2*i for i in 1:2^(ntot)];\n",
      "        odds=even-1;\n",
      "        A=zeros(Interval(0),2^ntot)\n",
      "\n",
      "        #-------el paso 1\n",
      "        A[1:2,1]=bisect(x);\n",
      "        #----------------\n",
      "\n",
      "        #---------------------pasos 2 en adelante\n",
      "        for n in 2:ntot\n",
      "                #println(\"n==============================$n\")\n",
      "            for i in 1:2^(n-1)\n",
      "                #println(\"i============$i\")\n",
      "                    for j in even[i]\n",
      "                    for k in odds[i]\n",
      "                    #println (\"j==$j\")\n",
      "                    #println (\"k===$k\")\n",
      "                        A[k:j,n]=bisect(A[i,n-1])\n",
      "                    end\n",
      "                    end\n",
      "            end\n",
      "        end\n",
      "        #---------------------\n",
      "\n",
      "        return A[:,ntot]\n",
      "    end\n",
      "end\n",
      "\n",
      "\n",
      "function segment(A::Interval,n::Int)\n",
      "    Iseg=Interval[]\n",
      "    b = (A.hi-A.lo)/(n)\n",
      "    \n",
      "    for i in 1:n-1\n",
      "        set_rounding(BigFloat,RoundDown)\n",
      "        A1=A.lo + b*(i-1)\n",
      "        set_rounding(BigFloat,RoundUp)\n",
      "        A2=A.lo+b*i\n",
      "        set_rounding(BigFloat,RoundNearest)\n",
      "        push!(Iseg,Interval(A1,A2))\n",
      "    end\n",
      "            set_rounding(BigFloat,RoundDown)\n",
      "            A1=A.lo+b*(n-1)\n",
      "            set_rounding(BigFloat,RoundUp)\n",
      "            A2=A.hi\n",
      "            set_rounding(BigFloat,RoundNearest)\n",
      "            push!(Iseg,Interval(A1,A2))\n",
      "        return Iseg\n",
      "end\n",
      "\n",
      "\n",
      "#-----------------------------------------------------------------------------------------------------------------\n",
      "\n",
      "\n",
      "\n",
      "\n",
      "\n",
      "\n",
      "#----------------------------------------------------------------------------OPERACIONES Aritm\u00e9ticas entre intervalos\n",
      "function redonUP(f::Function,x,y)\n",
      "    with_rounding(BigFloat,RoundUp) do \n",
      "        f(BigFloat(x),BigFloat(y))\n",
      "    end\n",
      "end\n",
      "function redonUP(f::Function,x)\n",
      "    with_rounding(BigFloat,RoundUp) do \n",
      "        f(BigFloat(x))\n",
      "    end\n",
      "end\n",
      "\n",
      "\n",
      "\n",
      "function redonDOWN(f::Function,x,y)\n",
      "    with_rounding(BigFloat,RoundDown) do \n",
      "        f(BigFloat(x),BigFloat(y))\n",
      "    end\n",
      "end\n",
      "\n",
      "\n",
      "function redonDOWN(f::Function,x)\n",
      "    with_rounding(BigFloat,RoundDown) do \n",
      "        f(BigFloat(x))\n",
      "    end\n",
      "end\n",
      "\n",
      "\n",
      "\n",
      "\n",
      "function +(v::Interval, w::Interval)    \n",
      "    Interval(redonDOWN(+,v.lo,w.lo),redonUP(+,v.hi,w.hi))\n",
      "end\n",
      "\n",
      "function +(v::Number, w::Interval)    \n",
      "    Interval(v)+w\n",
      "end\n",
      "\n",
      "function +(v::Interval, w::Number)    \n",
      "    v+Interval(w)\n",
      "end\n",
      "\n",
      "\n",
      "\n",
      "\n",
      "function -(v::Interval, w::Interval)    \n",
      "    Interval(redonDOWN(-,v.lo,w.hi),redonUP(-,v.hi,w.lo))\n",
      "end\n",
      "\n",
      "function -(v::Number, w::Interval)    \n",
      "    Interval(v)-w\n",
      "end\n",
      "\n",
      "function -(v::Interval, w::Number)    \n",
      "    v-Interval(w)\n",
      "end\n",
      "\n",
      "\n",
      "function *(v::Interval, w::Interval) \n",
      "    Interval(min(redonDOWN(*,v.lo,w.lo),redonDOWN(*,v.lo,w.hi),redonDOWN(*,v.hi,w.lo),redonDOWN(*,v.hi,w.hi)),max(redonUP(*,v.lo,w.lo),redonUP(*,v.lo,w.hi),redonUP(*,v.hi,w.lo),redonUP(*,v.hi,w.hi)))    \n",
      "end\n",
      "\n",
      "function *(v::Number, w::Interval) \n",
      "    Interval(v)*w\n",
      "end\n",
      "\n",
      "function *(v::Interval, w::Number) \n",
      "    v*Interval(w)\n",
      "end\n",
      "\n",
      "\n",
      "\n",
      "\n",
      "\n",
      "\n",
      "\n",
      "\n",
      "\n",
      "function /(A::Interval, B::Interval)\n",
      "    if 0 in B == false\n",
      "        return A*Interval(redonDOWN(/,1,B.hi),redonUP(/,1,B.lo))\n",
      "    end\n",
      "    \n",
      "    if (0 in A && 0 in B)\n",
      "        return Interval(-Inf, Inf)\n",
      "    end\n",
      "    \n",
      "    if (A.hi < 0 && B.lo < B.hi == 0)\n",
      "        return Interval(redonDOWN(/,A.hi,B.lo), Inf)\n",
      "    end\n",
      "    \n",
      "    if (A.hi < 0 && B.lo < 0 < B.hi)\n",
      "        return Interval(redonDOWN(/,A.hi,B.lo), redonUP(/,A.hi,B.hi))\n",
      "    end\n",
      "    \n",
      "    if (A.hi < 0 && 0 == B.lo < B.hi)\n",
      "        return Interval(-Inf, redonUP(/,A.hi,B.hi))\n",
      "    end\n",
      "    \n",
      "    if (0< A.lo && B.lo < B.hi==0)\n",
      "        return Interval(-Inf, redonUP(/,A.lo,B.lo))\n",
      "    end\n",
      "    \n",
      "    if (0 < A.lo && B.lo < 0 < B.hi)\n",
      "        return Interval(redonDOWN(/,A.lo,B.hi), redonUP(/,A.lo,B.lo))\n",
      "    end\n",
      "    \n",
      "    if (0 < A.lo && 0 == B.lo < B.hi)\n",
      "        return Interval(redonDOWN(/,A.lo,B.hi), Inf)\n",
      "    end\n",
      "    \n",
      "    if ( 0 in A == false && B == Interval(0,0))\n",
      "        return Interval()\n",
      "    end\n",
      "end\n",
      "\n",
      "\n",
      "function /(v::Number, w::Interval)\n",
      "    Interval(v)/w\n",
      "end \n",
      "\n",
      "function /(v::Interval, w::Number)\n",
      "    v/Interval(w)\n",
      "end \n",
      "\n",
      "#----------------------------------------------------------------------------\n",
      "\n",
      "function monotona(f::Function,v::Interval) #para cualquier funci\u00f3n mon\u00f3tona, si es decreciente, se invierte el intervalo\n",
      "        Interval(redonDOWN(f,v.lo),redonUP(f,v.hi))\n",
      "end \n",
      "\n",
      "\n",
      "function log(v::Interval)   # logaritmo del valor absoluto de una funci\u00f3n\n",
      "    if (v.lo < 0 || v.hi < 0)\n",
      "        return throw(DomainError()) #(\"el logaritmo no admite n\u00fameros negativos\")\n",
      "        elseif (v.lo == 0)\n",
      "            return Interval(-Inf,-Inf) \n",
      "        else\n",
      "            return monotona(log,v)\n",
      "        end\n",
      "end \n",
      "\n",
      "\n",
      "function exp(v::Interval)\n",
      "    monotona(exp,v)\n",
      "end \n",
      "\n",
      "\n",
      "function ^(v::Interval, w::Integer)\n",
      "    \n",
      "    if (v.hi > 0 && v.lo > 0)\n",
      "        return Interval(v.lo^w,v.hi^w)\n",
      "        elseif (v.hi < 0 && v.lo < 0)\n",
      "        return Interval(v.hi^w,v.lo^w)\n",
      "        else        \n",
      "        return Interval(0,max(v.lo^2,v.hi^2))\n",
      "    \n",
      "    end\n",
      "end \n",
      "\n",
      "\n",
      "function ^(v::Interval, q::Real) #Definido s\u00f3lo para intervalos positivos\n",
      "    exp(Interval(q)*log(v))\n",
      "end \n",
      "\n",
      "\n",
      "\n",
      "function Smas(A::Interval)\n",
      "    k1=int(floor((A.lo-\u03c0/2)/(2\u03c0)))\n",
      "    k2=int(ceil((A.hi-\u03c0/2)/(2\u03c0)))\n",
      "    S1=Float64[]\n",
      "        for i in k1:k2\n",
      "        push!(S1,2\u03c0*i+\u03c0/2)\n",
      "        end\n",
      "    return S1\n",
      "end\n",
      "\n",
      "\n",
      "\n",
      "function Smenos(A::Interval)\n",
      "    k1=int(floor((A.lo+\u03c0/2)/(2\u03c0)))\n",
      "    k2=int(ceil((A.hi+\u03c0/2)/(2\u03c0)))\n",
      "    S1=Float64[]\n",
      "        for i in k1:k2\n",
      "        push!(S1,2\u03c0*i-\u03c0/2)\n",
      "        end\n",
      "    return S1\n",
      "end\n",
      "\n",
      "function \u2229(A::Interval, b::Array{Float64,1})\n",
      "    k=0\n",
      "        for i in 1:length(b)\n",
      "            if (b[i] in A)\n",
      "            k+=1\n",
      "            end\n",
      "        end\n",
      "    return k\n",
      "end\n",
      "\n",
      "\n",
      "function sin(A::Interval)\n",
      "if ((A \u2229 Smenos(A)>0) && (A \u2229 Smas(A) >0))\n",
      "return Interval(-1,1)\n",
      "end\n",
      "\n",
      "if ((A \u2229 Smenos(A) >0) && (A \u2229 Smas(A) ==0))\n",
      "set_rounding(BigFloat, RoundUp)\n",
      "A2=max(sin(A.lo),sin(A.hi))\n",
      "set_rounding(BigFloat, RoundNearest)\n",
      "return Interval(-1,A2)\n",
      "end\n",
      "\n",
      "if ((A \u2229 Smenos(A) == 0) && (A \u2229 Smas(A)>0))\n",
      "set_rounding(BigFloat, RoundDown)\n",
      "A1=min(sin(A.lo),sin(A.hi))\n",
      "set_rounding(BigFloat, RoundNearest)\n",
      "return Interval(A1,1)\n",
      "end\n",
      "\n",
      "if ((A \u2229 Smenos(A) == 0) && (A \u2229 Smas(A)==0))\n",
      "set_rounding(BigFloat, RoundDown)\n",
      "A1=min(sin(A.lo),sin(A.hi))\n",
      "set_rounding(BigFloat, RoundUp)\n",
      "A2=max(sin(A.lo),sin(A.hi))\n",
      "set_rounding(BigFloat, RoundNearest)\n",
      "return Interval(A1,A2)\n",
      "end\n",
      "\n",
      "end\n",
      "\n",
      "\n",
      "cos(A::Interval)=sin(A+\u03c0/2)\n",
      "\n",
      "tan(A::Interval)=sin(A)/(cos(A))\n",
      "\n",
      "\n",
      "\n",
      "\n",
      "\n",
      "\n",
      "\n",
      "\n",
      "\n",
      "\n",
      "\n",
      "\n",
      "\n",
      "\n",
      "\n",
      "\n",
      "#----------------------------------------------------------En s\u00ed, cualquier funci\u00f3n mon\u00f3tona la defines como monotona(funci\u00f3n, intervalo)\n",
      "\n",
      "\n",
      "\n",
      "end"
     ]
    },
    {
     "cell_type": "code",
     "collapsed": false,
     "input": [],
     "language": "python",
     "metadata": {},
     "outputs": []
    }
   ],
   "metadata": {}
  }
 ]
}
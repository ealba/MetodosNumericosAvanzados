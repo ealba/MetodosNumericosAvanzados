{
 "metadata": {
  "language": "Julia",
  "name": "",
  "signature": "sha256:bcaba7aea5b6dd8dd85b3cdb5898afe276a07f26b2f6fe940d2eca37bf15599f"
 },
 "nbformat": 3,
 "nbformat_minor": 0,
 "worksheets": [
  {
   "cells": [
    {
     "cell_type": "heading",
     "level": 1,
     "metadata": {},
     "source": [
      "An\u00e1lisis de intervalos\u00b6"
     ]
    },
    {
     "cell_type": "heading",
     "level": 6,
     "metadata": {},
     "source": [
      "En el notebook anterior, entre otras cosas, hicieron su m\u00f3dulo para desarrollar la aritm\u00e9tica de intervalos, incluyendo adem\u00e1s algunas pruebas. El m\u00f3dulo permite hacer las operaciones b\u00e1sicas de intervalos, incluyendo las potencias. Adem\u00e1s, vimos que la manera en que uno opera los intervalos influye en la respuesta. Importante es notar que lo que se ha hecho hasta el momento sirve para funciones racionales de la forma f(x)=p(x)/q(x), donde p(x) y q(x) son polinomios en x.\n"
     ]
    },
    {
     "cell_type": "heading",
     "level": 5,
     "metadata": {},
     "source": [
      "El prop\u00f3sito de este notebook es extender lo ya hecho a las funciones est\u00e1ndares, que son exp(x) log(x), las funciones trigonom\u00e9tricas (sin(x), cos(x), tan(x), etc.), sus inversas (arcsin(x), etc), y las hiperb\u00f3licas (sinh(x), etc). Combinaciones utilizando las operaciones aritm\u00e9ticas que involucran las funciones est\u00e1ndares (y los polinomios) es lo que constituye a las funciones elementales"
     ]
    },
    {
     "cell_type": "heading",
     "level": 2,
     "metadata": {},
     "source": [
      "Extensi\u00f3n de funciones a intervalos\u00b6"
     ]
    },
    {
     "cell_type": "heading",
     "level": 5,
     "metadata": {},
     "source": [
      "Si f(x) es una funci\u00f3n elemental mon\u00f3tona, su extensi\u00f3n a intervalos intuitivamente es: F([a,b])=[F(a),F(b)]."
     ]
    },
    {
     "cell_type": "heading",
     "level": 5,
     "metadata": {},
     "source": [
      "Para las funciones mon\u00f3tonas est\u00e1ndares, el intervalo F([a,b]) que define la extensi\u00f3n de f(x) al intervalo [a,b] es lo que se llama la extensi\u00f3n natural a intervalos, ya que corresponde a una cota estrecha del rango de f(x) para x\u2208[a,b], que denotaremos R(f;[a,b])."
     ]
    },
    {
     "cell_type": "heading",
     "level": 6,
     "metadata": {},
     "source": [
      "\n",
      "\n",
      "[1] Ampl\u00eda tu m\u00f3dulo de intervalos para que incluya la extensi\u00f3n de las funciones est\u00e1ndres mon\u00f3tonas a intervalos. En el caso de las potencias, exti\u00e9nde lo que ya hayas hecho para que incluya potencias reales. Incluye algunas pruebas en pruebas.jl que muestren que lo que has hecho funciona bien.\n"
     ]
    },
    {
     "cell_type": "markdown",
     "metadata": {},
     "source": [
      "lo que ahora est\u00e1 en Intervalos.jl:"
     ]
    },
    {
     "cell_type": "markdown",
     "metadata": {},
     "source": [
      "module Intervalos\n",
      "import Base.in\n",
      "import Base.==\n",
      "import Base.log\n",
      "import Base.exp\n",
      "import Base.^\n",
      "\n",
      "export Interval, in, == , redonUP , redonDOWN, log , exp, ^,monotona\n",
      "#NO ME PREOCUP\u00c9 POR DIVIDIR ENTRE CEROS\n",
      "\n",
      "\n",
      "typealias prec BigFloat\n",
      "\n",
      "type Interval\n",
      "    lo::Real\n",
      "    hi::Real   \n",
      "    \n",
      "        function Interval(a, b)\n",
      "        a, b = a > b ? (b,a) : (a,b)      #invierte el intervalo si est\u00e1 al rev\u00e9s  \n",
      "        set_rounding(prec, RoundDown)\n",
      "        lo = BigFloat(\"$a\")\n",
      "        set_rounding(prec,RoundUp)\n",
      "        hi = BigFloat(\"$b\")\n",
      "        new(lo, hi)\n",
      "        end\n",
      "end\n",
      "\n",
      "function Interval(f)  #Para definir los escalares  \n",
      "    Interval(f,f)             \n",
      "end\n",
      "\n",
      "function redonUP(f::Function,x,y)\n",
      "    with_rounding(BigFloat,RoundUp) do \n",
      "        f(BigFloat(x),BigFloat(y))\n",
      "    end\n",
      "end\n",
      "function redonUP(f::Function,x)\n",
      "    with_rounding(BigFloat,RoundUp) do \n",
      "        f(BigFloat(x))\n",
      "    end\n",
      "end\n",
      "\n",
      "\n",
      "\n",
      "function redonDOWN(f::Function,x,y)\n",
      "    with_rounding(BigFloat,RoundDown) do \n",
      "        f(BigFloat(x),BigFloat(y))\n",
      "    end\n",
      "end\n",
      "\n",
      "\n",
      "function redonDOWN(f::Function,x)\n",
      "    with_rounding(BigFloat,RoundDown) do \n",
      "        f(BigFloat(x))\n",
      "    end\n",
      "end\n",
      "\n",
      "\n",
      "function in(x::Real,l::Interval)\n",
      "\t#manera f\u00e1cil:\n",
      "\t#(Interval(x).hi <= l.hi && Interval(x).lo >= l.lo)\n",
      "\t#return true\n",
      "    \t#else\n",
      "\t#return false\n",
      "    \t#end\n",
      "\n",
      "\t(Interval(x).hi <= l.hi && Interval(x).lo >= l.lo) && return true #manera cortocircuito\n",
      "\treturn false\n",
      "end\n",
      "\n",
      "\n",
      "function +(v::Interval, w::Interval)    \n",
      "    Interval(redonDOWN(+,v.lo,w.lo),redonUP(+,v.hi,w.hi))\n",
      "end\n",
      "\n",
      "function +(v::Number, w::Interval)    \n",
      "    Interval(v)+w\n",
      "end\n",
      "\n",
      "function +(v::Interval, w::Number)    \n",
      "    v+Interval(w)\n",
      "end\n",
      "\n",
      "\n",
      "function -(v::Interval, w::Interval)    \n",
      "    Interval(redonDOWN(-,v.lo,w.hi),redonUP(-,v.hi,w.lo))\n",
      "end\n",
      "\n",
      "function -(v::Number, w::Interval)    \n",
      "    Interval(v)-w\n",
      "end\n",
      "\n",
      "function -(v::Interval, w::Number)    \n",
      "    v-Interval(w)\n",
      "end\n",
      "\n",
      "\n",
      "function *(v::Interval, w::Interval) \n",
      "    Interval(min(redonDOWN(*,v.lo,w.lo),redonDOWN(*,v.lo,w.hi),redonDOWN(*,v.hi,w.lo),redonDOWN(*,v.hi,w.hi)),max(redonUP(*,v.lo,w.lo),redonUP(*,v.lo,w.hi),redonUP(*,v.hi,w.lo),redonUP(*,v.hi,w.hi)))    \n",
      "end\n",
      "\n",
      "function *(v::Number, w::Interval) \n",
      "    Interval(v)*w\n",
      "end\n",
      "\n",
      "function *(v::Interval, w::Number) \n",
      "    v*Interval(w)\n",
      "end\n",
      "\n",
      "\n",
      "\n",
      "\n",
      "function /(v::Interval, w::Interval)\n",
      "    if (0 in w)\n",
      "        return error(\"El intervalo denominador contiene al cero\")\n",
      "    else\n",
      "        return Interval(min(redonDOWN(/,v.lo,w.lo),redonDOWN(/,v.lo,w.hi),redonDOWN(/,v.hi,w.lo),redonDOWN(/,v.hi,w.hi)),max(redonUP(/,v.lo,w.lo),redonUP(/,v.lo,w.hi),redonUP(/,v.hi,w.lo),redonUP(/,v.hi,w.hi)))\n",
      "    end\n",
      "end \n",
      "\n",
      "function /(v::Number, w::Interval)\n",
      "    Interval(v)/w\n",
      "end \n",
      "\n",
      "function /(v::Interval, w::Number)\n",
      "    v/Interval(w)\n",
      "end \n",
      "\n",
      "\n",
      "\n",
      "function monotona(f::Function,v::Interval) #para cualquier funci\u00f3n mon\u00f3tona, si es decreciente, se invierte el intervalo\n",
      "        Interval(redonDOWN(f,v.lo),redonUP(f,v.hi))\n",
      "end \n",
      "\n",
      "\n",
      "function log(v::Interval)   # logaritmo del valor absoluto de una funci\u00f3n\n",
      "    if (v.lo < 0 || v.hi < 0)\n",
      "        return throw(DomainError()) #(\"el logaritmo no admite n\u00fameros negativos\")\n",
      "        elseif (v.lo == 0)\n",
      "            return Interval(-Inf,-Inf) \n",
      "        else\n",
      "            return monotona(log,v)\n",
      "        end\n",
      "end \n",
      "\n",
      "\n",
      "function exp(v::Interval)\n",
      "    monotona(exp,v)\n",
      "end \n",
      "\n",
      "\n",
      "function ^(v::Interval, w::Integer)\n",
      "    \n",
      "    if (v.hi > 0 && v.lo > 0)\n",
      "        return Interval(v.lo^w,v.hi^w)\n",
      "        elseif (v.hi < 0 && v.lo < 0)\n",
      "        return Interval(v.hi^w,v.lo^w)\n",
      "        else        \n",
      "        return Interval(0,max(v.lo^2,v.hi^2))\n",
      "    \n",
      "    end\n",
      "end \n",
      "\n",
      "\n",
      "function ^(v::Interval, q::Real) #Definido s\u00f3lo para intervalos positivos\n",
      "    exp(Interval(q)*log(v))\n",
      "end \n",
      "\n",
      "\n",
      "#en s\u00ed, cualquier funci\u00f3n mon\u00f3tona la defines como monotona(funci\u00f3n, intervalo)\n",
      "\n",
      "\n",
      "function ==(a::Interval, b::Interval)\n",
      "\t(a.lo == b.lo && a.hi ==b.hi) && return true \n",
      "\treturn false\n",
      "end\n",
      "end"
     ]
    },
    {
     "cell_type": "markdown",
     "metadata": {},
     "source": [
      "lo que ahora est\u00e1 en el test IntervalosTest.jl: "
     ]
    },
    {
     "cell_type": "markdown",
     "metadata": {},
     "source": [
      "using FactCheck\n",
      "using Intervalos\n",
      "\n",
      "\tfacts(\"Pruebas aritm\u00e9ticas\") do\n",
      "\tX1= Interval(5,6);\n",
      "\tY1= Interval(-2,4); \t\n",
      "\tA = Interval(2,1);\n",
      "\tB = Interval(1,2.0);\n",
      "\tC = Interval(5.0,6.0);\n",
      "\tD = Interval(-1,1); \n",
      "    E = Interval(1.10,1.101);\n",
      "    F = Interval(0.1 , 0.1);  \n",
      "    G = Interval(1,4)^(1/2);\n",
      "    H = Interval(1,2);\n",
      "    I=1000000.1\n",
      "    J=Interval(I)\n",
      "    K=(J^2)\n",
      "    x = 0.1; \n",
      "    y = 1.1;  \n",
      "    \n",
      "    @fact A => B\n",
      "    @fact A+B => Interval(2)*A\n",
      "    @fact X1-Y1 => Interval(1,8)\n",
      "    @fact A/B => Interval(0.5,2)\n",
      "    @fact A*B => Interval(1,4)\n",
      "    @fact A*D => Interval(-2,2)\n",
      "    @fact H.lo in G  &&  H.hi in G=> true\n",
      "   \n",
      "    \n",
      "    @fact_throws DomainError Interval(-1,2)^(1/4) \"No est\u00e1 bien definida la potencia para negativos\"\n",
      "    \n",
      "    @fact 0 in D=> true\n",
      "    @fact y in E=> true\n",
      "    @fact x in F=> true\n",
      "    @fact 1000000200000.01 in K => true\n",
      "   \n",
      "\n",
      "end"
     ]
    },
    {
     "cell_type": "code",
     "collapsed": false,
     "input": [
      "using PyPlot"
     ],
     "language": "python",
     "metadata": {},
     "outputs": [
      {
       "output_type": "stream",
       "stream": "stderr",
       "text": [
        "INFO: Loading help data...\n"
       ]
      }
     ],
     "prompt_number": 1
    },
    {
     "cell_type": "code",
     "collapsed": false,
     "input": [
      "using Intervalos"
     ],
     "language": "python",
     "metadata": {},
     "outputs": [],
     "prompt_number": 2
    },
    {
     "cell_type": "code",
     "collapsed": false,
     "input": [
      "using FactCheck"
     ],
     "language": "python",
     "metadata": {},
     "outputs": [],
     "prompt_number": 3
    },
    {
     "cell_type": "code",
     "collapsed": false,
     "input": [
      "include(\"IntervalosTest.jl\")"
     ],
     "language": "python",
     "metadata": {},
     "outputs": [
      {
       "output_type": "stream",
       "stream": "stdout",
       "text": [
        "Pruebas aritm\u00e9ticas\n",
        "12 facts verified.\n"
       ]
      },
      {
       "metadata": {},
       "output_type": "pyout",
       "prompt_number": 4,
       "text": [
        "delayed_handler (generic function with 4 methods)"
       ]
      }
     ],
     "prompt_number": 4
    },
    {
     "cell_type": "code",
     "collapsed": false,
     "input": [
      "using Diff"
     ],
     "language": "python",
     "metadata": {},
     "outputs": [],
     "prompt_number": 5
    },
    {
     "cell_type": "markdown",
     "metadata": {},
     "source": [
      "lo que est\u00e1 en Diff.jl :"
     ]
    },
    {
     "cell_type": "markdown",
     "metadata": {},
     "source": [
      "module Diff\n",
      "import Base.+\n",
      "import Base.-\n",
      "import Base.*\n",
      "import Base./\n",
      "import Base.exp\n",
      "import Base.log\n",
      "import Base.^\n",
      "\n",
      "export DV, +, -, * , / ,exp , log , ^\n",
      "\n",
      "\n",
      "type DV\n",
      "f\n",
      "d\n",
      "end\n",
      "       \n",
      "       function DV(f)\n",
      "       DV(f,0) \n",
      "       end\n",
      "\n",
      "            function +(v::DV, w::DV)\n",
      "            nuevof=v.f+w.f;\n",
      "            nuevod=v.d+w.d;\n",
      "            DV(nuevof,nuevod)\n",
      "            end\n",
      "            \n",
      "            function +(v::Number, w::DV)\n",
      "            DV(v)+w\n",
      "            end\n",
      "\n",
      "            function +(v::DV, w::Number)\n",
      "            v+DV(w)\n",
      "            end\n",
      "            \n",
      "\n",
      "\n",
      "            function -(v::DV, w::DV)\n",
      "            nuevof=v.f-w.f;\n",
      "            nuevod=v.d-w.d;\n",
      "            DV(nuevof,nuevod)\n",
      "            end\n",
      "\n",
      "            function -(v::Number,w::DV)\n",
      "            DV(v)-w\n",
      "            end\n",
      "\n",
      "            function -(v::DV,w::Number)\n",
      "            v-DV(w)\n",
      "            end\n",
      "\n",
      "\n",
      "\n",
      "\n",
      "            function *(v::DV, w::DV)\n",
      "            nuevof=v.f*w.f;\n",
      "            nuevod=v.f*w.d+v.d*w.f;\n",
      "            DV(nuevof,nuevod)\n",
      "            end\n",
      "\n",
      "            function *(v::Number, w::DV)\n",
      "            DV(v)*w\n",
      "            end\n",
      "\n",
      "            function *(v::DV, w::Number)\n",
      "            v*DV(w)\n",
      "            end\n",
      "\n",
      "\n",
      "\n",
      "            function /(v::DV, w::DV)\n",
      "            nuevof=v.f/w.f;\n",
      "            nuevod=(v.d*w.f-v.f*w.d)/(w.f^2);\n",
      "            DV(nuevof,nuevod)\n",
      "            end\n",
      "\n",
      "            function /(v::DV, w::Number)\n",
      "            v/DV(w)\n",
      "            end\n",
      "\n",
      "            function /(v::Number, w::DV)\n",
      "            DV(v)/w\n",
      "            end\n",
      "\n",
      "\n",
      "\n",
      "\n",
      "            function ^(v::DV, a::Float64) \n",
      "            nuevof=(v.f^a);\n",
      "            nuevod=a*(v.f^(a-1))*v.d\n",
      "            DV(nuevof,nuevod)\n",
      "            end\n",
      "            \n",
      "            function exp(v::DV) \n",
      "            nuevof=exp(v.f);\n",
      "            nuevod=exp(v.f)*v.d\n",
      "            DV(nuevof,nuevod)\n",
      "            end\n",
      "\n",
      "            function log(v::DV) \n",
      "            nuevof=exp(v.f);\n",
      "            nuevod=(1/v.f)*v.d\n",
      "            DV(nuevof,nuevod)\n",
      "            end\n",
      "\n",
      "            function variableindep(v::DV)\n",
      "            nuevof=v.f;\n",
      "            nuevod=1.0;\n",
      "            DV(nuevof,nuevod)\n",
      "            end\n",
      "end"
     ]
    },
    {
     "cell_type": "heading",
     "level": 3,
     "metadata": {},
     "source": [
      "[2] \u00bfC\u00f3mo definir\u00edas la extensi\u00f3n a intervalos para funciones no mon\u00f3tonas? Repite [1] para este caso."
     ]
    },
    {
     "cell_type": "markdown",
     "metadata": {},
     "source": [
      "Para funciones no mon\u00f3tonas esperamos que al menos sean de derivadas continuas, de manera que se puedan definir funciones mon\u00f3tonas por pedazos. "
     ]
    },
    {
     "cell_type": "markdown",
     "metadata": {},
     "source": [
      "Por ejemplo: la  potencia con exponentes enteros del notebook pasado"
     ]
    },
    {
     "cell_type": "heading",
     "level": 4,
     "metadata": {},
     "source": [
      "Otro ejemlo: el polinomio x^2"
     ]
    },
    {
     "cell_type": "heading",
     "level": 3,
     "metadata": {},
     "source": [
      "[3] La extensi\u00f3n natural del intervalo para $f(x)=x/(1+x^2)$ es $F(\\mathbf{x})=\\mathbf{x}/(1+\\mathbf{x}^2)$. \u00bfCu\u00e1l es la extensi\u00f3n natural del intervalo para $\\mathbf{x}=[1,2]$? \u00bfC\u00f3mo se compara con el rango $R(f; [1,2])$. Ilustra los resultados con una gr\u00e1fica."
     ]
    },
    {
     "cell_type": "code",
     "collapsed": false,
     "input": [
      "function grafica1D(a,b,f::Function)\n",
      " \n",
      "    puntosX=(-5:0.125:5)\n",
      "    puntosY=similar(puntosX)\n",
      "\t    \n",
      "\t    for i=1:length(puntosX)\n",
      "        puntosY[i]=f(puntosX[i])   #referencia fija\n",
      "\t    end\n",
      "\t    \n",
      "\t    ptsX=(a:0.125:b)\n",
      "\t    ptsY=similar(ptsX)            #la funci\u00f3n evaluada en cada elemento del dominio\n",
      "\t    for i=1:length(ptsX)\n",
      "\t    ptsY[i]=f(ptsX[i])\n",
      "\t    end\n",
      "\t    \n",
      "\t    polY=f(Interval(a,b))        #la funci\u00f3n evaluada en el intervalo\n",
      "\t    PyPlot.plot(puntosX,puntosY,\"r\",linewidth=1)\n",
      "\t    PyPlot.plot(ptsX, ptsY, \"g\", linewidth=2.0)\n",
      "\t    \n",
      "\t    PyPlot.plot((a-1)*[1,1],float64([polY.lo,polY.hi]), \"black\", linewidth=2.0)    \n",
      "\t    PyPlot.plot([a-1,a],float64(polY.lo)*[1,1],\"black\", linewidth=1.0, linestyle=\"--\")\n",
      "\t    PyPlot.plot([a-1,a],float64(polY.hi)*[1,1], \"black\", linewidth=1.0, linestyle=\"--\")\n",
      "\t    \n",
      "\n",
      "\t    PyPlot.fill_between([a,b],float64(polY.lo),float64(polY.hi),color=\"lightgray\")\n",
      "\t    PyPlot.suptitle(\"La l\u00ednea negra es f([$a,$b]), la zona gr\u00eds representa el dominio y el codominio de la funci\u00f3n sobre el intervalo, l\u00ednea verde es R(f;[$a,$b])\")\n",
      "\t   \n",
      "\tend"
     ],
     "language": "python",
     "metadata": {},
     "outputs": [
      {
       "metadata": {},
       "output_type": "pyout",
       "prompt_number": 48,
       "text": [
        "grafica1D (generic function with 1 method)"
       ]
      }
     ],
     "prompt_number": 48
    },
    {
     "cell_type": "code",
     "collapsed": false,
     "input": [
      "\n",
      "function  p(x)\n",
      "        x/(1+x^2)\n",
      "end\n"
     ],
     "language": "python",
     "metadata": {},
     "outputs": [
      {
       "metadata": {},
       "output_type": "pyout",
       "prompt_number": 7,
       "text": [
        "p (generic function with 1 method)"
       ]
      }
     ],
     "prompt_number": 7
    },
    {
     "cell_type": "code",
     "collapsed": false,
     "input": [
      "grafica1D(1.0,2.0,p);"
     ],
     "language": "python",
     "metadata": {},
     "outputs": [
      {
       "metadata": {},
       "output_type": "display_data",
       "png": "[encoded data removed]",
       "text": [
        "Figure(PyObject <matplotlib.figure.Figure object at 0x7f0144a98150>)"
       ]
      }
     ],
     "prompt_number": 8
    },
    {
     "cell_type": "code",
     "collapsed": false,
     "input": [
      "h(x)=x^2-1;\n",
      "grafica1D(-3,3,h)"
     ],
     "language": "python",
     "metadata": {},
     "outputs": [
      {
       "metadata": {},
       "output_type": "display_data",
       "png": "[encoded data removed]",
       "text": [
        "Figure(PyObject <matplotlib.figure.Figure object at 0x7f01379c31d0>)"
       ]
      },
      {
       "metadata": {},
       "output_type": "pyout",
       "prompt_number": 50,
       "text": [
        "PyObject <matplotlib.text.Text object at 0x7f0137205b50>"
       ]
      }
     ],
     "prompt_number": 50
    },
    {
     "cell_type": "code",
     "collapsed": false,
     "input": [
      "x=Interval(-1.5,1.5);\n",
      "findzeros(x,10,h)"
     ],
     "language": "python",
     "metadata": {},
     "outputs": [
      {
       "metadata": {},
       "output_type": "pyout",
       "prompt_number": 51,
       "text": [
        "2-element Array{Interval,1}:\n",
        " Interval(-1.001953125e+00 with 256 bits of precision,-9.990234375e-01 with 256 bits of precision)\n",
        " Interval(9.990234375e-01 with 256 bits of precision,1.001953125e+00 with 256 bits of precision)  "
       ]
      }
     ],
     "prompt_number": 51
    },
    {
     "cell_type": "code",
     "collapsed": false,
     "input": [],
     "language": "python",
     "metadata": {},
     "outputs": []
    },
    {
     "cell_type": "code",
     "collapsed": false,
     "input": [],
     "language": "python",
     "metadata": {},
     "outputs": []
    },
    {
     "cell_type": "markdown",
     "metadata": {},
     "source": [
      "El **Teorema Fundamental del An\u00e1lisis de Intervalos** afirma que dada una funci\u00f3n *elemental* $f(x)$ y una extensi\u00f3n natural a intervalos $F$, tal que $F(\\mathbf{x})$ est\u00e1 bien definida para alg\u00fan intervalo $\\mathbf{x}$, entonces:\n",
      "\n",
      "1. Si $\\mathbf{z} \\subseteq \\mathbf{z'} \\subseteq \\mathbf{x} \\Longrightarrow F(\\mathbf{z}) \\subseteq F(\\mathbf{z'}),\\quad$ \"inclusi\u00f3n isot\u00f3nica\" (*inclusion isotonicity*)\n",
      "\n",
      "2. $R(f;\\mathbf{x}) \\subseteq F(\\mathbf{x}),\\quad$ \"acotamiento del rango\" (*range enclosure*)\n"
     ]
    },
    {
     "cell_type": "markdown",
     "metadata": {},
     "source": [
      "La segunda propiedad afirma que la extensi\u00f3n natural $F(\\mathbf{x})$ contiene al rango, lo que entonces acota el rango de $f(x)$ con $F(\\mathbf{x})$. \n",
      "\n",
      "De aqu\u00ed, dado que si $y\\notin F(\\mathbf{x}) \\Longrightarrow y\\notin R(f;\\mathbf{x})$, entonces podemos usar este resultado cuando se buscan las ra\u00edces de alguna funci\u00f3n $f(x)$ en un intervalo: Si $ 0 \\notin F(\\mathbf{x})$ entonces $f(x)$ **no** tiene ra\u00edces en $\\mathbf{x}$."
     ]
    },
    {
     "cell_type": "markdown",
     "metadata": {},
     "source": [
      "[4] Demuestra que $f(x) = (\\sin(x)-x^2+1)\\cos(x)$ no tiene ra\u00edces en $\\mathbf{x}=[0,1/2]$. Ilustra que el argumento es correcto gr\u00e1ficamente."
     ]
    },
    {
     "cell_type": "markdown",
     "metadata": {},
     "source": [
      "La gr\u00e1fica de la funci\u00f3n demuestra que esta funci\u00f3n es mon\u00f3tona creciente en todo el intervalo."
     ]
    },
    {
     "cell_type": "code",
     "collapsed": false,
     "input": [
      "f(x) = (sin(x)-x^2+1)/cos(x);\n",
      "\n",
      "ptosx=linspace(0,0.5,1024);\n",
      "ptosy=[f(ptosx[i]) for i in 1:1024];\n",
      "plot(ptosx,ptosy)"
     ],
     "language": "python",
     "metadata": {},
     "outputs": [
      {
       "metadata": {},
       "output_type": "display_data",
       "png": "[encoded data removed]",
       "text": [
        "Figure(PyObject <matplotlib.figure.Figure object at 0x7f0137693bd0>)"
       ]
      },
      {
       "metadata": {},
       "output_type": "pyout",
       "prompt_number": 53,
       "text": [
        "1-element Array{Any,1}:\n",
        " PyObject <matplotlib.lines.Line2D object at 0x7f013712e7d0>"
       ]
      }
     ],
     "prompt_number": 53
    },
    {
     "cell_type": "markdown",
     "metadata": {},
     "source": [
      "Por lo que est\u00e1 bien considerar que la funci\u00f3n ES MON\u00d3TONA y ,en el intervalo, est\u00e1 definida como en la pregunta [1]"
     ]
    },
    {
     "cell_type": "code",
     "collapsed": false,
     "input": [
      "f(x) = (sin(x)-x^2+1)/cos(x);\n",
      "\n",
      "function f(x::Interval)\n",
      "    f(x) = (sin(x)-x^2+1)/cos(x);\n",
      "    monotona(f,Interval(0,0.5)) \n",
      "end"
     ],
     "language": "python",
     "metadata": {},
     "outputs": [
      {
       "metadata": {},
       "output_type": "pyout",
       "prompt_number": 54,
       "text": [
        "f (generic function with 2 methods)"
       ]
      }
     ],
     "prompt_number": 54
    },
    {
     "cell_type": "code",
     "collapsed": false,
     "input": [
      "A=f(Interval(0,0.5))"
     ],
     "language": "python",
     "metadata": {},
     "outputs": [
      {
       "metadata": {},
       "output_type": "pyout",
       "prompt_number": 11,
       "text": [
        "Interval(1e+00 with 256 bits of precision,1.400922935337202354990175291933997829615345654716543661521061976988535711036611e+00 with 256 bits of precision)"
       ]
      }
     ],
     "prompt_number": 11
    },
    {
     "cell_type": "code",
     "collapsed": false,
     "input": [
      "0 in A"
     ],
     "language": "python",
     "metadata": {},
     "outputs": [
      {
       "metadata": {},
       "output_type": "pyout",
       "prompt_number": 12,
       "text": [
        "false"
       ]
      }
     ],
     "prompt_number": 12
    },
    {
     "cell_type": "markdown",
     "metadata": {},
     "source": [
      "por lo que no se tienen ra\u00edces en este intervalo"
     ]
    },
    {
     "cell_type": "heading",
     "level": 2,
     "metadata": {},
     "source": [
      "Rutina para encontrar ra\u00edces de una funci\u00f3n"
     ]
    },
    {
     "cell_type": "markdown",
     "metadata": {},
     "source": [
      "Ya hemos llegado al punto de poder resolver el siguiente problema:\n",
      "\n",
      "> Dada una funci\u00f3n $f(x)$ y un intervalo $X$, encuentra las ra\u00edces de $f$ dentro de $X$."
     ]
    },
    {
     "cell_type": "heading",
     "level": 3,
     "metadata": {},
     "source": [
      "[5] Escribe un c\u00f3digo quer utiliza la propiedad de los ceros para encontrar los intervalos donde *podr\u00eda haber* un cero."
     ]
    },
    {
     "cell_type": "markdown",
     "metadata": {},
     "source": [
      "Aqu\u00ed hice funciones para bisectar(partir en dos), multisectar(bisectar n veces) y trisectar (partir en 3) un intervalo. La \u00fanica forma en la que pude hacer esto es definiendo la funci\u00f3n \"zeros\" para el tipo intervalos \n",
      "#AUNQUE#\n",
      "SE PODR\u00cdA MEJORAR (pero no s\u00e9 c\u00f3mo)\n",
      "#ACTUALIZACI\u00d3N: ya s\u00e9 y no us\u00e9 la funci\u00f3n multisect =("
     ]
    },
    {
     "cell_type": "code",
     "collapsed": false,
     "input": [
      "function bisect(x::Interval)\n",
      "    return [Interval(x.lo,(x.hi+x.lo)/2),Interval((x.hi+x.lo)/2,x.hi)]\n",
      "end"
     ],
     "language": "python",
     "metadata": {},
     "outputs": [
      {
       "metadata": {},
       "output_type": "pyout",
       "prompt_number": 55,
       "text": [
        "bisect (generic function with 1 method)"
       ]
      }
     ],
     "prompt_number": 55
    },
    {
     "cell_type": "code",
     "collapsed": false,
     "input": [
      "#esto se debe de poner en el modulo------------\n",
      "import Base.zeros\n",
      "function zeros(T::Interval,dim::Integer)\n",
      "a=[];\n",
      "\n",
      "    for i in 1:dim\n",
      "    a=cat(1,a,Interval(0))\n",
      "end\n",
      "\n",
      "    b=a\n",
      "    for j in 1:dim-1\n",
      "    a=cat(2,a,b)\n",
      "end\n",
      "\n",
      "    return a\n",
      "end"
     ],
     "language": "python",
     "metadata": {},
     "outputs": [
      {
       "metadata": {},
       "output_type": "pyout",
       "prompt_number": 56,
       "text": [
        "zeros (generic function with 4 methods)"
       ]
      }
     ],
     "prompt_number": 56
    },
    {
     "cell_type": "code",
     "collapsed": false,
     "input": [
      "function multisect(x::Interval,ntot::Integer) \n",
      "    \n",
      "    #println(\"Funci\u00f3n que hace una bisecci\u00f3n $(ntot) veces\")\n",
      "    if ntot==0\n",
      "        return x\n",
      "    \n",
      "\n",
      "    else\n",
      "        even=[2*i for i in 1:2^(ntot)];\n",
      "        odds=even-1;\n",
      "        A=zeros(Interval(0),2^ntot)\n",
      "\n",
      "        #-------el paso 1\n",
      "        A[1:2,1]=bisect(x);\n",
      "        #----------------\n",
      "\n",
      "        #---------------------pasos 2 en adelante\n",
      "        for n in 2:ntot\n",
      "                #println(\"n==============================$n\")\n",
      "            for i in 1:2^(n-1)\n",
      "                #println(\"i============$i\")\n",
      "                    for j in even[i]\n",
      "                    for k in odds[i]\n",
      "                    #println (\"j==$j\")\n",
      "                    #println (\"k===$k\")\n",
      "                        A[k:j,n]=bisect(A[i,n-1])\n",
      "                    end\n",
      "                    end\n",
      "            end\n",
      "        end\n",
      "        #---------------------\n",
      "\n",
      "        return A[:,ntot]\n",
      "    end\n",
      "end"
     ],
     "language": "python",
     "metadata": {},
     "outputs": [
      {
       "metadata": {},
       "output_type": "pyout",
       "prompt_number": 57,
       "text": [
        "multisect (generic function with 1 method)"
       ]
      }
     ],
     "prompt_number": 57
    },
    {
     "cell_type": "code",
     "collapsed": false,
     "input": [
      "function trisect(x::Interval)\n",
      "        return [Interval(x.lo,(x.hi+x.lo)/3),Interval((x.hi+x.lo)/3,2*(x.hi+x.lo)/3),Interval((x.hi+x.lo)/3,x.hi)]\n",
      "end"
     ],
     "language": "python",
     "metadata": {},
     "outputs": [
      {
       "metadata": {},
       "output_type": "pyout",
       "prompt_number": 58,
       "text": [
        "trisect (generic function with 1 method)"
       ]
      }
     ],
     "prompt_number": 58
    },
    {
     "cell_type": "markdown",
     "metadata": {},
     "source": [
      "no us\u00e9 trisect"
     ]
    },
    {
     "cell_type": "code",
     "collapsed": false,
     "input": [
      "function findzeros(x::Interval,numbisecc::Integer,f::Function)\n",
      "    x1=multisect(x,numbisecc);   \n",
      "    y1=[f(x) for x in x1];\n",
      "    \n",
      "    a=[]    \n",
      "    for i in 1:length(y1)    \n",
      "        B= 0 in y1[i]\n",
      "        a=cat(1,a,B)\n",
      "        #println(\"$B\",\"$i\")\n",
      "    end\n",
      "    \n",
      "    return x1[find(a)] \n",
      "end\n",
      "#end\n",
      "#ptos=find(a);"
     ],
     "language": "python",
     "metadata": {},
     "outputs": [],
     "prompt_number": 59
    },
    {
     "cell_type": "code",
     "collapsed": false,
     "input": [
      " x=Interval(-3.5,-1);"
     ],
     "language": "python",
     "metadata": {},
     "outputs": [],
     "prompt_number": 18
    },
    {
     "cell_type": "markdown",
     "metadata": {},
     "source": [
      "probamos esto con la funci\u00f3n g(x)= (x+3)/(1+x^2), que sabemos, por la gr\u00e1fica siguiente, que es mon\u00f3tona en el intervalo de [-4,0]:"
     ]
    },
    {
     "cell_type": "code",
     "collapsed": false,
     "input": [
      "function  g(x)\n",
      "        (x+3)/(1+x^2)\n",
      "end"
     ],
     "language": "python",
     "metadata": {},
     "outputs": [
      {
       "metadata": {},
       "output_type": "pyout",
       "prompt_number": 19,
       "text": [
        "g (generic function with 1 method)"
       ]
      }
     ],
     "prompt_number": 19
    },
    {
     "cell_type": "code",
     "collapsed": false,
     "input": [
      "grafica1D(-3.5,-1.0,g)"
     ],
     "language": "python",
     "metadata": {},
     "outputs": [
      {
       "metadata": {},
       "output_type": "display_data",
       "png": "[encoded data removed]",
       "text": [
        "Figure(PyObject <matplotlib.figure.Figure object at 0x7f01391076d0>)"
       ]
      },
      {
       "metadata": {},
       "output_type": "pyout",
       "prompt_number": 20,
       "text": [
        "PyObject <matplotlib.text.Text object at 0x7f01375d1710>"
       ]
      }
     ],
     "prompt_number": 20
    },
    {
     "cell_type": "code",
     "collapsed": false,
     "input": [
      "x=Interval(-4.5,-1.5)\n",
      "A= @time findzeros(x,8,g)"
     ],
     "language": "python",
     "metadata": {},
     "outputs": [
      {
       "output_type": "stream",
       "stream": "stdout",
       "text": [
        "elapsed time: "
       ]
      },
      {
       "output_type": "stream",
       "stream": "stdout",
       "text": [
        "0.129704557 seconds (85415016 bytes allocated, 33.92% gc time)\n"
       ]
      },
      {
       "metadata": {},
       "output_type": "pyout",
       "prompt_number": 64,
       "text": [
        "2-element Array{Interval,1}:\n",
        " Interval(-3.01171875e+00 with 256 bits of precision,-3e+00 with 256 bits of precision)\n",
        " Interval(-3e+00 with 256 bits of precision,-2.98828125e+00 with 256 bits of precision)"
       ]
      }
     ],
     "prompt_number": 64
    },
    {
     "cell_type": "heading",
     "level": 4,
     "metadata": {},
     "source": [
      "por lo que debe de haber un cero en el intervalo [-3.001953125,-2.99951171875]"
     ]
    },
    {
     "cell_type": "heading",
     "level": 3,
     "metadata": {},
     "source": [
      "[6] Extiende tu c\u00f3digo para utilizar la derivada $f'$, dada a mano, para demostrar (cuando se puede) que el cero es *\u00fanico* en el intervalo."
     ]
    },
    {
     "cell_type": "markdown",
     "metadata": {},
     "source": [
      "la derivada de la funci\u00f3n pasada es:"
     ]
    },
    {
     "cell_type": "code",
     "collapsed": false,
     "input": [
      "function  dg(x)\n",
      "        (1-x^2-6x)/(1+x^2)^2\n",
      "end"
     ],
     "language": "python",
     "metadata": {},
     "outputs": [
      {
       "metadata": {},
       "output_type": "pyout",
       "prompt_number": 65,
       "text": [
        "dg (generic function with 1 method)"
       ]
      }
     ],
     "prompt_number": 65
    },
    {
     "cell_type": "code",
     "collapsed": false,
     "input": [
      "respuesta=findzeros(x,5,g)"
     ],
     "language": "python",
     "metadata": {},
     "outputs": [
      {
       "metadata": {},
       "output_type": "pyout",
       "prompt_number": 66,
       "text": [
        "2-element Array{Interval,1}:\n",
        " Interval(-3.09375e+00 with 256 bits of precision,-3e+00 with 256 bits of precision)\n",
        " Interval(-3e+00 with 256 bits of precision,-2.90625e+00 with 256 bits of precision)"
       ]
      }
     ],
     "prompt_number": 66
    },
    {
     "cell_type": "code",
     "collapsed": false,
     "input": [
      "A=sign((dg(respuesta[1])).lo)"
     ],
     "language": "python",
     "metadata": {},
     "outputs": [
      {
       "metadata": {},
       "output_type": "pyout",
       "prompt_number": 69,
       "text": [
        "1e+00 with 256 bits of precision"
       ]
      }
     ],
     "prompt_number": 69
    },
    {
     "cell_type": "code",
     "collapsed": false,
     "input": [
      "B=sign((dg(respuesta[1])).hi)"
     ],
     "language": "python",
     "metadata": {},
     "outputs": [
      {
       "metadata": {},
       "output_type": "pyout",
       "prompt_number": 70,
       "text": [
        "1e+00 with 256 bits of precision"
       ]
      }
     ],
     "prompt_number": 70
    },
    {
     "cell_type": "code",
     "collapsed": false,
     "input": [
      "A==B"
     ],
     "language": "python",
     "metadata": {},
     "outputs": [
      {
       "metadata": {},
       "output_type": "pyout",
       "prompt_number": 71,
       "text": [
        "true"
       ]
      }
     ],
     "prompt_number": 71
    },
    {
     "cell_type": "heading",
     "level": 4,
     "metadata": {},
     "source": [
      "es decir, no se cambia el signo de la derivada en el intervalo, por lo que el cero es \u00fanico en el intervalo"
     ]
    },
    {
     "cell_type": "heading",
     "level": 3,
     "metadata": {},
     "source": [
      "[7] Utiliza la *diferenciaci\u00f3n autom\u00e1tica* del notebook 6 para que no tengas que especificar la derivada a mano."
     ]
    },
    {
     "cell_type": "code",
     "collapsed": false,
     "input": [
      "#funciona para ra\u00edces m\u00faltiples en el intervalo\n",
      "\n",
      "function findzeros2(x::Interval,numbisecc::Integer,g::Function)\n",
      "        x1=multisect(x,numbisecc);\n",
      "        y1=[g(x) for x in x1];\n",
      "\n",
      "        a=[]    \n",
      "        for i in 1:length(y1)    \n",
      "            B= 0 in y1[i]\n",
      "            a=cat(1,a,B)\n",
      "            #println(\"$B\",\"$i\")\n",
      "        end\n",
      "    if a==falses(length(a))\n",
      "        println(\"your zero is in another castle\")\n",
      "    else\n",
      "\n",
      "            respuesta= x1[find(a)] \n",
      "\n",
      "        #la derivada evaluada en los extremos:\n",
      "        memuero=[(g(DV(respuesta[i],1))).d for i in 1:length(respuesta)]\n",
      "\n",
      "        lomero=[];\n",
      "\n",
      "        for i in 1:length(memuero)\n",
      "            lomero=cat(1,lomero,[memuero[i].lo,memuero[i].hi]) \n",
      "\n",
      "        end\n",
      "\n",
      "        signosenlosextremos=[sign(lomero[i]) for i in 1:length(lomero)];\n",
      "\n",
      "\n",
      "\n",
      "        if signosenlosextremos==ones(length(signosenlosextremos))\n",
      "            println(\"el cero en el intervalo es \u00fanico\")\n",
      "            else\n",
      "            println(\"el cero no es \u00fanico en este intervalo\")\n",
      "        end\n",
      "\n",
      "    end\n",
      "\n",
      "    return respuesta\n",
      "end"
     ],
     "language": "python",
     "metadata": {},
     "outputs": [
      {
       "metadata": {},
       "output_type": "pyout",
       "prompt_number": 72,
       "text": [
        "findzeros2 (generic function with 1 method)"
       ]
      }
     ],
     "prompt_number": 72
    },
    {
     "cell_type": "code",
     "collapsed": false,
     "input": [
      "x=Interval(-3.5,-1);\n",
      "numbisecc=10;\n",
      "W=@time findzeros2(x,numbisecc,g)"
     ],
     "language": "python",
     "metadata": {},
     "outputs": [
      {
       "output_type": "stream",
       "stream": "stdout",
       "text": [
        "el cero en el intervalo es \u00fanico\n"
       ]
      },
      {
       "output_type": "stream",
       "stream": "stdout",
       "text": [
        "elapsed time: 6.409728828 seconds (4375636031 bytes allocated, 56.08% gc time)\n"
       ]
      },
      {
       "metadata": {},
       "output_type": "pyout",
       "prompt_number": 74,
       "text": [
        "1-element Array{Interval,1}:\n",
        " Interval(-3.001953125e+00 with 256 bits of precision,-2.99951171875e+00 with 256 bits of precision)"
       ]
      }
     ],
     "prompt_number": 74
    },
    {
     "cell_type": "heading",
     "level": 4,
     "metadata": {},
     "source": [
      "que es lo mismo de antes"
     ]
    },
    {
     "cell_type": "heading",
     "level": 1,
     "metadata": {},
     "source": [
      "ACTUALIZACI\u00d3N(13 DE ABRIL 2015): SE MEJORA LO ANTERIOR SI SE HACEN BISECCIONES RECURSIVAMENTE:"
     ]
    },
    {
     "cell_type": "code",
     "collapsed": false,
     "input": [
      "function  g(x)\n",
      "        (x+3)/(1+x^2)\n",
      "end\n",
      "\n",
      " x=Interval(-3.5,-1);\n",
      "\n",
      "evals=10;"
     ],
     "language": "python",
     "metadata": {},
     "outputs": [],
     "prompt_number": 30
    },
    {
     "cell_type": "code",
     "collapsed": false,
     "input": [
      "#deber\u00eda funcionar para muchas raices en un intervalo\n",
      "function roots(x::Interval,evals::Integer,g::Function)\n",
      "\n",
      "    x1=bisect(x);\n",
      "    \n",
      "    for  k=1:evals;\n",
      "    #r=50000;\n",
      "    #while r>tol\n",
      "\n",
      "            \n",
      "        y1=[g(x) for x in x1];\n",
      "        a=[];\n",
      "\n",
      "    \n",
      "        for i in 1:length(y1)    \n",
      "            B= 0 in y1[i]\n",
      "            a=cat(1,a,B)\n",
      "            #println(\"$B\",\"$i\")    \n",
      "        end\n",
      "\n",
      "\n",
      "                    if a==falses(length(a))\n",
      "                        println(\"Sorry, Mario. But our zero is in another castle\")            \n",
      "                        break                \n",
      "                    else\n",
      "                # rx=length(x1);\n",
      "                 # println(\"$x1\")            \n",
      "                        x1= [x1[find(a)]]              \n",
      "                    end\n",
      "\n",
      "        \n",
      "            #hacer la bisecci\u00f3n y guardarla\n",
      "            dummy=[]\n",
      "            for i in 1:length(x1)\n",
      "                dummy=cat(1,dummy,bisect(x1[i]))    \n",
      "            end\n",
      "            x1=dummy;\n",
      "            #r=abs(respuesta.hi-respuesta.lo);\n",
      "            #-----------ahora x1 es una lista de bisecciones donde probablemente hay un cero    \n",
      "    end\n",
      "            \n",
      "        respuesta=x1[1];\n",
      "        println(\"el cero puede estar en este intervalo:\")\n",
      "\n",
      "    \n",
      "                #prueba para ver si el cero es \u00fanico    \n",
      "                memuero=[g(DV(respuesta,1)).d]\n",
      "                lomero=[];\n",
      "\n",
      "                for i in 1:length(memuero)\n",
      "                    lomero=cat(1,lomero,[memuero[i].lo,memuero[i].hi])             \n",
      "                end\n",
      "\n",
      "                signosenlosextremos=[sign(lomero[i]) for i in 1:length(lomero)];\n",
      "\n",
      "                if signosenlosextremos==ones(length(signosenlosextremos))\n",
      "                    println(\"(y adem\u00e1s el cero en el intervalo es \u00fanico)\")\n",
      "                else\n",
      "                    println(\"(PERO el cero NO ES \u00daNICO en este intervalo)\")     \n",
      "                end\n",
      "                return respuesta \n",
      "\n",
      "end"
     ],
     "language": "python",
     "metadata": {},
     "outputs": [
      {
       "metadata": {},
       "output_type": "pyout",
       "prompt_number": 343,
       "text": [
        "roots (generic function with 1 method)"
       ]
      }
     ],
     "prompt_number": 343
    },
    {
     "cell_type": "code",
     "collapsed": false,
     "input": [
      "#deber\u00eda funcionar para muchas raices en un intervalo\n",
      "function roots2(x::Interval,evals::Integer,g::Function)\n",
      "\n",
      "    x1=bisect(x);\n",
      "    \n",
      "    for  k=1:evals;\n",
      "    #r=50000;\n",
      "    #while r>tol\n",
      "\n",
      "            \n",
      "        y1=[g(x) for x in x1];\n",
      "        a=[];\n",
      "\n",
      "    \n",
      "        for i in 1:length(y1)    \n",
      "            B= 0 in y1[i]\n",
      "            a=cat(1,a,B)\n",
      "            #println(\"$B\",\"$i\")    \n",
      "        end\n",
      "\n",
      "\n",
      "                    if a==falses(length(a))\n",
      "                        println(\"Sorry, Mario. But our zero is in another castle\")            \n",
      "                        break                \n",
      "                    else\n",
      "                # rx=length(x1);\n",
      "                 # println(\"$x1\")            \n",
      "                        x1= [x1[find(a)]]              \n",
      "                    end\n",
      "\n",
      "                respuesta=x1;\n",
      "\n",
      "            #hacer la bisecci\u00f3n y guardarla\n",
      "            dummy=[]\n",
      "            for i in 1:length(x1)\n",
      "                dummy=cat(1,dummy,bisect(x1[i]))    \n",
      "            end\n",
      "            x1=dummy;\n",
      "            #r=abs(respuesta.hi-respuesta.lo);\n",
      "            #-----------ahora x1 es una lista de bisecciones donde probablemente hay un cero    \n",
      "    end\n",
      "            \n",
      "        println(\"el cero puede estar en este intervalo:\")\n",
      "\n",
      "    \n",
      "                #prueba para ver si el cero es \u00fanico    \n",
      "                [g(DV(respuesta[i],1)).d for i in 1:length(respuesta)] \n",
      "                \n",
      "                lomero=[];\n",
      "\n",
      "                for i in 1:length(memuero)\n",
      "                    lomero=cat(1,lomero,[memuero[i].lo,memuero[i].hi])             \n",
      "                end\n",
      "\n",
      "                signosenlosextremos=[sign(lomero[i]) for i in 1:length(lomero)];\n",
      "\n",
      "                if signosenlosextremos==ones(length(signosenlosextremos))\n",
      "                    println(\"(y adem\u00e1s el cero en el intervalo es \u00fanico)\")\n",
      "                else\n",
      "                    println(\"(PERO el cero NO ES \u00daNICO en este intervalo)\")     \n",
      "                end\n",
      "                return respuesta \n",
      "\n",
      "end"
     ],
     "language": "python",
     "metadata": {},
     "outputs": [
      {
       "metadata": {},
       "output_type": "pyout",
       "prompt_number": 356,
       "text": [
        "roots2 (generic function with 1 method)"
       ]
      }
     ],
     "prompt_number": 356
    },
    {
     "cell_type": "heading",
     "level": 1,
     "metadata": {},
     "source": [
      "-----------------------------------------"
     ]
    },
    {
     "cell_type": "heading",
     "level": 1,
     "metadata": {},
     "source": [
      "Esta es la buena, en el sentido que puede encontrar varias ra\u00edces"
     ]
    },
    {
     "cell_type": "code",
     "collapsed": false,
     "input": [
      "\n",
      "function rootsvarias(x::Interval,evals::Integer,g::Function)\n",
      "\n",
      "    x1=bisect(x);\n",
      "\n",
      "    #r=50000;\n",
      "    #while r>tol\n",
      "    for  k=1:evals;\n",
      "    y1=[g(x) for x in x1];\n",
      "            a=[];\n",
      "\n",
      "\n",
      "\n",
      "        for i in 1:length(y1)    \n",
      "            B= 0 in y1[i]\n",
      "            a=cat(1,a,B)\n",
      "            #println(\"$B\",\"$i\")    \n",
      "            end\n",
      "\n",
      "\n",
      "        if a==falses(length(a))\n",
      "            println(\"Sorry, Mario. But our zero is in another castle\")            \n",
      "            break                \n",
      "        else\n",
      "            # rx=length(x1);\n",
      "            # println(\"$x1\")            \n",
      "            x1= [x1[find(a)]]              \n",
      "        end\n",
      "\n",
      "\n",
      "\n",
      "        respuesta=x1;\n",
      "\n",
      "                dummy=[];\n",
      "                for i in 1:length(x1)\n",
      "                    dummy=cat(1,dummy,bisect(x1[i]))      \n",
      "                end\n",
      "                x1=dummy;\n",
      "\n",
      "    end\n",
      "\n",
      "\n",
      "memuero=[g(DV(respuesta[i],1)).d for i in 1:length(respuesta)];\n",
      "\n",
      "signosenlosextremos=[sign(memuero[i].lo)==sign(memuero[i].hi) for i in 1:length(memuero)];\n",
      "\n",
      "\n",
      "                if signosenlosextremos==ones(length(signosenlosextremos))\n",
      "                    println(\"hay una sola ra\u00edz en cada uno de estos intervalos\")\n",
      "                    return respuesta[find(signosenlosextremos)]\n",
      "                else signosenlosextremos != ones(length(signosenlosextremos))\n",
      "                    println(\"hay una ra\u00edz en cada intervalo (PERO el cero NO ES \u00daNICO en cada uno)\")     \n",
      "                    return respuesta[find(~signosenlosextremos)]\n",
      "                end\n",
      "    \n",
      "end   "
     ],
     "language": "python",
     "metadata": {},
     "outputs": [
      {
       "metadata": {},
       "output_type": "pyout",
       "prompt_number": 361,
       "text": [
        "rootsvarias (generic function with 1 method)"
       ]
      }
     ],
     "prompt_number": 361
    },
    {
     "cell_type": "code",
     "collapsed": false,
     "input": [
      "@time roots(x,10,g)"
     ],
     "language": "python",
     "metadata": {},
     "outputs": [
      {
       "output_type": "stream",
       "stream": "stdout",
       "text": [
        "el cero puede estar en este intervalo:\n"
       ]
      },
      {
       "output_type": "stream",
       "stream": "stdout",
       "text": [
        "(PERO el cero NO ES \u00daNICO en este intervalo)\n",
        "elapsed time: 0.00969264 seconds (1371739 bytes allocated)\n"
       ]
      },
      {
       "metadata": {},
       "output_type": "pyout",
       "prompt_number": 357,
       "text": [
        "Interval(-1.001953125e+00 with 256 bits of precision,-1.00048828125e+00 with 256 bits of precision)"
       ]
      }
     ],
     "prompt_number": 357
    },
    {
     "cell_type": "code",
     "collapsed": false,
     "input": [
      "@time roots2(x,10,g)"
     ],
     "language": "python",
     "metadata": {},
     "outputs": [
      {
       "output_type": "stream",
       "stream": "stdout",
       "text": [
        "el cero puede estar en este intervalo:\n"
       ]
      },
      {
       "output_type": "stream",
       "stream": "stdout",
       "text": [
        "(PERO el cero NO ES \u00daNICO en este intervalo)\n",
        "elapsed time: 0.107850298 seconds (3964222 bytes allocated)\n"
       ]
      },
      {
       "metadata": {},
       "output_type": "pyout",
       "prompt_number": 358,
       "text": [
        "2-element Array{Interval,1}:\n",
        " Interval(-1.00000011920928955078125e+00 with 256 bits of precision,-9.99999940395355224609375e-01 with 256 bits of precision)\n",
        " Interval(9.99999940395355224609375e-01 with 256 bits of precision,1.00000011920928955078125e+00 with 256 bits of precision)  "
       ]
      }
     ],
     "prompt_number": 358
    },
    {
     "cell_type": "code",
     "collapsed": false,
     "input": [
      "@time findzeros2(x,10,g)"
     ],
     "language": "python",
     "metadata": {},
     "outputs": [
      {
       "output_type": "stream",
       "stream": "stdout",
       "text": [
        "el cero no es \u00fanico en este intervalo\n"
       ]
      },
      {
       "output_type": "stream",
       "stream": "stdout",
       "text": [
        "elapsed time: 7.438143199 seconds (4351703116 bytes allocated, 58.28% gc time)\n"
       ]
      },
      {
       "metadata": {},
       "output_type": "pyout",
       "prompt_number": 359,
       "text": [
        "2-element Array{Interval,1}:\n",
        " Interval(-1.001953125e+00 with 256 bits of precision,-9.990234375e-01 with 256 bits of precision)\n",
        " Interval(9.990234375e-01 with 256 bits of precision,1.001953125e+00 with 256 bits of precision)  "
       ]
      }
     ],
     "prompt_number": 359
    },
    {
     "cell_type": "code",
     "collapsed": false,
     "input": [
      "@time rootsvarias(x,10,g)"
     ],
     "language": "python",
     "metadata": {},
     "outputs": [
      {
       "output_type": "stream",
       "stream": "stdout",
       "text": [
        "el cero puede estar en este intervalo:\n"
       ]
      },
      {
       "output_type": "stream",
       "stream": "stdout",
       "text": [
        "(PERO el cero NO ES \u00daNICO en este intervalo)\n",
        "elapsed time: 0.010841329 seconds (1441950 bytes allocated)\n"
       ]
      },
      {
       "metadata": {},
       "output_type": "pyout",
       "prompt_number": 360,
       "text": [
        "2-element Array{Interval,1}:\n",
        " Interval(-1.00000011920928955078125e+00 with 256 bits of precision,-9.99999940395355224609375e-01 with 256 bits of precision)\n",
        " Interval(9.99999940395355224609375e-01 with 256 bits of precision,1.00000011920928955078125e+00 with 256 bits of precision)  "
       ]
      }
     ],
     "prompt_number": 360
    },
    {
     "cell_type": "code",
     "collapsed": false,
     "input": [
      "vemos que es mejor usar rootsvarias que findzeros2, en el sentido que es m\u00e1s r\u00e1pida y m\u00e1s precisab"
     ],
     "language": "python",
     "metadata": {},
     "outputs": []
    }
   ],
   "metadata": {}
  }
 ]
}